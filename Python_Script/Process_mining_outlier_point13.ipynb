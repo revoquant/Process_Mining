{
 "cells": [
  {
   "cell_type": "code",
   "execution_count": 2,
   "id": "399b8e0f-ec25-4546-93a8-f0c2a1523f8d",
   "metadata": {},
   "outputs": [],
   "source": [
    "import numpy as np\n",
    "import pandas as pd"
   ]
  },
  {
   "cell_type": "code",
   "execution_count": 3,
   "id": "b174938f-254d-479e-9c8a-6938216af864",
   "metadata": {},
   "outputs": [],
   "source": [
    "ekko = pd.read_csv(r\"E:\\Process_Mining\\Input_Files_(1yearData)\\EKKO Updated.csv\", encoding='utf-8', low_memory=False)\n",
    "ekpo = pd.read_csv(r\"E:\\Process_Mining\\Input_Files_(1yearData)\\EKPO FOR EDA 1.csv\", encoding='utf-8', low_memory=False)"
   ]
  },
  {
   "cell_type": "code",
   "execution_count": 4,
   "id": "19bde5ec-b17d-42bd-96ff-484aab7afd74",
   "metadata": {},
   "outputs": [],
   "source": [
    "ekko = ekko.astype(str)\n",
    "ekpo = ekpo.astype(str)"
   ]
  },
  {
   "cell_type": "code",
   "execution_count": 5,
   "id": "f8e85f0f-e2ed-4d93-b55b-053937840ee1",
   "metadata": {},
   "outputs": [],
   "source": [
    "# ekko.rename(columns={'AEDAT':'Created On_ekko'}, inplace=True)\n",
    "# ekpo.rename(columns={'MENGE':'PO_Quantity'}, inplace=True)"
   ]
  },
  {
   "cell_type": "code",
   "execution_count": 6,
   "id": "39a8f16e-544e-4fcd-9eb4-ad8a29986a13",
   "metadata": {},
   "outputs": [],
   "source": [
    "ekko = ekko[['EBELN', 'AEDAT']]"
   ]
  },
  {
   "cell_type": "code",
   "execution_count": 7,
   "id": "4fe844bd-ba01-41f1-beb1-ec6cc46f555d",
   "metadata": {},
   "outputs": [
    {
     "data": {
      "text/plain": [
       "0        23-04-2009\n",
       "1        26-04-2009\n",
       "2        03-05-2009\n",
       "3        03-06-2009\n",
       "4        23-09-2009\n",
       "            ...    \n",
       "10862    30-09-2024\n",
       "10863    30-09-2024\n",
       "10864    30-09-2024\n",
       "10865    30-09-2024\n",
       "10866    30-09-2024\n",
       "Name: AEDAT, Length: 10867, dtype: object"
      ]
     },
     "execution_count": 7,
     "metadata": {},
     "output_type": "execute_result"
    }
   ],
   "source": [
    "ekko['AEDAT']"
   ]
  },
  {
   "cell_type": "code",
   "execution_count": 8,
   "id": "618d1845-704b-42b8-8c76-3bf19bab62b5",
   "metadata": {},
   "outputs": [
    {
     "data": {
      "text/plain": [
       "array(['3100000073', '3100000079', '3100000090', ..., '6200034748',\n",
       "       '6200034749', '6200034750'], dtype=object)"
      ]
     },
     "execution_count": 8,
     "metadata": {},
     "output_type": "execute_result"
    }
   ],
   "source": [
    "ekko['EBELN'].unique()"
   ]
  },
  {
   "cell_type": "code",
   "execution_count": 9,
   "id": "8f729e75-edcc-466a-bcfc-240191d5b78c",
   "metadata": {},
   "outputs": [
    {
     "data": {
      "text/plain": [
       "array(['3100000073', '3100000079', '3100000090', ..., '6200034748',\n",
       "       '6200034749', '6200034750'], dtype=object)"
      ]
     },
     "execution_count": 9,
     "metadata": {},
     "output_type": "execute_result"
    }
   ],
   "source": [
    "ekpo['EBELN'].unique()"
   ]
  },
  {
   "cell_type": "code",
   "execution_count": 10,
   "id": "01ba6c2e-f6ae-4a52-8052-93cfd4a18e64",
   "metadata": {},
   "outputs": [],
   "source": [
    "ekko.drop_duplicates(subset='EBELN', inplace=True)"
   ]
  },
  {
   "cell_type": "code",
   "execution_count": 11,
   "id": "14610d1f-2e2d-4dc1-9285-c41a029a5040",
   "metadata": {},
   "outputs": [
    {
     "data": {
      "text/plain": [
       "(43901, 372)"
      ]
     },
     "execution_count": 11,
     "metadata": {},
     "output_type": "execute_result"
    }
   ],
   "source": [
    "ekpo.shape"
   ]
  },
  {
   "cell_type": "code",
   "execution_count": 12,
   "id": "f25d81bf-345b-4b77-a6a9-d9a1fde6ea5f",
   "metadata": {},
   "outputs": [],
   "source": [
    "ekpo_ekko = pd.merge(ekpo, ekko, on='EBELN', how='left', suffixes=(\"\",\"_ekko\")) "
   ]
  },
  {
   "cell_type": "code",
   "execution_count": 13,
   "id": "db54f72e-d875-4876-904b-4946d18ce592",
   "metadata": {},
   "outputs": [
    {
     "data": {
      "text/plain": [
       "(43901, 373)"
      ]
     },
     "execution_count": 13,
     "metadata": {},
     "output_type": "execute_result"
    }
   ],
   "source": [
    "ekpo_ekko.shape"
   ]
  },
  {
   "cell_type": "code",
   "execution_count": 14,
   "id": "aafe7de9-ff15-42c5-9a51-c0831be4fa7d",
   "metadata": {},
   "outputs": [],
   "source": [
    "# Join with EKET (by EBELN + EBELP) to get EINDT (required delivery date)\n",
    "eket = pd.read_csv(r\"E:\\Process_Mining\\Input_Files_(1yearData)\\EKET_forEDA1.csv\", encoding='utf-8', low_memory=False)"
   ]
  },
  {
   "cell_type": "code",
   "execution_count": 15,
   "id": "fdb76e26-3326-4a06-b12d-9735ab613706",
   "metadata": {},
   "outputs": [],
   "source": [
    "eket = eket[['EBELN', 'EBELP', 'EINDT']]"
   ]
  },
  {
   "cell_type": "code",
   "execution_count": 16,
   "id": "89cb1d3a-c3e5-41fb-9cf3-5c06299132a3",
   "metadata": {},
   "outputs": [],
   "source": [
    "eket['EBELN'] = eket['EBELN'].astype(str)\n",
    "eket['EBELP'] = eket['EBELP'].astype(str)"
   ]
  },
  {
   "cell_type": "code",
   "execution_count": 17,
   "id": "8f3429fc-eb1a-4099-9681-6482da93694b",
   "metadata": {},
   "outputs": [
    {
     "data": {
      "text/plain": [
       "array(['3100000073', '3100000079', '3100000090', ..., '6200034748',\n",
       "       '6200034749', '6200034750'], dtype=object)"
      ]
     },
     "execution_count": 17,
     "metadata": {},
     "output_type": "execute_result"
    }
   ],
   "source": [
    "eket['EBELN'].unique()"
   ]
  },
  {
   "cell_type": "code",
   "execution_count": 18,
   "id": "2af6bf6c-6f3c-485e-8198-d294c039d2ab",
   "metadata": {},
   "outputs": [
    {
     "data": {
      "text/plain": [
       "array(['1', '2', '3', '4', '5', '6', '7', '8', '9', '10', '11', '12',\n",
       "       '13', '14', '15', '16', '17', '18', '19', '20', '21', '22', '23',\n",
       "       '24', '25', '26', '27', '28', '29', '30', '31', '32', '33', '34',\n",
       "       '35', '36', '37', '38', '39', '40', '41', '42', '43', '44', '45',\n",
       "       '46', '47', '48', '49', '50', '51', '52', '53', '54', '55', '56',\n",
       "       '57', '58', '59', '60', '61', '62', '63', '64', '65', '66', '67',\n",
       "       '68', '69', '70', '71', '72', '73', '74', '75', '76', '77', '78',\n",
       "       '79', '80', '81', '82', '83', '84', '85', '86', '87', '88', '89',\n",
       "       '90', '91', '92', '93', '94', '95', '96', '97', '98', '99', '100',\n",
       "       '101', '102', '103', '104', '105', '106', '107', '108', '109',\n",
       "       '110', '111', '112', '113', '114', '115', '116', '117', '118',\n",
       "       '119', '120', '121', '122', '123', '124', '125', '126', '127',\n",
       "       '128', '129', '130', '131', '132', '133', '134', '135', '136',\n",
       "       '137', '138', '139', '140', '141', '142', '143', '144', '145',\n",
       "       '146', '147', '148', '149', '150', '151', '152', '153', '154',\n",
       "       '155', '156', '157', '158', '159', '160', '161', '162', '163',\n",
       "       '164', '165', '166', '167', '168', '169', '170', '171', '172',\n",
       "       '173', '174', '175', '176', '177', '178', '179', '180', '181',\n",
       "       '182', '183', '184', '185', '186', '187', '188', '189', '190',\n",
       "       '191', '192', '193', '194', '195', '196', '197', '198', '199',\n",
       "       '200', '201', '202', '203', '204', '205', '206', '207', '208',\n",
       "       '209', '210', '211', '212', '213', '214', '215', '216', '217',\n",
       "       '218', '219', '220', '221', '222', '223', '224', '225', '226',\n",
       "       '227', '228', '229', '230', '231', '232', '233', '234', '235',\n",
       "       '236', '237', '238', '239', '240', '241', '242', '243', '244',\n",
       "       '245', '246', '247', '248', '249', '250', '251', '252', '253',\n",
       "       '254', '255'], dtype=object)"
      ]
     },
     "execution_count": 18,
     "metadata": {},
     "output_type": "execute_result"
    }
   ],
   "source": [
    "eket['EBELP'].unique()"
   ]
  },
  {
   "cell_type": "code",
   "execution_count": 19,
   "id": "e859e190-0e2c-49ef-b0a8-4db019b7010f",
   "metadata": {},
   "outputs": [
    {
     "data": {
      "text/plain": [
       "array(['3100000073', '3100000079', '3100000090', ..., '6200034748',\n",
       "       '6200034749', '6200034750'], dtype=object)"
      ]
     },
     "execution_count": 19,
     "metadata": {},
     "output_type": "execute_result"
    }
   ],
   "source": [
    "ekpo_ekko['EBELN'].unique()"
   ]
  },
  {
   "cell_type": "code",
   "execution_count": 20,
   "id": "02bf49b5-6da9-40f6-9bf0-3ce4d5423d0e",
   "metadata": {
    "scrolled": true
   },
   "outputs": [
    {
     "data": {
      "text/plain": [
       "array(['2', '3', '1', '4', '5', '6', '7', '8', '9', '10', '11', '12',\n",
       "       '13', '14', '15', '16', '17', '18', '19', '20', '21', '22', '23',\n",
       "       '24', '25', '26', '27', '28', '29', '30', '31', '32', '33', '34',\n",
       "       '35', '36', '37', '38', '39', '40', '41', '42', '43', '44', '45',\n",
       "       '46', '47', '48', '49', '50', '51', '52', '53', '54', '55', '56',\n",
       "       '57', '58', '59', '60', '61', '62', '63', '64', '65', '66', '67',\n",
       "       '68', '69', '70', '71', '72', '73', '74', '75', '76', '77', '78',\n",
       "       '79', '80', '81', '82', '83', '84', '85', '86', '87', '88', '89',\n",
       "       '90', '91', '92', '93', '94', '95', '96', '97', '98', '99', '100',\n",
       "       '101', '102', '103', '104', '105', '106', '107', '108', '109',\n",
       "       '110', '111', '112', '113', '114', '115', '116', '117', '118',\n",
       "       '119', '120', '121', '122', '123', '124', '125', '126', '127',\n",
       "       '128', '129', '130', '131', '132', '133', '134', '135', '136',\n",
       "       '137', '138', '139', '140', '141', '142', '143', '144', '145',\n",
       "       '146', '147', '148', '149', '150', '151', '152', '153', '154',\n",
       "       '155', '156', '157', '158', '159', '160', '161', '162', '163',\n",
       "       '164', '165', '166', '167', '168', '169', '170', '171', '172',\n",
       "       '173', '174', '175', '176', '177', '178', '179', '180', '181',\n",
       "       '182', '183', '184', '185', '186', '187', '188', '189', '190',\n",
       "       '191', '192', '193', '194', '195', '196', '197', '198', '199',\n",
       "       '200', '201', '202', '203', '204', '205', '206', '207', '208',\n",
       "       '209', '210', '211', '212', '213', '214', '215', '216', '217',\n",
       "       '218', '219', '220', '221', '222', '223', '224', '225', '226',\n",
       "       '227', '228', '229', '230', '231', '232', '233', '234', '235',\n",
       "       '236', '237', '238', '239', '240', '241', '242', '243', '244',\n",
       "       '245', '246', '247', '248', '249', '250', '251', '252', '253',\n",
       "       '254', '255'], dtype=object)"
      ]
     },
     "execution_count": 20,
     "metadata": {},
     "output_type": "execute_result"
    }
   ],
   "source": [
    "ekpo_ekko['EBELP'].unique()"
   ]
  },
  {
   "cell_type": "code",
   "execution_count": 21,
   "id": "536640d3-edeb-4095-9103-b0906c7a87b5",
   "metadata": {},
   "outputs": [
    {
     "data": {
      "text/plain": [
       "(43901, 373)"
      ]
     },
     "execution_count": 21,
     "metadata": {},
     "output_type": "execute_result"
    }
   ],
   "source": [
    "ekpo_ekko.shape"
   ]
  },
  {
   "cell_type": "code",
   "execution_count": 22,
   "id": "e6058d94-d459-4c60-a09e-76b8cf0b1862",
   "metadata": {},
   "outputs": [],
   "source": [
    "ekpo_ekko_eket = pd.merge(\n",
    "    ekpo_ekko,\n",
    "    eket[['EBELN', 'EBELP', 'EINDT']],\n",
    "    on=['EBELN', 'EBELP'],\n",
    "    how='left'\n",
    ")"
   ]
  },
  {
   "cell_type": "code",
   "execution_count": 23,
   "id": "fb657826-51ee-410e-84a6-b645e93280f1",
   "metadata": {},
   "outputs": [
    {
     "data": {
      "text/plain": [
       "(43901, 374)"
      ]
     },
     "execution_count": 23,
     "metadata": {},
     "output_type": "execute_result"
    }
   ],
   "source": [
    "ekpo_ekko_eket.shape"
   ]
  },
  {
   "cell_type": "code",
   "execution_count": 24,
   "id": "26847847-cfa7-4683-b2fd-cdf553bb9440",
   "metadata": {},
   "outputs": [
    {
     "data": {
      "text/plain": [
       "array(['23-04-2009', '26-04-2009', '03-05-2009', ..., '14-07-2024',\n",
       "       '14-10-2023', '21-10-2023'], dtype=object)"
      ]
     },
     "execution_count": 24,
     "metadata": {},
     "output_type": "execute_result"
    }
   ],
   "source": [
    "ekpo_ekko_eket['AEDAT_ekko'].unique()"
   ]
  },
  {
   "cell_type": "code",
   "execution_count": 25,
   "id": "6a371c98-06da-4a98-abcf-1cd958ab4bf7",
   "metadata": {},
   "outputs": [
    {
     "data": {
      "text/plain": [
       "array(['15-08-2009', '05-05-2009', '17-05-2009', ..., '25-12-2024',\n",
       "       '21-12-2024', '27-12-2024'], dtype=object)"
      ]
     },
     "execution_count": 25,
     "metadata": {},
     "output_type": "execute_result"
    }
   ],
   "source": [
    "ekpo_ekko_eket['EINDT'].unique()"
   ]
  },
  {
   "cell_type": "code",
   "execution_count": 26,
   "id": "09a65524-866e-48a9-9456-6a2f98483842",
   "metadata": {},
   "outputs": [
    {
     "name": "stderr",
     "output_type": "stream",
     "text": [
      "C:\\Users\\HIMANSHU SURYAVANSHI\\AppData\\Local\\Temp\\ipykernel_14880\\2329221242.py:1: UserWarning: Parsing dates in %d-%m-%Y format when dayfirst=False (the default) was specified. Pass `dayfirst=True` or specify a format to silence this warning.\n",
      "  ekpo_ekko_eket['AEDAT_ekko'] = pd.to_datetime(ekpo_ekko_eket['AEDAT_ekko'], errors='coerce', dayfirst=False)\n",
      "C:\\Users\\HIMANSHU SURYAVANSHI\\AppData\\Local\\Temp\\ipykernel_14880\\2329221242.py:2: UserWarning: Parsing dates in %d-%m-%Y format when dayfirst=False (the default) was specified. Pass `dayfirst=True` or specify a format to silence this warning.\n",
      "  ekpo_ekko_eket['EINDT'] = pd.to_datetime(ekpo_ekko_eket['EINDT'], errors='coerce', dayfirst=False)\n"
     ]
    }
   ],
   "source": [
    "ekpo_ekko_eket['AEDAT_ekko'] = pd.to_datetime(ekpo_ekko_eket['AEDAT_ekko'], errors='coerce', dayfirst=False)\n",
    "ekpo_ekko_eket['EINDT'] = pd.to_datetime(ekpo_ekko_eket['EINDT'], errors='coerce', dayfirst=False)"
   ]
  },
  {
   "cell_type": "code",
   "execution_count": 27,
   "id": "0124e5d7-aa85-4917-abc8-f2233ce0e8d3",
   "metadata": {},
   "outputs": [
    {
     "data": {
      "text/plain": [
       "<DatetimeArray>\n",
       "['2009-04-23 00:00:00', '2009-04-26 00:00:00', '2009-05-03 00:00:00',\n",
       " '2009-06-03 00:00:00', '2009-09-23 00:00:00', '2009-10-18 00:00:00',\n",
       " '2009-10-26 00:00:00', '2009-10-29 00:00:00', '2009-11-03 00:00:00',\n",
       " '2009-11-10 00:00:00',\n",
       " ...\n",
       " '2024-06-09 00:00:00', '2024-06-16 00:00:00', '2024-06-22 00:00:00',\n",
       " '2024-06-23 00:00:00', '2024-06-29 00:00:00', '2024-06-30 00:00:00',\n",
       " '2024-07-13 00:00:00', '2024-07-14 00:00:00', '2023-10-14 00:00:00',\n",
       " '2023-10-21 00:00:00']\n",
       "Length: 1893, dtype: datetime64[ns]"
      ]
     },
     "execution_count": 27,
     "metadata": {},
     "output_type": "execute_result"
    }
   ],
   "source": [
    "ekpo_ekko_eket['AEDAT_ekko'].unique()"
   ]
  },
  {
   "cell_type": "code",
   "execution_count": 28,
   "id": "62819dc7-6664-4439-9012-c80cd28c6232",
   "metadata": {},
   "outputs": [
    {
     "data": {
      "text/plain": [
       "<DatetimeArray>\n",
       "['2009-08-15 00:00:00', '2009-05-05 00:00:00', '2009-05-17 00:00:00',\n",
       " '2009-07-15 00:00:00', '2009-07-30 00:00:00', '2009-08-31 00:00:00',\n",
       " '2010-08-05 00:00:00', '2009-10-28 00:00:00', '2009-10-06 00:00:00',\n",
       " '2009-11-01 00:00:00',\n",
       " ...\n",
       " '2024-01-28 00:00:00', '2024-03-24 00:00:00', '2025-03-24 00:00:00',\n",
       " '2024-04-21 00:00:00', '2024-07-27 00:00:00', '2025-01-31 00:00:00',\n",
       " '2025-10-20 00:00:00', '2024-12-25 00:00:00', '2024-12-21 00:00:00',\n",
       " '2024-12-27 00:00:00']\n",
       "Length: 2727, dtype: datetime64[ns]"
      ]
     },
     "execution_count": 28,
     "metadata": {},
     "output_type": "execute_result"
    }
   ],
   "source": [
    "ekpo_ekko_eket['EINDT'].unique()"
   ]
  },
  {
   "cell_type": "code",
   "execution_count": 29,
   "id": "98ec9ced-eac5-4e2d-a94d-4cc01851916f",
   "metadata": {},
   "outputs": [],
   "source": [
    "ekpo_ekko_eket['Ideal_time(In days)'] = (ekpo_ekko_eket['EINDT'] - ekpo_ekko_eket['AEDAT_ekko']).dt.days"
   ]
  },
  {
   "cell_type": "code",
   "execution_count": 30,
   "id": "809c43c3-3e26-421b-8c82-f9b73b6ab115",
   "metadata": {},
   "outputs": [
    {
     "data": {
      "text/plain": [
       "array([114.,   9.,  14., ...,  nan, 729., 471.])"
      ]
     },
     "execution_count": 30,
     "metadata": {},
     "output_type": "execute_result"
    }
   ],
   "source": [
    "ekpo_ekko_eket['Ideal_time(In days)'].unique()"
   ]
  },
  {
   "cell_type": "code",
   "execution_count": 31,
   "id": "76782d00-cc80-4d15-aae9-11e0a87be048",
   "metadata": {},
   "outputs": [
    {
     "data": {
      "text/plain": [
       "0        114.0\n",
       "1          9.0\n",
       "2         14.0\n",
       "3         42.0\n",
       "4         57.0\n",
       "         ...  \n",
       "43896     15.0\n",
       "43897     15.0\n",
       "43898     30.0\n",
       "43899     15.0\n",
       "43900     30.0\n",
       "Name: Ideal_time(In days), Length: 43901, dtype: float64"
      ]
     },
     "execution_count": 31,
     "metadata": {},
     "output_type": "execute_result"
    }
   ],
   "source": [
    "ekpo_ekko_eket['Ideal_time(In days)']"
   ]
  },
  {
   "cell_type": "code",
   "execution_count": 32,
   "id": "8a13d88d-42b1-42e9-9a4f-7c398c951a2a",
   "metadata": {},
   "outputs": [],
   "source": [
    "ekbe = pd.read_csv(r\"E:\\Process_Mining\\Input_Files_(1yearData)\\EKBE (1).csv\", encoding='utf-8', low_memory=False)"
   ]
  },
  {
   "cell_type": "code",
   "execution_count": 33,
   "id": "224222c1-54a5-42ff-a1c8-d793115b1121",
   "metadata": {},
   "outputs": [],
   "source": [
    "ekbe['BEWTP'] = ekbe['BEWTP'].astype(str).str.strip().str.upper()\n",
    "ekbe['BWART'] = ekbe['BWART'].astype(str).str.strip()"
   ]
  },
  {
   "cell_type": "code",
   "execution_count": 34,
   "id": "4e20984d-a248-481c-bb47-10a65c076ec5",
   "metadata": {},
   "outputs": [
    {
     "data": {
      "text/plain": [
       "array(['D', 'E', 'Q', 'A', '1', '2', '3', 'N', 'T'], dtype=object)"
      ]
     },
     "execution_count": 34,
     "metadata": {},
     "output_type": "execute_result"
    }
   ],
   "source": [
    "ekbe['BEWTP'].unique()"
   ]
  },
  {
   "cell_type": "code",
   "execution_count": 35,
   "id": "c1d06550-e08b-4d2e-92f7-11710844e97c",
   "metadata": {},
   "outputs": [
    {
     "data": {
      "text/plain": [
       "array(['nan', '101.0', '102.0', '105.0', '103.0', '104.0', '106.0',\n",
       "       '122.0'], dtype=object)"
      ]
     },
     "execution_count": 35,
     "metadata": {},
     "output_type": "execute_result"
    }
   ],
   "source": [
    "ekbe['BWART'].unique()"
   ]
  },
  {
   "cell_type": "code",
   "execution_count": 36,
   "id": "1c2693c3-de5b-4bb4-ad9d-b5f8c645290b",
   "metadata": {},
   "outputs": [],
   "source": [
    "ekbe['BWART'] = ekbe['BWART'].astype(str).str.replace(r'\\.0$', '', regex=True)"
   ]
  },
  {
   "cell_type": "code",
   "execution_count": 37,
   "id": "7d30daaa-7175-4ffc-9dd1-73b37a56d4e6",
   "metadata": {},
   "outputs": [
    {
     "data": {
      "text/plain": [
       "array(['nan', '101', '102', '105', '103', '104', '106', '122'],\n",
       "      dtype=object)"
      ]
     },
     "execution_count": 37,
     "metadata": {},
     "output_type": "execute_result"
    }
   ],
   "source": [
    "ekbe['BWART'].unique()"
   ]
  },
  {
   "cell_type": "code",
   "execution_count": 38,
   "id": "ddf651fc-d1ed-4d62-9e44-11b39919ed61",
   "metadata": {},
   "outputs": [
    {
     "data": {
      "text/plain": [
       "(231942, 93)"
      ]
     },
     "execution_count": 38,
     "metadata": {},
     "output_type": "execute_result"
    }
   ],
   "source": [
    "ekbe.shape"
   ]
  },
  {
   "cell_type": "code",
   "execution_count": 39,
   "id": "c0a58a56-5310-498f-b9bc-af1577c5d851",
   "metadata": {},
   "outputs": [],
   "source": [
    "ekbe = ekbe[ekbe['BEWTP'] == 'E']"
   ]
  },
  {
   "cell_type": "code",
   "execution_count": 40,
   "id": "bacd16d6-46bf-4aed-b0f9-edaeb1a90b88",
   "metadata": {},
   "outputs": [
    {
     "data": {
      "text/plain": [
       "(121913, 93)"
      ]
     },
     "execution_count": 40,
     "metadata": {},
     "output_type": "execute_result"
    }
   ],
   "source": [
    "ekbe.shape"
   ]
  },
  {
   "cell_type": "code",
   "execution_count": 41,
   "id": "28d0bd07-2b7b-40c0-8b5c-4a55d46483b6",
   "metadata": {},
   "outputs": [],
   "source": [
    "ekbe = ekbe[ekbe['BWART'].astype(str).isin(['101', '102'])]"
   ]
  },
  {
   "cell_type": "code",
   "execution_count": 42,
   "id": "39542e57-2151-42a7-8b73-e120302a31cb",
   "metadata": {},
   "outputs": [
    {
     "data": {
      "text/plain": [
       "(53303, 93)"
      ]
     },
     "execution_count": 42,
     "metadata": {},
     "output_type": "execute_result"
    }
   ],
   "source": [
    "ekbe.shape"
   ]
  },
  {
   "cell_type": "code",
   "execution_count": 43,
   "id": "e3f197ba-dd3f-4ce4-b777-aad0e17b3767",
   "metadata": {},
   "outputs": [
    {
     "data": {
      "text/plain": [
       "array(['E'], dtype=object)"
      ]
     },
     "execution_count": 43,
     "metadata": {},
     "output_type": "execute_result"
    }
   ],
   "source": [
    "ekbe['BEWTP'].unique()"
   ]
  },
  {
   "cell_type": "code",
   "execution_count": 44,
   "id": "d8cbf2e4-3c30-4387-9e43-1c4a916749c4",
   "metadata": {},
   "outputs": [
    {
     "data": {
      "text/plain": [
       "array(['101', '102'], dtype=object)"
      ]
     },
     "execution_count": 44,
     "metadata": {},
     "output_type": "execute_result"
    }
   ],
   "source": [
    "ekbe['BWART'].unique()"
   ]
  },
  {
   "cell_type": "code",
   "execution_count": 45,
   "id": "c8c36e5d-40b7-4ac1-9ea3-1285529628af",
   "metadata": {},
   "outputs": [
    {
     "data": {
      "text/plain": [
       "array(['21-12-2009', '31-12-2009', '31-03-2010', ..., '23-06-2024',\n",
       "       '26-05-2024', '22-12-2024'], dtype=object)"
      ]
     },
     "execution_count": 45,
     "metadata": {},
     "output_type": "execute_result"
    }
   ],
   "source": [
    "ekbe['BUDAT'].unique()"
   ]
  },
  {
   "cell_type": "code",
   "execution_count": 46,
   "id": "4730608f-4cef-4081-b8d6-fc48dc3de53c",
   "metadata": {},
   "outputs": [
    {
     "name": "stderr",
     "output_type": "stream",
     "text": [
      "C:\\Users\\HIMANSHU SURYAVANSHI\\AppData\\Local\\Temp\\ipykernel_14880\\856403856.py:2: UserWarning: Parsing dates in %d-%m-%Y format when dayfirst=False (the default) was specified. Pass `dayfirst=True` or specify a format to silence this warning.\n",
      "  ekbe['BUDAT'] = pd.to_datetime(ekbe['BUDAT'], errors='coerce', dayfirst=False)\n"
     ]
    }
   ],
   "source": [
    "# parse posting date column BUDAT -> may need dayfirst depending on format\n",
    "ekbe['BUDAT'] = pd.to_datetime(ekbe['BUDAT'], errors='coerce', dayfirst=False)"
   ]
  },
  {
   "cell_type": "code",
   "execution_count": 47,
   "id": "4c821b78-b8d4-42c2-b838-dc3f70606963",
   "metadata": {},
   "outputs": [
    {
     "data": {
      "text/plain": [
       "<DatetimeArray>\n",
       "['2009-12-21 00:00:00', '2009-12-31 00:00:00', '2010-03-31 00:00:00',\n",
       " '2010-06-30 00:00:00', '2009-07-05 00:00:00', '2012-07-22 00:00:00',\n",
       " '2012-02-08 00:00:00', '2009-10-27 00:00:00', '2011-09-26 00:00:00',\n",
       " '2010-09-20 00:00:00',\n",
       " ...\n",
       " '2024-12-31 00:00:00', '2024-12-29 00:00:00', '2023-12-09 00:00:00',\n",
       " '2024-01-06 00:00:00', '2024-05-05 00:00:00', '2024-04-11 00:00:00',\n",
       " '2024-02-10 00:00:00', '2024-06-23 00:00:00', '2024-05-26 00:00:00',\n",
       " '2024-12-22 00:00:00']\n",
       "Length: 3130, dtype: datetime64[ns]"
      ]
     },
     "execution_count": 47,
     "metadata": {},
     "output_type": "execute_result"
    }
   ],
   "source": [
    "ekbe['BUDAT'].unique()"
   ]
  },
  {
   "cell_type": "code",
   "execution_count": 48,
   "id": "4136c98c-e7a4-4c4e-8150-c5c1477a5595",
   "metadata": {},
   "outputs": [
    {
     "data": {
      "text/plain": [
       "array([3100000073, 3100000079, 3100000090, ..., 6200034741, 6200034742,\n",
       "       6200034746])"
      ]
     },
     "execution_count": 48,
     "metadata": {},
     "output_type": "execute_result"
    }
   ],
   "source": [
    "ekbe['EBELN'].unique()"
   ]
  },
  {
   "cell_type": "code",
   "execution_count": 49,
   "id": "63d49e6c-b1cf-4617-91d3-c97ba89b9a9c",
   "metadata": {
    "scrolled": true
   },
   "outputs": [
    {
     "data": {
      "text/plain": [
       "array([  2,   3,   1,   4,   5,   6,   7,   8,   9,  10,  11,  12,  13,\n",
       "        14,  15,  16,  17,  18,  19,  20,  21,  23,  24,  25,  26,  27,\n",
       "        28,  29,  30,  31,  32,  33,  34,  36,  37,  38,  22,  35,  39,\n",
       "        40,  41,  42,  43,  44,  45,  46,  47,  48,  49,  50,  51,  52,\n",
       "        53,  54,  55,  56,  57,  59,  60,  63,  64,  65,  66,  67,  68,\n",
       "        69,  70,  58,  61,  62,  71,  72,  73,  74,  75,  76,  77,  78,\n",
       "        79,  80,  81,  82,  83,  84,  85,  86,  87,  88,  89,  90,  91,\n",
       "        92,  93,  94,  95,  96,  97,  98,  99, 100, 101, 102, 103, 104,\n",
       "       105, 106, 107, 108, 109, 110, 111, 112, 113, 114, 115, 116, 117,\n",
       "       118, 119, 120, 121, 122, 123, 124, 125, 126, 127, 128, 129, 130,\n",
       "       131, 132, 133, 134, 135, 136, 137, 138, 139, 140, 141, 142, 143,\n",
       "       144, 145, 146, 147, 148, 149, 150, 151, 152, 153, 154, 155, 156,\n",
       "       157, 158, 159, 160, 161, 162, 163, 164, 165, 166, 167, 168, 169,\n",
       "       170, 171, 172, 173, 174, 175, 176, 177, 178, 179, 180, 181, 182,\n",
       "       183, 184, 185, 186, 187, 188, 189, 190, 191, 192, 193, 194, 195,\n",
       "       196, 197, 198, 199, 200, 201, 202, 203, 204, 205, 206, 207, 208,\n",
       "       209, 210, 211, 212, 213, 214, 215, 216, 217, 218, 219, 220, 221,\n",
       "       222, 223, 224, 225, 226, 227, 228, 229, 230])"
      ]
     },
     "execution_count": 49,
     "metadata": {},
     "output_type": "execute_result"
    }
   ],
   "source": [
    "ekbe['EBELP'].unique()"
   ]
  },
  {
   "cell_type": "code",
   "execution_count": 50,
   "id": "c32110c4-8b03-414b-8016-c0fedef0656c",
   "metadata": {},
   "outputs": [],
   "source": [
    "ekbe['EBELN'] = ekbe['EBELN'].astype(str)\n",
    "ekbe['EBELP'] = ekbe['EBELP'].astype(str)"
   ]
  },
  {
   "cell_type": "code",
   "execution_count": 51,
   "id": "562ff172-6dc5-4a62-859c-6a19e5bf07ad",
   "metadata": {},
   "outputs": [],
   "source": [
    "# earliest posting date per EBELN+EBELP (this will be used as GRN date)\n",
    "ekbe_earliest = (\n",
    "    ekbe\n",
    "    .dropna(subset=['BUDAT'])\n",
    "    .groupby(['EBELN', 'EBELP'], as_index=False)['BUDAT']\n",
    "    .min()\n",
    "    .rename(columns={'BUDAT': 'GRN_date'})\n",
    ")"
   ]
  },
  {
   "cell_type": "code",
   "execution_count": 52,
   "id": "9cf63228-d7d4-4a13-8241-c129bb88cfe6",
   "metadata": {},
   "outputs": [
    {
     "data": {
      "text/html": [
       "<div>\n",
       "<style scoped>\n",
       "    .dataframe tbody tr th:only-of-type {\n",
       "        vertical-align: middle;\n",
       "    }\n",
       "\n",
       "    .dataframe tbody tr th {\n",
       "        vertical-align: top;\n",
       "    }\n",
       "\n",
       "    .dataframe thead th {\n",
       "        text-align: right;\n",
       "    }\n",
       "</style>\n",
       "<table border=\"1\" class=\"dataframe\">\n",
       "  <thead>\n",
       "    <tr style=\"text-align: right;\">\n",
       "      <th></th>\n",
       "      <th>EBELN</th>\n",
       "      <th>EBELP</th>\n",
       "      <th>GRN_date</th>\n",
       "    </tr>\n",
       "  </thead>\n",
       "  <tbody>\n",
       "    <tr>\n",
       "      <th>0</th>\n",
       "      <td>3100000073</td>\n",
       "      <td>2</td>\n",
       "      <td>2009-12-21</td>\n",
       "    </tr>\n",
       "    <tr>\n",
       "      <th>1</th>\n",
       "      <td>3100000079</td>\n",
       "      <td>2</td>\n",
       "      <td>2009-07-05</td>\n",
       "    </tr>\n",
       "    <tr>\n",
       "      <th>2</th>\n",
       "      <td>3100000090</td>\n",
       "      <td>2</td>\n",
       "      <td>2012-02-08</td>\n",
       "    </tr>\n",
       "    <tr>\n",
       "      <th>3</th>\n",
       "      <td>3100000135</td>\n",
       "      <td>2</td>\n",
       "      <td>2009-10-27</td>\n",
       "    </tr>\n",
       "    <tr>\n",
       "      <th>4</th>\n",
       "      <td>3100000135</td>\n",
       "      <td>3</td>\n",
       "      <td>2011-09-26</td>\n",
       "    </tr>\n",
       "  </tbody>\n",
       "</table>\n",
       "</div>"
      ],
      "text/plain": [
       "        EBELN EBELP   GRN_date\n",
       "0  3100000073     2 2009-12-21\n",
       "1  3100000079     2 2009-07-05\n",
       "2  3100000090     2 2012-02-08\n",
       "3  3100000135     2 2009-10-27\n",
       "4  3100000135     3 2011-09-26"
      ]
     },
     "execution_count": 52,
     "metadata": {},
     "output_type": "execute_result"
    }
   ],
   "source": [
    "ekbe_earliest.head()"
   ]
  },
  {
   "cell_type": "code",
   "execution_count": 53,
   "id": "c77c0277-f815-4703-b23f-463d6729fe8f",
   "metadata": {},
   "outputs": [
    {
     "data": {
      "text/plain": [
       "<DatetimeArray>\n",
       "['2009-12-21 00:00:00', '2009-07-05 00:00:00', '2012-02-08 00:00:00',\n",
       " '2009-10-27 00:00:00', '2011-09-26 00:00:00', '2010-09-20 00:00:00',\n",
       " '2010-02-01 00:00:00', '2010-06-30 00:00:00', '2010-03-10 00:00:00',\n",
       " '2009-12-31 00:00:00',\n",
       " ...\n",
       " '2024-01-06 00:00:00', '2024-08-04 00:00:00', '2024-05-05 00:00:00',\n",
       " '2024-02-18 00:00:00', '2024-04-11 00:00:00', '2024-02-10 00:00:00',\n",
       " '2024-06-23 00:00:00', '2024-05-11 00:00:00', '2024-05-26 00:00:00',\n",
       " '2024-12-22 00:00:00']\n",
       "Length: 2348, dtype: datetime64[ns]"
      ]
     },
     "execution_count": 53,
     "metadata": {},
     "output_type": "execute_result"
    }
   ],
   "source": [
    "ekbe_earliest['GRN_date'].unique()"
   ]
  },
  {
   "cell_type": "code",
   "execution_count": 54,
   "id": "f9547761-02ad-4189-90b2-dce35c98f3f5",
   "metadata": {},
   "outputs": [
    {
     "data": {
      "text/plain": [
       "(43901, 375)"
      ]
     },
     "execution_count": 54,
     "metadata": {},
     "output_type": "execute_result"
    }
   ],
   "source": [
    "ekpo_ekko_eket.shape"
   ]
  },
  {
   "cell_type": "code",
   "execution_count": 55,
   "id": "c9874fe6-da50-4491-891a-b78938507b7e",
   "metadata": {},
   "outputs": [
    {
     "data": {
      "text/plain": [
       "(12595, 3)"
      ]
     },
     "execution_count": 55,
     "metadata": {},
     "output_type": "execute_result"
    }
   ],
   "source": [
    "ekbe_earliest.shape"
   ]
  },
  {
   "cell_type": "code",
   "execution_count": 56,
   "id": "54fa8a12-022f-43ee-8923-618a64f3c69f",
   "metadata": {},
   "outputs": [
    {
     "data": {
      "text/plain": [
       "array(['3100000073', '3100000079', '3100000090', ..., '6200034748',\n",
       "       '6200034749', '6200034750'], dtype=object)"
      ]
     },
     "execution_count": 56,
     "metadata": {},
     "output_type": "execute_result"
    }
   ],
   "source": [
    "ekpo_ekko_eket['EBELN'].unique()"
   ]
  },
  {
   "cell_type": "code",
   "execution_count": 57,
   "id": "6402e6b0-5025-4aa4-81dd-0f6941e6f692",
   "metadata": {
    "scrolled": true
   },
   "outputs": [
    {
     "data": {
      "text/plain": [
       "array(['2', '3', '1', '4', '5', '6', '7', '8', '9', '10', '11', '12',\n",
       "       '13', '14', '15', '16', '17', '18', '19', '20', '21', '22', '23',\n",
       "       '24', '25', '26', '27', '28', '29', '30', '31', '32', '33', '34',\n",
       "       '35', '36', '37', '38', '39', '40', '41', '42', '43', '44', '45',\n",
       "       '46', '47', '48', '49', '50', '51', '52', '53', '54', '55', '56',\n",
       "       '57', '58', '59', '60', '61', '62', '63', '64', '65', '66', '67',\n",
       "       '68', '69', '70', '71', '72', '73', '74', '75', '76', '77', '78',\n",
       "       '79', '80', '81', '82', '83', '84', '85', '86', '87', '88', '89',\n",
       "       '90', '91', '92', '93', '94', '95', '96', '97', '98', '99', '100',\n",
       "       '101', '102', '103', '104', '105', '106', '107', '108', '109',\n",
       "       '110', '111', '112', '113', '114', '115', '116', '117', '118',\n",
       "       '119', '120', '121', '122', '123', '124', '125', '126', '127',\n",
       "       '128', '129', '130', '131', '132', '133', '134', '135', '136',\n",
       "       '137', '138', '139', '140', '141', '142', '143', '144', '145',\n",
       "       '146', '147', '148', '149', '150', '151', '152', '153', '154',\n",
       "       '155', '156', '157', '158', '159', '160', '161', '162', '163',\n",
       "       '164', '165', '166', '167', '168', '169', '170', '171', '172',\n",
       "       '173', '174', '175', '176', '177', '178', '179', '180', '181',\n",
       "       '182', '183', '184', '185', '186', '187', '188', '189', '190',\n",
       "       '191', '192', '193', '194', '195', '196', '197', '198', '199',\n",
       "       '200', '201', '202', '203', '204', '205', '206', '207', '208',\n",
       "       '209', '210', '211', '212', '213', '214', '215', '216', '217',\n",
       "       '218', '219', '220', '221', '222', '223', '224', '225', '226',\n",
       "       '227', '228', '229', '230', '231', '232', '233', '234', '235',\n",
       "       '236', '237', '238', '239', '240', '241', '242', '243', '244',\n",
       "       '245', '246', '247', '248', '249', '250', '251', '252', '253',\n",
       "       '254', '255'], dtype=object)"
      ]
     },
     "execution_count": 57,
     "metadata": {},
     "output_type": "execute_result"
    }
   ],
   "source": [
    "ekpo_ekko_eket['EBELP'].unique()"
   ]
  },
  {
   "cell_type": "code",
   "execution_count": 58,
   "id": "1ae70748-f909-4cb8-8335-99129c1e6771",
   "metadata": {},
   "outputs": [],
   "source": [
    "ekpo_ekko_eket['EBELN'] = ekpo_ekko_eket['EBELN'].astype(str)\n",
    "ekpo_ekko_eket['EBELP'] = ekpo_ekko_eket['EBELP'].astype(str)"
   ]
  },
  {
   "cell_type": "code",
   "execution_count": 59,
   "id": "2346f8e5-522b-43fa-9868-c138092dc6e3",
   "metadata": {},
   "outputs": [],
   "source": [
    "# -----------------------\n",
    "# Step 5: Join earliest GRN_date with main DF and compute ACTUAL TIME = GRN_date - AEDAT\n",
    "# -----------------------\n",
    "df = pd.merge(\n",
    "    ekpo_ekko_eket,\n",
    "    ekbe_earliest, \n",
    "    on=['EBELN', 'EBELP'], \n",
    "    how='left'\n",
    ")"
   ]
  },
  {
   "cell_type": "code",
   "execution_count": 60,
   "id": "9c9c3449-4fd5-4471-9966-794c8d88c36b",
   "metadata": {},
   "outputs": [
    {
     "data": {
      "text/plain": [
       "(43901, 376)"
      ]
     },
     "execution_count": 60,
     "metadata": {},
     "output_type": "execute_result"
    }
   ],
   "source": [
    "df.shape"
   ]
  },
  {
   "cell_type": "code",
   "execution_count": 61,
   "id": "6b346297-e997-422f-92a8-442d392d140c",
   "metadata": {},
   "outputs": [
    {
     "data": {
      "text/plain": [
       "0       2009-12-21\n",
       "1       2009-07-05\n",
       "2       2012-02-08\n",
       "3       2009-10-27\n",
       "4       2011-09-26\n",
       "           ...    \n",
       "43896          NaT\n",
       "43897          NaT\n",
       "43898          NaT\n",
       "43899          NaT\n",
       "43900          NaT\n",
       "Name: GRN_date, Length: 43901, dtype: datetime64[ns]"
      ]
     },
     "execution_count": 61,
     "metadata": {},
     "output_type": "execute_result"
    }
   ],
   "source": [
    "df['GRN_date']"
   ]
  },
  {
   "cell_type": "code",
   "execution_count": 62,
   "id": "91d0338a-4aa7-46b1-ab38-d736b5c27c0b",
   "metadata": {},
   "outputs": [],
   "source": [
    "# Ensure AEDAT_dt and GRN_date are datetime (AEDAT_dt computed earlier)\n",
    "df['GRN_date'] = pd.to_datetime(df['GRN_date'], errors='coerce', dayfirst=False)"
   ]
  },
  {
   "cell_type": "code",
   "execution_count": 63,
   "id": "823bab40-c659-4863-9d15-10f6ecb20ed4",
   "metadata": {},
   "outputs": [
    {
     "data": {
      "text/plain": [
       "0       2009-12-21\n",
       "1       2009-07-05\n",
       "2       2012-02-08\n",
       "3       2009-10-27\n",
       "4       2011-09-26\n",
       "           ...    \n",
       "43896          NaT\n",
       "43897          NaT\n",
       "43898          NaT\n",
       "43899          NaT\n",
       "43900          NaT\n",
       "Name: GRN_date, Length: 43901, dtype: datetime64[ns]"
      ]
     },
     "execution_count": 63,
     "metadata": {},
     "output_type": "execute_result"
    }
   ],
   "source": [
    "df['GRN_date']"
   ]
  },
  {
   "cell_type": "code",
   "execution_count": 64,
   "id": "75590389-b62c-4a11-bd1c-d08dd9f4727a",
   "metadata": {},
   "outputs": [
    {
     "data": {
      "text/plain": [
       "0       2009-04-23\n",
       "1       2009-04-26\n",
       "2       2009-05-03\n",
       "3       2009-06-03\n",
       "4       2009-06-03\n",
       "           ...    \n",
       "43896   2024-09-30\n",
       "43897   2024-09-30\n",
       "43898   2024-09-30\n",
       "43899   2024-09-30\n",
       "43900   2024-09-30\n",
       "Name: AEDAT_ekko, Length: 43901, dtype: datetime64[ns]"
      ]
     },
     "execution_count": 64,
     "metadata": {},
     "output_type": "execute_result"
    }
   ],
   "source": [
    "df['AEDAT_ekko'] = pd.to_datetime(df['AEDAT_ekko'], errors='coerce', dayfirst=False)\n",
    "df['AEDAT_ekko']"
   ]
  },
  {
   "cell_type": "code",
   "execution_count": 66,
   "id": "51f523b8-8c0b-4c40-87da-7c088afcb715",
   "metadata": {},
   "outputs": [],
   "source": [
    "df['Actual_time(In days)'] = (df['GRN_date'] - df['AEDAT_ekko']).dt.days"
   ]
  },
  {
   "cell_type": "code",
   "execution_count": 67,
   "id": "f65cc219-d386-4633-94b5-7c918c737e32",
   "metadata": {},
   "outputs": [
    {
     "data": {
      "text/plain": [
       "array([ 2.420e+02,  7.000e+01,  1.011e+03,  1.460e+02,  8.450e+02,\n",
       "        3.620e+02,  1.060e+02,  2.470e+02,  1.320e+02,  5.800e+01,\n",
       "        3.430e+02,  4.080e+02,  2.350e+02,  1.130e+02,  1.100e+01,\n",
       "        5.530e+02,  7.880e+02,  5.920e+02,  3.320e+02, -2.000e+00,\n",
       "        3.310e+02,  1.280e+02,  5.340e+02,  4.620e+02,  6.470e+02,\n",
       "        1.210e+02,  1.870e+02,  1.009e+03,  1.700e+01,  2.090e+02,\n",
       "        5.040e+02,  1.400e+02,  6.410e+02,  1.920e+02,  4.630e+02,\n",
       "        2.010e+02,  6.260e+02,  1.900e+02,  4.180e+02,  3.690e+02,\n",
       "        8.970e+02,  3.470e+02,  4.210e+02,  2.180e+02,  4.890e+02,\n",
       "        3.650e+02,  1.560e+02,  3.630e+02,  3.360e+02,  1.990e+02,\n",
       "        1.730e+02,  1.960e+02,  5.230e+02,  2.000e+02,  6.080e+02,\n",
       "        1.780e+02,  1.670e+02,  3.530e+02,  3.000e+02,  1.970e+02,\n",
       "        6.800e+02,  5.440e+02,  2.990e+02,  2.320e+02,  3.080e+02,\n",
       "        1.110e+02,  2.400e+02,  8.100e+01,  5.120e+02,  1.240e+02,\n",
       "        8.610e+02,  1.610e+02,  3.020e+02,  6.210e+02,  6.450e+02,\n",
       "        5.130e+02,  9.200e+01,  1.300e+02,  1.950e+02,  1.850e+02,\n",
       "        1.630e+02,  3.850e+02,  1.347e+03,  2.460e+02,  1.790e+02,\n",
       "        2.030e+02,  2.660e+02,  1.520e+02,  1.660e+02,  2.050e+02,\n",
       "        1.000e+00,  1.070e+02,  1.810e+02,  9.100e+01,  1.830e+02,\n",
       "        3.060e+02,  2.820e+02,  2.580e+02,  7.600e+01,  2.780e+02,\n",
       "        2.700e+02,  2.940e+02,  1.230e+02,  6.300e+01,  2.830e+02,\n",
       "        1.010e+02,  1.880e+02,  1.860e+02,  7.700e+01,  1.680e+02,\n",
       "        1.340e+02,  1.800e+01,  7.400e+01,  6.900e+01,  4.600e+01,\n",
       "        4.500e+01,  4.800e+01,  1.020e+02,  9.700e+01,  3.340e+02,\n",
       "        1.530e+02,  7.100e+01,  2.800e+01,  9.400e+01,  4.200e+01,\n",
       "        5.000e+01,  1.190e+02,  2.020e+02,  8.900e+01,  5.700e+01,\n",
       "        1.170e+02,  3.760e+02,  4.160e+02,  1.550e+02,  1.450e+02,\n",
       "        3.810e+02,  3.920e+02,  4.320e+02,  0.000e+00,  7.340e+02,\n",
       "              nan,  2.740e+02,  6.400e+01,  2.630e+02,  1.290e+02,\n",
       "        3.500e+02,  2.960e+02,  8.600e+01,  2.530e+02,  2.860e+02,\n",
       "        9.750e+02,  1.270e+02,  1.840e+02,  2.670e+02,  2.190e+02,\n",
       "        4.570e+02,  1.080e+02,  3.380e+02,  4.540e+02,  8.070e+02,\n",
       "        1.580e+02,  2.890e+02,  7.000e+00,  9.300e+01,  1.540e+02,\n",
       "        8.000e+00,  3.010e+02,  3.500e+01,  4.410e+02,  4.430e+02,\n",
       "        1.700e+02,  4.060e+02,  1.980e+02,  7.200e+01,  9.570e+02,\n",
       "        7.300e+01,  2.100e+01,  6.180e+02,  1.440e+02,  4.810e+02,\n",
       "        1.750e+02,  2.480e+02,  3.400e+01,  1.028e+03,  8.300e+01,\n",
       "        8.000e+01,  5.900e+01,  4.150e+02,  2.240e+02,  4.290e+02,\n",
       "        1.150e+02,  8.500e+01,  2.520e+02,  3.800e+02,  3.840e+02,\n",
       "        4.190e+02,  3.990e+02,  1.200e+02,  8.050e+02,  2.290e+02,\n",
       "        4.140e+02,  2.450e+02,  6.220e+02,  1.050e+02,  1.040e+02,\n",
       "        3.170e+02,  1.260e+02,  6.540e+02,  2.340e+02,  2.360e+02,\n",
       "        1.220e+02,  3.160e+02,  1.740e+02,  3.180e+02,  1.570e+02,\n",
       "        1.800e+02,  3.980e+02,  1.100e+02,  6.000e+01,  7.500e+01,\n",
       "        1.180e+02,  1.410e+02,  3.230e+02,  3.680e+02,  3.880e+02,\n",
       "        5.100e+01,  2.720e+02,  3.560e+02,  4.090e+02,  1.000e+02,\n",
       "        4.900e+01,  2.250e+02,  6.360e+02,  1.770e+02,  4.460e+02,\n",
       "        2.070e+02,  3.900e+01,  3.820e+02,  1.238e+03,  6.480e+02,\n",
       "        4.000e+01,  1.015e+03,  3.700e+02,  9.500e+01,  4.450e+02,\n",
       "        1.820e+02,  1.890e+02,  3.330e+02,  2.140e+02,  5.960e+02,\n",
       "        4.720e+02,  3.000e+01,  7.800e+01,  3.520e+02,  8.670e+02,\n",
       "        4.230e+02,  9.800e+01,  3.580e+02,  3.600e+02,  2.970e+02,\n",
       "        9.600e+01,  1.360e+02,  3.100e+02,  3.280e+02,  3.830e+02,\n",
       "        1.590e+02,  2.560e+02,  2.370e+02,  2.920e+02,  3.780e+02,\n",
       "        5.400e+01,  1.510e+02,  1.370e+02,  3.120e+02,  6.600e+01,\n",
       "        8.500e+02,  2.850e+02,  4.070e+02,  2.810e+02,  4.750e+02,\n",
       "        4.740e+02,  4.300e+01,  6.980e+02,  2.590e+02,  2.310e+02,\n",
       "        3.250e+02,  3.040e+02,  2.230e+02,  5.200e+01,  1.160e+02,\n",
       "        1.650e+02,  1.390e+02,  1.470e+02,  3.870e+02,  3.550e+02,\n",
       "        1.430e+02,  1.310e+02,  2.220e+02,  3.950e+02,  5.360e+02,\n",
       "        1.380e+02,  2.410e+02,  1.490e+02,  2.880e+02,  1.940e+02,\n",
       "        3.150e+02,  6.280e+02,  1.640e+02,  1.140e+02,  2.700e+01,\n",
       "        6.460e+02,  1.760e+02,  9.900e+01,  3.710e+02,  3.200e+01,\n",
       "        1.400e+01,  5.000e+00,  1.120e+02,  5.220e+02,  5.460e+02,\n",
       "        1.250e+02,  1.930e+02,  2.570e+02,  3.240e+02,  5.600e+01,\n",
       "        2.900e+02,  3.800e+01,  4.300e+02,  3.300e+01,  3.190e+02,\n",
       "        6.010e+02,  2.040e+02,  9.000e+01,  2.430e+02,  7.270e+02,\n",
       "        1.480e+02,  4.240e+02,  3.220e+02,  1.350e+02,  5.400e+02,\n",
       "        6.700e+01,  6.270e+02,  2.490e+02,  4.840e+02,  6.680e+02,\n",
       "        7.430e+02,  2.100e+02,  3.070e+02,  4.010e+02,  1.600e+02,\n",
       "        2.380e+02,  4.680e+02,  4.920e+02,  2.930e+02,  1.710e+02,\n",
       "        2.640e+02,  2.620e+02,  8.700e+01,  2.840e+02,  2.060e+02,\n",
       "        3.600e+01,  1.030e+02,  2.210e+02,  5.550e+02,  8.800e+01,\n",
       "        6.100e+01,  3.440e+02,  4.690e+02,  3.390e+02,  4.480e+02,\n",
       "        4.470e+02,  4.930e+02,  2.690e+02,  5.050e+02,  1.090e+02,\n",
       "        1.300e+01,  3.670e+02,  4.400e+01,  4.640e+02,  2.540e+02,\n",
       "        2.950e+02,  5.450e+02,  1.330e+02,  6.580e+02,  8.400e+01,\n",
       "        3.300e+02,  6.800e+01,  4.700e+01,  6.290e+02,  2.200e+01,\n",
       "        5.560e+02,  9.890e+02,  3.640e+02,  1.420e+02,  5.060e+02,\n",
       "        6.440e+02,  5.480e+02,  5.160e+02,  1.048e+03,  1.075e+03,\n",
       "        4.370e+02,  4.310e+02,  3.200e+02,  3.410e+02,  5.880e+02,\n",
       "        3.450e+02,  5.610e+02,  8.020e+02,  1.300e+03,  3.720e+02,\n",
       "        6.720e+02,  1.134e+03,  6.500e+01,  6.240e+02,  6.870e+02,\n",
       "        7.380e+02,  7.420e+02,  8.650e+02,  5.240e+02,  1.500e+02,\n",
       "        4.420e+02,  6.050e+02,  6.390e+02,  2.150e+02,  4.040e+02,\n",
       "        4.910e+02,  5.810e+02,  6.630e+02,  8.190e+02,  9.210e+02,\n",
       "        7.090e+02,  4.820e+02,  9.200e+02,  7.490e+02,  3.210e+02,\n",
       "        4.970e+02,  9.410e+02,  4.220e+02,  8.480e+02,  4.100e+02,\n",
       "        6.510e+02,  2.730e+02,  1.268e+03,  2.160e+02,  2.550e+02,\n",
       "        8.290e+02,  8.730e+02,  7.310e+02,  2.110e+02,  5.250e+02,\n",
       "        6.490e+02,  7.570e+02,  4.500e+02,  2.610e+02,  5.390e+02,\n",
       "        8.700e+02,  4.650e+02,  9.780e+02,  1.275e+03,  8.950e+02,\n",
       "        2.440e+02,  1.620e+02,  7.730e+02,  2.300e+02,  2.770e+02,\n",
       "        4.950e+02,  7.620e+02,  5.320e+02,  3.090e+02,  3.730e+02,\n",
       "        5.850e+02,  3.000e+00,  2.710e+02,  3.350e+02,  2.980e+02,\n",
       "        3.130e+02,  5.760e+02,  6.100e+02,  1.083e+03,  2.330e+02,\n",
       "        4.440e+02,  7.460e+02,  2.120e+02,  2.650e+02,  5.670e+02,\n",
       "        4.350e+02,  5.100e+02,  4.600e+02,  2.280e+02,  5.010e+02,\n",
       "        2.200e+02,  7.110e+02,  9.030e+02,  2.500e+02,  2.080e+02,\n",
       "        3.270e+02,  4.390e+02,  2.600e+02,  4.610e+02,  4.000e+02,\n",
       "        1.000e+03,  1.690e+02,  2.170e+02,  4.880e+02,  5.740e+02,\n",
       "        5.170e+02,  7.180e+02,  5.020e+02,  7.920e+02,  3.540e+02,\n",
       "        1.690e+03,  4.100e+01,  4.710e+02,  2.800e+02,  1.720e+02,\n",
       "        2.400e+01,  2.390e+02,  7.300e+02,  5.620e+02,  6.930e+02,\n",
       "        1.098e+03,  6.020e+02,  5.840e+02,  7.580e+02,  9.000e+02,\n",
       "        2.270e+02,  3.260e+02,  4.110e+02,  7.650e+02,  4.400e+02,\n",
       "        7.360e+02,  5.110e+02,  1.673e+03,  9.760e+02,  4.050e+02,\n",
       "        1.094e+03,  4.990e+02,  1.372e+03,  1.344e+03,  5.430e+02,\n",
       "        5.070e+02,  3.890e+02,  4.130e+02,  6.170e+02,  3.970e+02,\n",
       "        7.710e+02,  4.120e+02,  1.180e+03,  1.231e+03,  3.290e+02,\n",
       "        1.432e+03,  3.570e+02,  6.780e+02,  1.318e+03,  1.256e+03,\n",
       "        1.274e+03,  4.800e+02,  5.690e+02,  4.280e+02,  4.380e+02,\n",
       "        2.600e+01,  3.860e+02,  5.500e+01,  6.200e+01,  4.770e+02,\n",
       "        7.740e+02,  1.016e+03,  5.730e+02,  9.020e+02,  4.330e+02,\n",
       "        5.950e+02,  8.350e+02,  8.200e+01,  4.830e+02,  3.050e+02,\n",
       "        3.660e+02,  8.160e+02,  6.640e+02,  9.500e+02,  5.280e+02,\n",
       "        8.600e+02,  5.500e+02,  4.860e+02,  6.420e+02,  5.540e+02,\n",
       "        8.550e+02,  5.300e+01,  6.000e+02,  2.900e+01,  7.810e+02,\n",
       "        3.930e+02,  1.044e+03,  8.720e+02,  1.049e+03,  1.027e+03,\n",
       "        3.370e+02,  3.590e+02,  6.880e+02,  2.760e+02,  8.630e+02,\n",
       "        7.890e+02,  5.700e+02,  3.140e+02,  9.170e+02,  8.470e+02,\n",
       "        5.180e+02,  9.840e+02,  7.630e+02,  3.490e+02,  4.960e+02,\n",
       "        2.300e+01,  1.900e+01,  2.500e+01,  3.770e+02,  4.200e+02,\n",
       "        9.220e+02,  8.220e+02,  6.430e+02,  7.900e+01,  5.300e+02,\n",
       "        1.000e+01,  1.200e+01,  4.850e+02,  2.750e+02,  3.960e+02,\n",
       "        6.700e+02,  6.890e+02,  3.750e+02,  7.930e+02,  4.170e+02,\n",
       "        2.000e+01,  4.780e+02,  4.260e+02,  2.910e+02,  3.480e+02,\n",
       "        2.680e+02,  7.820e+02,  3.100e+01,  4.940e+02,  6.000e+00,\n",
       "        1.600e+01,  5.200e+02,  9.000e+00,  4.980e+02,  6.590e+02,\n",
       "        2.510e+02,  3.400e+02,  3.460e+02,  6.670e+02,  2.260e+02,\n",
       "        3.910e+02,  2.870e+02,  1.378e+03,  5.980e+02,  6.300e+02,\n",
       "        8.820e+02,  4.360e+02,  8.260e+02,  1.500e+01,  4.000e+00,\n",
       "        1.910e+02,  4.020e+02, -1.100e+01, -6.000e+00,  1.720e+03,\n",
       "        2.790e+02,  5.080e+02,  6.810e+02,  6.740e+02,  1.133e+03,\n",
       "        9.240e+02,  2.394e+03,  1.120e+03,  7.900e+02,  6.610e+02,\n",
       "        1.298e+03,  1.637e+03,  6.370e+02,  9.140e+02,  6.060e+02,\n",
       "        3.420e+02,  6.950e+02,  6.310e+02,  7.840e+02,  1.768e+03,\n",
       "        1.458e+03,  1.466e+03,  3.510e+02,  6.820e+02,  1.024e+03,\n",
       "       -8.000e+00,  2.000e+00,  7.520e+02,  6.940e+02,  7.850e+02,\n",
       "        8.080e+02,  1.111e+03,  5.290e+02,  6.520e+02,  9.740e+02,\n",
       "        1.042e+03,  1.154e+03,  7.500e+02,  8.300e+02,  1.281e+03,\n",
       "        2.831e+03,  6.230e+02,  5.800e+02,  6.560e+02,  1.442e+03,\n",
       "        9.430e+02,  1.506e+03,  1.046e+03,  1.277e+03,  4.760e+02,\n",
       "        6.380e+02,  1.257e+03,  7.000e+02,  1.182e+03,  6.090e+02,\n",
       "        2.786e+03,  8.920e+02,  8.120e+02,  7.600e+02,  5.510e+02,\n",
       "        8.590e+02,  5.310e+02,  4.730e+02,  8.800e+02,  7.960e+02,\n",
       "        1.070e+03,  1.071e+03,  1.113e+03,  7.220e+02,  7.670e+02,\n",
       "        1.041e+03,  6.150e+02,  7.020e+02,  3.700e+01,  9.710e+02,\n",
       "        5.990e+02,  5.710e+02,  7.550e+02,  5.470e+02,  5.370e+02,\n",
       "        3.030e+02,  5.970e+02,  1.054e+03,  3.610e+02,  5.720e+02,\n",
       "        7.540e+02,  1.026e+03,  1.188e+03,  1.266e+03,  1.476e+03,\n",
       "        7.720e+02,  8.490e+02,  9.650e+02,  9.880e+02,  1.030e+03,\n",
       "        1.090e+03,  1.073e+03,  1.351e+03,  1.470e+03,  8.560e+02,\n",
       "        2.103e+03,  2.146e+03,  5.630e+02,  5.650e+02,  1.349e+03,\n",
       "        1.697e+03,  1.174e+03,  9.520e+02,  1.441e+03,  2.466e+03,\n",
       "        4.660e+02,  9.350e+02,  1.380e+03,  7.080e+02,  1.818e+03,\n",
       "        1.248e+03,  1.288e+03,  1.740e+03,  8.570e+02,  9.860e+02,\n",
       "        7.100e+02,  9.550e+02,  9.950e+02,  8.960e+02,  1.122e+03,\n",
       "        1.164e+03,  1.282e+03,  1.406e+03,  1.795e+03,  1.859e+03,\n",
       "        1.898e+03,  1.925e+03,  1.981e+03,  2.683e+03,  2.326e+03,\n",
       "        1.694e+03,  2.327e+03,  1.652e+03,  5.660e+02,  1.735e+03,\n",
       "        1.125e+03,  5.030e+02,  1.151e+03,  2.155e+03,  8.240e+02,\n",
       "        8.230e+02,  1.979e+03,  9.180e+02,  1.250e+03,  8.740e+02,\n",
       "        6.530e+02,  9.380e+02,  5.330e+02,  6.750e+02,  8.910e+02,\n",
       "        1.310e+03,  4.270e+02,  1.104e+03,  8.400e+02,  1.035e+03,\n",
       "        1.147e+03,  1.224e+03,  1.253e+03,  1.350e+03,  1.463e+03,\n",
       "        1.505e+03,  1.532e+03,  1.853e+03,  1.994e+03,  6.770e+02,\n",
       "        7.770e+02,  7.280e+02,  4.250e+02,  5.590e+02,  5.640e+02,\n",
       "        2.062e+03,  8.530e+02,  2.020e+03,  1.703e+03,  1.225e+03,\n",
       "        6.650e+02,  3.790e+02,  1.952e+03,  5.490e+02,  9.600e+02,\n",
       "        4.490e+02,  6.110e+02,  7.130e+02,  9.800e+02,  1.012e+03,\n",
       "        1.143e+03,  1.198e+03,  1.103e+03,  1.171e+03,  1.246e+03,\n",
       "        1.303e+03,  1.373e+03,  1.641e+03,  9.450e+02,  6.710e+02,\n",
       "        7.030e+02,  1.001e+03,  9.150e+02,  1.153e+03,  1.791e+03,\n",
       "        7.590e+02,  7.980e+02,  9.700e+02,  1.647e+03,  4.520e+02,\n",
       "        5.680e+02,  1.817e+03,  3.740e+02,  5.380e+02,  9.690e+02,\n",
       "        8.930e+02,  1.018e+03,  1.431e+03,  7.690e+02,  1.635e+03,\n",
       "        6.030e+02,  8.430e+02,  1.116e+03,  1.312e+03,  1.313e+03,\n",
       "        8.810e+02,  1.357e+03,  1.114e+03,  9.670e+02,  1.331e+03,\n",
       "        1.360e+03,  7.170e+02,  5.260e+02,  1.418e+03,  8.780e+02,\n",
       "        6.350e+02,  1.004e+03,  5.150e+02,  1.029e+03,  1.052e+03,\n",
       "        7.230e+02,  5.860e+02,  7.510e+02,  3.110e+02,  5.770e+02,\n",
       "        1.175e+03,  8.140e+02,  1.217e+03,  1.263e+03,  1.061e+03,\n",
       "        1.074e+03,  7.480e+02,  1.055e+03,  4.900e+02,  1.322e+03,\n",
       "        1.178e+03,  1.173e+03,  1.126e+03,  9.870e+02,  7.150e+02,\n",
       "        4.560e+02,  8.620e+02,  6.840e+02,  2.130e+02,  1.782e+03,\n",
       "        6.960e+02, -4.000e+00, -3.000e+00, -5.000e+00])"
      ]
     },
     "execution_count": 67,
     "metadata": {},
     "output_type": "execute_result"
    }
   ],
   "source": [
    "df['Actual_time(In days)'].unique()"
   ]
  },
  {
   "cell_type": "code",
   "execution_count": 68,
   "id": "502014c3-b22b-4179-8dd5-fa6c12cf63e1",
   "metadata": {},
   "outputs": [],
   "source": [
    "# -----------------------\n",
    "# Step 6: Highlight where ACTUAL_TIME >= 150% of IDEAL_TIME\n",
    "#   - If Ideal_time_days is NaN or <= 0 -> do not flag (False)\n",
    "#   - If Actual_time_days is NaN -> do not flag\n",
    "# -----------------------\n",
    "def flag_row(ideal, actual):\n",
    "    if pd.isna(ideal) or pd.isna(actual):\n",
    "        return False\n",
    "    try:\n",
    "        ideal_f = float(ideal)\n",
    "        actual_f = float(actual)\n",
    "    except Exception:\n",
    "        return False\n",
    "    if ideal_f <= 0:\n",
    "        return False\n",
    "    return actual_f >= 1.5 * ideal_f"
   ]
  },
  {
   "cell_type": "code",
   "execution_count": 69,
   "id": "e8b7e425-efb9-40fa-abbc-93906fa4a55f",
   "metadata": {},
   "outputs": [],
   "source": [
    "df['Exception'] = df.apply(lambda r: flag_row(r['Ideal_time(In days)'], r['Actual_time(In days)']), axis=1)"
   ]
  },
  {
   "cell_type": "code",
   "execution_count": 74,
   "id": "f216cd9b-1bc7-46f0-a080-3f581b32c51f",
   "metadata": {},
   "outputs": [],
   "source": [
    "# -----------------------\n",
    "# Final output formatting\n",
    "# -----------------------\n",
    "output = df[['EBELN', 'EBELP', 'AEDAT_ekko', 'EINDT','GRN_date', 'Ideal_time(In days)', 'Actual_time(In days)', 'Exception']].copy()\n",
    "output = output.rename(columns={\n",
    "    'EBELN': 'Purchase Documents',\n",
    "    'EBELP': 'Item',\n",
    "    'AEDAT_ekko': 'Created_On_EKKO',\n",
    "    'EINDT': 'Required delivery date',\n",
    "    'Ideal_time(In days)': 'Ideal time',\n",
    "    'Actual_time(In days)': 'Actual time'\n",
    "})"
   ]
  },
  {
   "cell_type": "code",
   "execution_count": 75,
   "id": "6977bc78-a0a9-4849-9c31-901ce91f82ef",
   "metadata": {},
   "outputs": [],
   "source": [
    "# reorder columns as requested\n",
    "output = output[['Purchase Documents', 'Item', 'Created_On_EKKO', 'Required delivery date', 'GRN_date', 'Ideal time', 'Actual time', 'Exception']]"
   ]
  },
  {
   "cell_type": "code",
   "execution_count": 76,
   "id": "165f794c-d7eb-44bb-9b08-385158489ce5",
   "metadata": {
    "scrolled": true
   },
   "outputs": [
    {
     "name": "stdout",
     "output_type": "stream",
     "text": [
      "Total rows in output: 43901\n",
      "Problem (highlighted) rows: 4345\n"
     ]
    },
    {
     "data": {
      "text/html": [
       "<div>\n",
       "<style scoped>\n",
       "    .dataframe tbody tr th:only-of-type {\n",
       "        vertical-align: middle;\n",
       "    }\n",
       "\n",
       "    .dataframe tbody tr th {\n",
       "        vertical-align: top;\n",
       "    }\n",
       "\n",
       "    .dataframe thead th {\n",
       "        text-align: right;\n",
       "    }\n",
       "</style>\n",
       "<table border=\"1\" class=\"dataframe\">\n",
       "  <thead>\n",
       "    <tr style=\"text-align: right;\">\n",
       "      <th></th>\n",
       "      <th>Purchase Documents</th>\n",
       "      <th>Item</th>\n",
       "      <th>Created_On_EKKO</th>\n",
       "      <th>Required delivery date</th>\n",
       "      <th>GRN_date</th>\n",
       "      <th>Ideal time</th>\n",
       "      <th>Actual time</th>\n",
       "      <th>Exception</th>\n",
       "    </tr>\n",
       "  </thead>\n",
       "  <tbody>\n",
       "    <tr>\n",
       "      <th>0</th>\n",
       "      <td>3100000073</td>\n",
       "      <td>2</td>\n",
       "      <td>2009-04-23</td>\n",
       "      <td>2009-08-15</td>\n",
       "      <td>2009-12-21</td>\n",
       "      <td>114.0</td>\n",
       "      <td>242.0</td>\n",
       "      <td>True</td>\n",
       "    </tr>\n",
       "    <tr>\n",
       "      <th>1</th>\n",
       "      <td>3100000079</td>\n",
       "      <td>2</td>\n",
       "      <td>2009-04-26</td>\n",
       "      <td>2009-05-05</td>\n",
       "      <td>2009-07-05</td>\n",
       "      <td>9.0</td>\n",
       "      <td>70.0</td>\n",
       "      <td>True</td>\n",
       "    </tr>\n",
       "    <tr>\n",
       "      <th>2</th>\n",
       "      <td>3100000090</td>\n",
       "      <td>2</td>\n",
       "      <td>2009-05-03</td>\n",
       "      <td>2009-05-17</td>\n",
       "      <td>2012-02-08</td>\n",
       "      <td>14.0</td>\n",
       "      <td>1011.0</td>\n",
       "      <td>True</td>\n",
       "    </tr>\n",
       "    <tr>\n",
       "      <th>3</th>\n",
       "      <td>3100000135</td>\n",
       "      <td>2</td>\n",
       "      <td>2009-06-03</td>\n",
       "      <td>2009-07-15</td>\n",
       "      <td>2009-10-27</td>\n",
       "      <td>42.0</td>\n",
       "      <td>146.0</td>\n",
       "      <td>True</td>\n",
       "    </tr>\n",
       "    <tr>\n",
       "      <th>4</th>\n",
       "      <td>3100000135</td>\n",
       "      <td>3</td>\n",
       "      <td>2009-06-03</td>\n",
       "      <td>2009-07-30</td>\n",
       "      <td>2011-09-26</td>\n",
       "      <td>57.0</td>\n",
       "      <td>845.0</td>\n",
       "      <td>True</td>\n",
       "    </tr>\n",
       "    <tr>\n",
       "      <th>5</th>\n",
       "      <td>3100000295</td>\n",
       "      <td>1</td>\n",
       "      <td>2009-09-23</td>\n",
       "      <td>2009-08-31</td>\n",
       "      <td>2010-09-20</td>\n",
       "      <td>-23.0</td>\n",
       "      <td>362.0</td>\n",
       "      <td>False</td>\n",
       "    </tr>\n",
       "    <tr>\n",
       "      <th>6</th>\n",
       "      <td>3100000295</td>\n",
       "      <td>2</td>\n",
       "      <td>2009-09-23</td>\n",
       "      <td>2010-08-05</td>\n",
       "      <td>2010-09-20</td>\n",
       "      <td>316.0</td>\n",
       "      <td>362.0</td>\n",
       "      <td>False</td>\n",
       "    </tr>\n",
       "    <tr>\n",
       "      <th>7</th>\n",
       "      <td>3100000328</td>\n",
       "      <td>1</td>\n",
       "      <td>2009-10-18</td>\n",
       "      <td>2009-10-28</td>\n",
       "      <td>2010-02-01</td>\n",
       "      <td>10.0</td>\n",
       "      <td>106.0</td>\n",
       "      <td>True</td>\n",
       "    </tr>\n",
       "    <tr>\n",
       "      <th>8</th>\n",
       "      <td>3100000348</td>\n",
       "      <td>1</td>\n",
       "      <td>2009-10-26</td>\n",
       "      <td>2009-10-06</td>\n",
       "      <td>2010-06-30</td>\n",
       "      <td>-20.0</td>\n",
       "      <td>247.0</td>\n",
       "      <td>False</td>\n",
       "    </tr>\n",
       "    <tr>\n",
       "      <th>9</th>\n",
       "      <td>3100000356</td>\n",
       "      <td>1</td>\n",
       "      <td>2009-10-29</td>\n",
       "      <td>2009-11-01</td>\n",
       "      <td>2010-03-10</td>\n",
       "      <td>3.0</td>\n",
       "      <td>132.0</td>\n",
       "      <td>True</td>\n",
       "    </tr>\n",
       "    <tr>\n",
       "      <th>10</th>\n",
       "      <td>3100000367</td>\n",
       "      <td>1</td>\n",
       "      <td>2009-11-03</td>\n",
       "      <td>2009-11-05</td>\n",
       "      <td>2009-12-31</td>\n",
       "      <td>2.0</td>\n",
       "      <td>58.0</td>\n",
       "      <td>True</td>\n",
       "    </tr>\n",
       "    <tr>\n",
       "      <th>11</th>\n",
       "      <td>3100000376</td>\n",
       "      <td>1</td>\n",
       "      <td>2009-11-10</td>\n",
       "      <td>2009-11-05</td>\n",
       "      <td>2010-10-19</td>\n",
       "      <td>-5.0</td>\n",
       "      <td>343.0</td>\n",
       "      <td>False</td>\n",
       "    </tr>\n",
       "    <tr>\n",
       "      <th>12</th>\n",
       "      <td>3100000393</td>\n",
       "      <td>1</td>\n",
       "      <td>2009-11-18</td>\n",
       "      <td>2009-10-15</td>\n",
       "      <td>2010-12-31</td>\n",
       "      <td>-34.0</td>\n",
       "      <td>408.0</td>\n",
       "      <td>False</td>\n",
       "    </tr>\n",
       "    <tr>\n",
       "      <th>13</th>\n",
       "      <td>3100000401</td>\n",
       "      <td>1</td>\n",
       "      <td>2009-11-22</td>\n",
       "      <td>2009-12-20</td>\n",
       "      <td>2010-07-15</td>\n",
       "      <td>28.0</td>\n",
       "      <td>235.0</td>\n",
       "      <td>True</td>\n",
       "    </tr>\n",
       "    <tr>\n",
       "      <th>14</th>\n",
       "      <td>3100000414</td>\n",
       "      <td>1</td>\n",
       "      <td>2009-12-08</td>\n",
       "      <td>2009-12-04</td>\n",
       "      <td>2010-03-31</td>\n",
       "      <td>-4.0</td>\n",
       "      <td>113.0</td>\n",
       "      <td>False</td>\n",
       "    </tr>\n",
       "    <tr>\n",
       "      <th>15</th>\n",
       "      <td>3100000430</td>\n",
       "      <td>1</td>\n",
       "      <td>2009-12-20</td>\n",
       "      <td>2010-01-07</td>\n",
       "      <td>2009-12-31</td>\n",
       "      <td>18.0</td>\n",
       "      <td>11.0</td>\n",
       "      <td>False</td>\n",
       "    </tr>\n",
       "    <tr>\n",
       "      <th>16</th>\n",
       "      <td>3100000437</td>\n",
       "      <td>1</td>\n",
       "      <td>2009-12-22</td>\n",
       "      <td>2009-12-31</td>\n",
       "      <td>2011-06-28</td>\n",
       "      <td>9.0</td>\n",
       "      <td>553.0</td>\n",
       "      <td>True</td>\n",
       "    </tr>\n",
       "    <tr>\n",
       "      <th>17</th>\n",
       "      <td>3100000446</td>\n",
       "      <td>1</td>\n",
       "      <td>2009-12-23</td>\n",
       "      <td>2009-12-31</td>\n",
       "      <td>2012-02-19</td>\n",
       "      <td>8.0</td>\n",
       "      <td>788.0</td>\n",
       "      <td>True</td>\n",
       "    </tr>\n",
       "    <tr>\n",
       "      <th>18</th>\n",
       "      <td>3100000473</td>\n",
       "      <td>1</td>\n",
       "      <td>2010-01-28</td>\n",
       "      <td>2010-01-27</td>\n",
       "      <td>2011-09-12</td>\n",
       "      <td>-1.0</td>\n",
       "      <td>592.0</td>\n",
       "      <td>False</td>\n",
       "    </tr>\n",
       "    <tr>\n",
       "      <th>19</th>\n",
       "      <td>3100000473</td>\n",
       "      <td>2</td>\n",
       "      <td>2010-01-28</td>\n",
       "      <td>2010-08-15</td>\n",
       "      <td>2011-09-12</td>\n",
       "      <td>199.0</td>\n",
       "      <td>592.0</td>\n",
       "      <td>True</td>\n",
       "    </tr>\n",
       "    <tr>\n",
       "      <th>20</th>\n",
       "      <td>3100000480</td>\n",
       "      <td>1</td>\n",
       "      <td>2010-02-02</td>\n",
       "      <td>2010-01-31</td>\n",
       "      <td>2010-12-31</td>\n",
       "      <td>-2.0</td>\n",
       "      <td>332.0</td>\n",
       "      <td>False</td>\n",
       "    </tr>\n",
       "    <tr>\n",
       "      <th>21</th>\n",
       "      <td>3100000482</td>\n",
       "      <td>1</td>\n",
       "      <td>2010-02-03</td>\n",
       "      <td>2009-12-17</td>\n",
       "      <td>2010-02-01</td>\n",
       "      <td>-48.0</td>\n",
       "      <td>-2.0</td>\n",
       "      <td>False</td>\n",
       "    </tr>\n",
       "    <tr>\n",
       "      <th>22</th>\n",
       "      <td>3100000482</td>\n",
       "      <td>2</td>\n",
       "      <td>2010-02-03</td>\n",
       "      <td>2009-12-25</td>\n",
       "      <td>2010-02-01</td>\n",
       "      <td>-40.0</td>\n",
       "      <td>-2.0</td>\n",
       "      <td>False</td>\n",
       "    </tr>\n",
       "    <tr>\n",
       "      <th>23</th>\n",
       "      <td>3100000483</td>\n",
       "      <td>1</td>\n",
       "      <td>2010-02-03</td>\n",
       "      <td>2010-05-20</td>\n",
       "      <td>2010-12-31</td>\n",
       "      <td>106.0</td>\n",
       "      <td>331.0</td>\n",
       "      <td>True</td>\n",
       "    </tr>\n",
       "    <tr>\n",
       "      <th>24</th>\n",
       "      <td>3100000505</td>\n",
       "      <td>1</td>\n",
       "      <td>2010-02-22</td>\n",
       "      <td>2010-02-28</td>\n",
       "      <td>2010-06-30</td>\n",
       "      <td>6.0</td>\n",
       "      <td>128.0</td>\n",
       "      <td>True</td>\n",
       "    </tr>\n",
       "    <tr>\n",
       "      <th>25</th>\n",
       "      <td>3100000505</td>\n",
       "      <td>2</td>\n",
       "      <td>2010-02-22</td>\n",
       "      <td>2010-08-20</td>\n",
       "      <td>2011-08-10</td>\n",
       "      <td>179.0</td>\n",
       "      <td>534.0</td>\n",
       "      <td>True</td>\n",
       "    </tr>\n",
       "    <tr>\n",
       "      <th>26</th>\n",
       "      <td>3100000511</td>\n",
       "      <td>1</td>\n",
       "      <td>2010-03-01</td>\n",
       "      <td>2010-02-04</td>\n",
       "      <td>2011-06-06</td>\n",
       "      <td>-25.0</td>\n",
       "      <td>462.0</td>\n",
       "      <td>False</td>\n",
       "    </tr>\n",
       "    <tr>\n",
       "      <th>27</th>\n",
       "      <td>3100000511</td>\n",
       "      <td>2</td>\n",
       "      <td>2010-03-01</td>\n",
       "      <td>2011-10-23</td>\n",
       "      <td>2011-12-08</td>\n",
       "      <td>601.0</td>\n",
       "      <td>647.0</td>\n",
       "      <td>False</td>\n",
       "    </tr>\n",
       "    <tr>\n",
       "      <th>28</th>\n",
       "      <td>3100000512</td>\n",
       "      <td>1</td>\n",
       "      <td>2010-03-01</td>\n",
       "      <td>2010-02-28</td>\n",
       "      <td>2010-06-30</td>\n",
       "      <td>-1.0</td>\n",
       "      <td>121.0</td>\n",
       "      <td>False</td>\n",
       "    </tr>\n",
       "    <tr>\n",
       "      <th>29</th>\n",
       "      <td>3100000514</td>\n",
       "      <td>1</td>\n",
       "      <td>2010-03-02</td>\n",
       "      <td>2010-03-31</td>\n",
       "      <td>2010-09-05</td>\n",
       "      <td>29.0</td>\n",
       "      <td>187.0</td>\n",
       "      <td>True</td>\n",
       "    </tr>\n",
       "    <tr>\n",
       "      <th>30</th>\n",
       "      <td>3100000524</td>\n",
       "      <td>1</td>\n",
       "      <td>2010-03-08</td>\n",
       "      <td>2010-03-17</td>\n",
       "      <td>2012-12-11</td>\n",
       "      <td>9.0</td>\n",
       "      <td>1009.0</td>\n",
       "      <td>True</td>\n",
       "    </tr>\n",
       "    <tr>\n",
       "      <th>31</th>\n",
       "      <td>3100000534</td>\n",
       "      <td>1</td>\n",
       "      <td>2010-03-14</td>\n",
       "      <td>2010-03-16</td>\n",
       "      <td>2010-03-31</td>\n",
       "      <td>2.0</td>\n",
       "      <td>17.0</td>\n",
       "      <td>True</td>\n",
       "    </tr>\n",
       "    <tr>\n",
       "      <th>32</th>\n",
       "      <td>3100000536</td>\n",
       "      <td>1</td>\n",
       "      <td>2010-03-16</td>\n",
       "      <td>2010-02-10</td>\n",
       "      <td>2010-10-11</td>\n",
       "      <td>-34.0</td>\n",
       "      <td>209.0</td>\n",
       "      <td>False</td>\n",
       "    </tr>\n",
       "    <tr>\n",
       "      <th>33</th>\n",
       "      <td>3100000536</td>\n",
       "      <td>2</td>\n",
       "      <td>2010-03-16</td>\n",
       "      <td>2011-06-17</td>\n",
       "      <td>2011-08-02</td>\n",
       "      <td>458.0</td>\n",
       "      <td>504.0</td>\n",
       "      <td>False</td>\n",
       "    </tr>\n",
       "    <tr>\n",
       "      <th>34</th>\n",
       "      <td>3100000543</td>\n",
       "      <td>1</td>\n",
       "      <td>2010-03-22</td>\n",
       "      <td>2010-04-30</td>\n",
       "      <td>2010-05-31</td>\n",
       "      <td>39.0</td>\n",
       "      <td>70.0</td>\n",
       "      <td>True</td>\n",
       "    </tr>\n",
       "    <tr>\n",
       "      <th>35</th>\n",
       "      <td>3100000563</td>\n",
       "      <td>1</td>\n",
       "      <td>2010-04-13</td>\n",
       "      <td>2010-04-15</td>\n",
       "      <td>2011-07-19</td>\n",
       "      <td>2.0</td>\n",
       "      <td>462.0</td>\n",
       "      <td>True</td>\n",
       "    </tr>\n",
       "    <tr>\n",
       "      <th>36</th>\n",
       "      <td>3100000563</td>\n",
       "      <td>2</td>\n",
       "      <td>2010-04-13</td>\n",
       "      <td>2011-01-10</td>\n",
       "      <td>2011-07-19</td>\n",
       "      <td>272.0</td>\n",
       "      <td>462.0</td>\n",
       "      <td>True</td>\n",
       "    </tr>\n",
       "    <tr>\n",
       "      <th>37</th>\n",
       "      <td>3100000567</td>\n",
       "      <td>1</td>\n",
       "      <td>2010-04-20</td>\n",
       "      <td>2010-05-15</td>\n",
       "      <td>2010-09-07</td>\n",
       "      <td>25.0</td>\n",
       "      <td>140.0</td>\n",
       "      <td>True</td>\n",
       "    </tr>\n",
       "    <tr>\n",
       "      <th>38</th>\n",
       "      <td>3100000568</td>\n",
       "      <td>1</td>\n",
       "      <td>2010-04-21</td>\n",
       "      <td>2010-05-05</td>\n",
       "      <td>2012-01-22</td>\n",
       "      <td>14.0</td>\n",
       "      <td>641.0</td>\n",
       "      <td>True</td>\n",
       "    </tr>\n",
       "    <tr>\n",
       "      <th>39</th>\n",
       "      <td>3100000628</td>\n",
       "      <td>1</td>\n",
       "      <td>2010-06-03</td>\n",
       "      <td>2010-05-31</td>\n",
       "      <td>2010-12-12</td>\n",
       "      <td>-3.0</td>\n",
       "      <td>192.0</td>\n",
       "      <td>False</td>\n",
       "    </tr>\n",
       "    <tr>\n",
       "      <th>40</th>\n",
       "      <td>3100000631</td>\n",
       "      <td>1</td>\n",
       "      <td>2010-06-03</td>\n",
       "      <td>2010-04-25</td>\n",
       "      <td>2011-05-01</td>\n",
       "      <td>-39.0</td>\n",
       "      <td>332.0</td>\n",
       "      <td>False</td>\n",
       "    </tr>\n",
       "    <tr>\n",
       "      <th>41</th>\n",
       "      <td>3100000638</td>\n",
       "      <td>1</td>\n",
       "      <td>2010-06-09</td>\n",
       "      <td>2010-04-30</td>\n",
       "      <td>2011-09-15</td>\n",
       "      <td>-40.0</td>\n",
       "      <td>463.0</td>\n",
       "      <td>False</td>\n",
       "    </tr>\n",
       "    <tr>\n",
       "      <th>42</th>\n",
       "      <td>3100000638</td>\n",
       "      <td>2</td>\n",
       "      <td>2010-06-09</td>\n",
       "      <td>2010-04-30</td>\n",
       "      <td>2011-09-15</td>\n",
       "      <td>-40.0</td>\n",
       "      <td>463.0</td>\n",
       "      <td>False</td>\n",
       "    </tr>\n",
       "    <tr>\n",
       "      <th>43</th>\n",
       "      <td>3100000644</td>\n",
       "      <td>1</td>\n",
       "      <td>2010-06-13</td>\n",
       "      <td>2010-06-20</td>\n",
       "      <td>2010-12-31</td>\n",
       "      <td>7.0</td>\n",
       "      <td>201.0</td>\n",
       "      <td>True</td>\n",
       "    </tr>\n",
       "    <tr>\n",
       "      <th>44</th>\n",
       "      <td>3100000648</td>\n",
       "      <td>1</td>\n",
       "      <td>2010-06-14</td>\n",
       "      <td>2010-06-15</td>\n",
       "      <td>2012-03-01</td>\n",
       "      <td>1.0</td>\n",
       "      <td>626.0</td>\n",
       "      <td>True</td>\n",
       "    </tr>\n",
       "    <tr>\n",
       "      <th>45</th>\n",
       "      <td>3100000660</td>\n",
       "      <td>1</td>\n",
       "      <td>2010-06-24</td>\n",
       "      <td>2010-07-15</td>\n",
       "      <td>2010-12-31</td>\n",
       "      <td>21.0</td>\n",
       "      <td>190.0</td>\n",
       "      <td>True</td>\n",
       "    </tr>\n",
       "    <tr>\n",
       "      <th>46</th>\n",
       "      <td>3100000667</td>\n",
       "      <td>1</td>\n",
       "      <td>2010-06-30</td>\n",
       "      <td>2010-06-30</td>\n",
       "      <td>2011-08-22</td>\n",
       "      <td>0.0</td>\n",
       "      <td>418.0</td>\n",
       "      <td>False</td>\n",
       "    </tr>\n",
       "    <tr>\n",
       "      <th>47</th>\n",
       "      <td>3100000667</td>\n",
       "      <td>2</td>\n",
       "      <td>2010-06-30</td>\n",
       "      <td>2010-06-30</td>\n",
       "      <td>2011-08-22</td>\n",
       "      <td>0.0</td>\n",
       "      <td>418.0</td>\n",
       "      <td>False</td>\n",
       "    </tr>\n",
       "    <tr>\n",
       "      <th>48</th>\n",
       "      <td>3100000667</td>\n",
       "      <td>3</td>\n",
       "      <td>2010-06-30</td>\n",
       "      <td>2010-06-30</td>\n",
       "      <td>2011-08-22</td>\n",
       "      <td>0.0</td>\n",
       "      <td>418.0</td>\n",
       "      <td>False</td>\n",
       "    </tr>\n",
       "    <tr>\n",
       "      <th>49</th>\n",
       "      <td>3100000679</td>\n",
       "      <td>1</td>\n",
       "      <td>2010-07-08</td>\n",
       "      <td>2010-07-04</td>\n",
       "      <td>2011-07-12</td>\n",
       "      <td>-4.0</td>\n",
       "      <td>369.0</td>\n",
       "      <td>False</td>\n",
       "    </tr>\n",
       "  </tbody>\n",
       "</table>\n",
       "</div>"
      ],
      "text/plain": [
       "   Purchase Documents Item Created_On_EKKO Required delivery date   GRN_date  \\\n",
       "0          3100000073    2      2009-04-23             2009-08-15 2009-12-21   \n",
       "1          3100000079    2      2009-04-26             2009-05-05 2009-07-05   \n",
       "2          3100000090    2      2009-05-03             2009-05-17 2012-02-08   \n",
       "3          3100000135    2      2009-06-03             2009-07-15 2009-10-27   \n",
       "4          3100000135    3      2009-06-03             2009-07-30 2011-09-26   \n",
       "5          3100000295    1      2009-09-23             2009-08-31 2010-09-20   \n",
       "6          3100000295    2      2009-09-23             2010-08-05 2010-09-20   \n",
       "7          3100000328    1      2009-10-18             2009-10-28 2010-02-01   \n",
       "8          3100000348    1      2009-10-26             2009-10-06 2010-06-30   \n",
       "9          3100000356    1      2009-10-29             2009-11-01 2010-03-10   \n",
       "10         3100000367    1      2009-11-03             2009-11-05 2009-12-31   \n",
       "11         3100000376    1      2009-11-10             2009-11-05 2010-10-19   \n",
       "12         3100000393    1      2009-11-18             2009-10-15 2010-12-31   \n",
       "13         3100000401    1      2009-11-22             2009-12-20 2010-07-15   \n",
       "14         3100000414    1      2009-12-08             2009-12-04 2010-03-31   \n",
       "15         3100000430    1      2009-12-20             2010-01-07 2009-12-31   \n",
       "16         3100000437    1      2009-12-22             2009-12-31 2011-06-28   \n",
       "17         3100000446    1      2009-12-23             2009-12-31 2012-02-19   \n",
       "18         3100000473    1      2010-01-28             2010-01-27 2011-09-12   \n",
       "19         3100000473    2      2010-01-28             2010-08-15 2011-09-12   \n",
       "20         3100000480    1      2010-02-02             2010-01-31 2010-12-31   \n",
       "21         3100000482    1      2010-02-03             2009-12-17 2010-02-01   \n",
       "22         3100000482    2      2010-02-03             2009-12-25 2010-02-01   \n",
       "23         3100000483    1      2010-02-03             2010-05-20 2010-12-31   \n",
       "24         3100000505    1      2010-02-22             2010-02-28 2010-06-30   \n",
       "25         3100000505    2      2010-02-22             2010-08-20 2011-08-10   \n",
       "26         3100000511    1      2010-03-01             2010-02-04 2011-06-06   \n",
       "27         3100000511    2      2010-03-01             2011-10-23 2011-12-08   \n",
       "28         3100000512    1      2010-03-01             2010-02-28 2010-06-30   \n",
       "29         3100000514    1      2010-03-02             2010-03-31 2010-09-05   \n",
       "30         3100000524    1      2010-03-08             2010-03-17 2012-12-11   \n",
       "31         3100000534    1      2010-03-14             2010-03-16 2010-03-31   \n",
       "32         3100000536    1      2010-03-16             2010-02-10 2010-10-11   \n",
       "33         3100000536    2      2010-03-16             2011-06-17 2011-08-02   \n",
       "34         3100000543    1      2010-03-22             2010-04-30 2010-05-31   \n",
       "35         3100000563    1      2010-04-13             2010-04-15 2011-07-19   \n",
       "36         3100000563    2      2010-04-13             2011-01-10 2011-07-19   \n",
       "37         3100000567    1      2010-04-20             2010-05-15 2010-09-07   \n",
       "38         3100000568    1      2010-04-21             2010-05-05 2012-01-22   \n",
       "39         3100000628    1      2010-06-03             2010-05-31 2010-12-12   \n",
       "40         3100000631    1      2010-06-03             2010-04-25 2011-05-01   \n",
       "41         3100000638    1      2010-06-09             2010-04-30 2011-09-15   \n",
       "42         3100000638    2      2010-06-09             2010-04-30 2011-09-15   \n",
       "43         3100000644    1      2010-06-13             2010-06-20 2010-12-31   \n",
       "44         3100000648    1      2010-06-14             2010-06-15 2012-03-01   \n",
       "45         3100000660    1      2010-06-24             2010-07-15 2010-12-31   \n",
       "46         3100000667    1      2010-06-30             2010-06-30 2011-08-22   \n",
       "47         3100000667    2      2010-06-30             2010-06-30 2011-08-22   \n",
       "48         3100000667    3      2010-06-30             2010-06-30 2011-08-22   \n",
       "49         3100000679    1      2010-07-08             2010-07-04 2011-07-12   \n",
       "\n",
       "    Ideal time  Actual time  Exception  \n",
       "0        114.0        242.0       True  \n",
       "1          9.0         70.0       True  \n",
       "2         14.0       1011.0       True  \n",
       "3         42.0        146.0       True  \n",
       "4         57.0        845.0       True  \n",
       "5        -23.0        362.0      False  \n",
       "6        316.0        362.0      False  \n",
       "7         10.0        106.0       True  \n",
       "8        -20.0        247.0      False  \n",
       "9          3.0        132.0       True  \n",
       "10         2.0         58.0       True  \n",
       "11        -5.0        343.0      False  \n",
       "12       -34.0        408.0      False  \n",
       "13        28.0        235.0       True  \n",
       "14        -4.0        113.0      False  \n",
       "15        18.0         11.0      False  \n",
       "16         9.0        553.0       True  \n",
       "17         8.0        788.0       True  \n",
       "18        -1.0        592.0      False  \n",
       "19       199.0        592.0       True  \n",
       "20        -2.0        332.0      False  \n",
       "21       -48.0         -2.0      False  \n",
       "22       -40.0         -2.0      False  \n",
       "23       106.0        331.0       True  \n",
       "24         6.0        128.0       True  \n",
       "25       179.0        534.0       True  \n",
       "26       -25.0        462.0      False  \n",
       "27       601.0        647.0      False  \n",
       "28        -1.0        121.0      False  \n",
       "29        29.0        187.0       True  \n",
       "30         9.0       1009.0       True  \n",
       "31         2.0         17.0       True  \n",
       "32       -34.0        209.0      False  \n",
       "33       458.0        504.0      False  \n",
       "34        39.0         70.0       True  \n",
       "35         2.0        462.0       True  \n",
       "36       272.0        462.0       True  \n",
       "37        25.0        140.0       True  \n",
       "38        14.0        641.0       True  \n",
       "39        -3.0        192.0      False  \n",
       "40       -39.0        332.0      False  \n",
       "41       -40.0        463.0      False  \n",
       "42       -40.0        463.0      False  \n",
       "43         7.0        201.0       True  \n",
       "44         1.0        626.0       True  \n",
       "45        21.0        190.0       True  \n",
       "46         0.0        418.0      False  \n",
       "47         0.0        418.0      False  \n",
       "48         0.0        418.0      False  \n",
       "49        -4.0        369.0      False  "
      ]
     },
     "metadata": {},
     "output_type": "display_data"
    }
   ],
   "source": [
    "# show summary and top rows\n",
    "print(\"Total rows in output:\", len(output))\n",
    "print(\"Problem (highlighted) rows:\", int(output['Exception'].sum()))\n",
    "display(output.head(50))"
   ]
  },
  {
   "cell_type": "code",
   "execution_count": 77,
   "id": "e81a9a81-6a7a-4d15-8056-f36495b99811",
   "metadata": {},
   "outputs": [
    {
     "name": "stdout",
     "output_type": "stream",
     "text": [
      "Saved output to: PO_Item_Delivery_Times_output.csv\n"
     ]
    }
   ],
   "source": [
    "# save to CSV\n",
    "output.to_csv(\"PO_Item_Delivery_Times_output(outlier_13).csv\", index=False)\n",
    "print(\"Saved output to: PO_Item_Delivery_Times_output.csv\")"
   ]
  },
  {
   "cell_type": "code",
   "execution_count": null,
   "id": "9a898d20-28c4-4475-901a-c91a9f2af8ed",
   "metadata": {},
   "outputs": [],
   "source": []
  }
 ],
 "metadata": {
  "kernelspec": {
   "display_name": "Python 3 (ipykernel)",
   "language": "python",
   "name": "python3"
  },
  "language_info": {
   "codemirror_mode": {
    "name": "ipython",
    "version": 3
   },
   "file_extension": ".py",
   "mimetype": "text/x-python",
   "name": "python",
   "nbconvert_exporter": "python",
   "pygments_lexer": "ipython3",
   "version": "3.12.7"
  }
 },
 "nbformat": 4,
 "nbformat_minor": 5
}
