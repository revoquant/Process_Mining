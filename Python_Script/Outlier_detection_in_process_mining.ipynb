{
 "cells": [
  {
   "cell_type": "code",
   "execution_count": 1,
   "id": "9a743e78-8e57-49a8-b9fc-27d5851329cf",
   "metadata": {},
   "outputs": [],
   "source": [
    "import pandas as pd"
   ]
  },
  {
   "cell_type": "code",
   "execution_count": 2,
   "id": "20a65dc6-cdc0-46d8-ba1a-f854c523dc90",
   "metadata": {},
   "outputs": [],
   "source": [
    "final_big_data = pd.read_csv(r\"E:\\Process_Mining\\Python_Output\\Process_Mining_final_trail.csv\", encoding='utf-8', low_memory=False)"
   ]
  },
  {
   "cell_type": "code",
   "execution_count": 3,
   "id": "16ee8c3c-c625-43bf-a1ba-8d44cd6ce58b",
   "metadata": {},
   "outputs": [],
   "source": [
    "final_big_data = final_big_data.astype(str)"
   ]
  },
  {
   "cell_type": "code",
   "execution_count": 4,
   "id": "b80fe31c-5a75-44ca-bd7c-88fee3edced1",
   "metadata": {},
   "outputs": [
    {
     "data": {
      "text/plain": [
       "array(['nan', '120010199.0', '120012814.0', ..., '120001288.0',\n",
       "       '320004785.0', '320000700.0'], dtype=object)"
      ]
     },
     "execution_count": 4,
     "metadata": {},
     "output_type": "execute_result"
    }
   ],
   "source": [
    "final_big_data[\"Material_EKPO\"].unique()"
   ]
  },
  {
   "cell_type": "code",
   "execution_count": 5,
   "id": "9ef8f936-e374-4cb0-bf4d-9c8a305f1a27",
   "metadata": {},
   "outputs": [],
   "source": [
    "final_big_data['Material_EKPO'] = pd.to_numeric(final_big_data['Material_EKPO'], errors='coerce').astype('Int64')"
   ]
  },
  {
   "cell_type": "code",
   "execution_count": 6,
   "id": "b2f7b876-96ce-419e-9d44-c258919d0a98",
   "metadata": {},
   "outputs": [
    {
     "data": {
      "text/plain": [
       "<IntegerArray>\n",
       "[     <NA>, 120010199, 120012814, 120015319, 120059606, 120059605, 120016602,\n",
       " 120008997, 120060233, 320004661,\n",
       " ...\n",
       " 320000667, 120001054, 120062101, 120004842, 120008137, 220003278, 120002251,\n",
       " 120001288, 320004785, 320000700]\n",
       "Length: 1252, dtype: Int64"
      ]
     },
     "execution_count": 6,
     "metadata": {},
     "output_type": "execute_result"
    }
   ],
   "source": [
    "final_big_data[\"Material_EKPO\"].unique()"
   ]
  },
  {
   "cell_type": "code",
   "execution_count": 7,
   "id": "8ae398c5-4770-473b-b616-478cab8bc136",
   "metadata": {
    "scrolled": true
   },
   "outputs": [
    {
     "name": "stdout",
     "output_type": "stream",
     "text": [
      "['JI Number', 'JI Created Date', 'Project Category', 'Client', 'Client.1', 'Desired Vendor', 'Name', 'Project Description', 'User Status', 'Client Name', 'Date of Approval', 'Project Type', 'System Status', 'Project Number', 'Approval Yr', 'Obj.Class', 'Obj.curr.of the appr', 'Plant.1', 'Priority', 'Project Type.1', 'Req.Comp.Code', 'Req.Company', 'Resp.company', 'Resp.company.1', 'Resp.Company Code', 'Resp.Controlling Are', 'Resp.Pr.Cntr', 'Functional Location', 'Project Definiton', 'Total_Amount', 'JQ_Numbers', 'Purchase Requisition', 'Item of requisition', 'Document Type', 'Purch. Doc. Category', 'Release State', 'Release strategy', 'Purchasing Group', 'Created By', 'Changed On', 'Requisitioner', 'Short Text', 'Plant', 'Req. Tracking Number', 'Material Group', 'Quantity requested', 'Unit of Measure', 'Shortage quantity', 'Requisition date', 'Deliv. date category', 'Delivery date', 'Release Date', 'GR processing time', 'Valuation Price', 'Price Unit', 'Purchase order', 'Purchase order item', 'Purchase Order Date', 'Quantity ordered', 'Jaggaer RFXID', 'Jaggaer RFX Reference Code', 'Jaggaer Tender Code', 'Jaggaer Tender Reference Code', 'Tender. #', 'RFx Code', 'RFx Title', 'Current Tender Status', 'RFx Creation Date', 'RFQ/RFP', 'PR SAP Ref', 'PR Value From RAT', 'PR Approval/Allocation Date', 'Project /Facility Ref', 'Project Name', 'Tender Created by', 'Owner Email', 'Dept / Division', 'RAT Ref', 'RAT Creation date', 'RAT Approval date (Planned)', 'RAT Approval date (Actual)', 'Number of Days for RAT Creation', 'EOI RFeference_number', 'EOI issuance Date', 'Number/List of EOI issued', 'EOI Closing Date', 'Number/List of EOI received', 'Number/List of ITT/RFP issued', 'No/List of FoA received', 'Planned Tender Submission date as per RAT', 'Tender Submission date as per ITT', 'Revised Tender Submission date (Latest)', 'EoT (Days)', 'Tender Opening Date-I', 'Number / List of Tenders received', 'Number / List of Tenders shortlisted for', 'Date of issuance of PTC-01', 'Date of receipt of Revised Tender Submission', 'Tender Opening Date-II', 'Number / List of Revised Tenders received', 'Number / List of Tenders shortlisted for .1', 'Date of issuance of PTC-02', 'Date of receipt of Revised Tender Submission 02', 'Tender Opening Date-III', 'Number / List of Revised Tenders received 02', 'Number / List of Tenders shortlisted for .2', 'Tender Opening Date-IV', 'Number / List of Revised Tenders received 03', 'Successful / Proposed Vendor for Award', 'Successful / Proposed Vendor for Award- Jaggaer', 'Successful / Proposed Vendor for Award-SAP ID', 'BAFO/LAFO - Amount', 'BAFO/LAFO - Date', 'Total Tender Days KPI-2', 'Savings/verrun', 'Pre Award Date', 'Commercial Eval Closing Date', 'Technical Eval Closing Date', 'Plant.1_PR', 'Created By_PR', 'App.Req.Type', 'Purchasing Document', 'Item.1', 'Material_EKPO', 'Short Text_PO', 'Net Price_PO', 'PO_Quantity', 'Net Value_PO', 'Created On_ekko', 'Release indicator', 'Net Order Price', 'Price Unit_PO', 'Net Order Value', 'Plant_PO', 'Item.1_PO', 'Seq. No. of Account Assgt', 'Trans./event type', 'Material Doc. Year', 'Material Document', 'Material Doc.Item', 'PO History Category', 'Movement type', 'Quantity', 'Quantity in OPUn', 'Purchase Order Type', 'Amt.in Loc.Cur.', 'Amount', 'Currency_PO', 'GR/IR clearing value in local currency', 'GR Blck.Stock in OUn', 'GR blocked stck.OPUn', 'Debit/Credit Ind.', 'Reference', 'Fisc. Year Ref. Doc.', 'Reference Document', 'Reference Doc. Item', 'Reason for Movement', 'Entry Date', 'Time of Entry', 'Invoice Value', 'Invoice Value in FC', 'Sequential Number', 'Del. Note Quantity', 'GR/IR clearing value in FC', 'Local currency', 'Quantity.1', 'Document Date', 'Created By_PO', 'Package Number', 'Service line', 'Seq. No. of PO Acc. Assignment', 'GR/IR clearing value in FC.1', 'FC invoice amount', 'SAP Release', 'Quantity.2', 'Quantity in OPUn.1', 'Amt.in Loc.Cur..1', 'Amount.1', 'Val. GR Blocked Stock in OUn', 'Valuated GR Blocked Stock in OPUn', 'Exch. Rate Diff. Amt', 'Retention in Document Currency', 'Retention in Company Code Currency', 'Posted Retention in Document Currency', 'Posted Security Retention in CC Crcy', 'Quantity in Parallel Unit of Measure', 'GR Blocked Stock in Base/Parallel UoM', 'GR Blkd Stk in Basis or Parallel UoM', 'Quantity.3', 'Invoice Document No.', 'Invoice Fiscal Year', 'Invoice Item', 'Invoice amount', 'Invoice Debit/Credit Indicator', 'Invoice Document Type', 'Invoice Document Date', 'Invoice Posting Date', 'posting_date_grn', 'Number/List of EOI issued (In numbers)', 'Number/List of EOI received (In numbers)', 'Number/List of ITT/RFP issued (In numbers)', 'No/List of FoA received (In numbers)', 'Number / List of Tenders received (In numbers)', 'Number / List of Tenders shortlisted for (In numbers)', 'Number / List of Revised Tenders received (In numbers)', 'Number / List of Tenders shortlisted for .1 (In numbers)', 'Number / List of Revised Tenders received 02 (In numbers)', 'JQ_Numbers (In numbers)', 'Change doc. object', 'Obj. value', 'Document Number', 'Table Name', 'Table Key', 'Field name', 'Change ID', 'Text flag', 'Unit (#1)', 'UNIT_NEW', 'CUKY (#1)', 'CUKY_NEW', 'New value', 'Old value', '_DATAAGING', 'Transaction Code', 'First PO Release Date_PO', 'Time', 'User', 'Field', 'DDTEXT', 'Change doc. object_PR', 'Obj. value_PR', 'Document Number_PR', 'Table Name_PR', 'Table Key_PR', 'Field name_PR', 'Change ID_PR', 'Text flag_PR', 'Unit (#1)_PR', 'UNIT_NEW_PR', 'CUKY (#1)_PR', 'CUKY_NEW_PR', 'New value_PR', 'Old value_PR', '_DATAAGING_PR', 'Transaction Code_PR', 'First PO Release Date_PR', 'Time_PR', 'User_PR', 'Field_PR', 'DDTEXT_PR']\n"
     ]
    }
   ],
   "source": [
    "print(list(final_big_data.columns))"
   ]
  },
  {
   "cell_type": "markdown",
   "id": "40f978a8-9541-4cfe-8db0-239667bbf724",
   "metadata": {
    "jp-MarkdownHeadingCollapsed": true
   },
   "source": [
    "##### 1.Common Vendors Always Receiving RFQs"
   ]
  },
  {
   "cell_type": "code",
   "execution_count": 8,
   "id": "fb26f48f-c879-4f82-89a0-458e4eafd583",
   "metadata": {
    "scrolled": true
   },
   "outputs": [
    {
     "data": {
      "text/plain": [
       "array(['nan', 'AG ENGINEERING', 'Deyaar Faciliti', 'ETISALAT FACILI',\n",
       "       'IDAMA FACILITIE', 'IMDAAD(LLC)', 'Khansaheb FMS L',\n",
       "       'Operon Middle E', 'TRANSGUARD GROU', 'GREEN SCAPES',\n",
       "       'OPAL LANDSCAPIN', 'ORIENT IRRIGATI', 'Oasis Hills Lan',\n",
       "       'Proscape FM LLC', 'EXTERRADISE', 'Gebal Al Qalamo',\n",
       "       'Green Concept L', 'PLANET GREENERS', 'ZAID AL-HUSSAIN',\n",
       "       'Al Masaood Nati', 'Al Tariq Contra', 'BNS CONTRACTING',\n",
       "       'Civil Matrix Co', 'EMIRATES SANDS', 'Miami Contracti',\n",
       "       'Reliant Contrac', 'SEA SHORE CONST', 'AL HIKMA BUILDI',\n",
       "       'AL TURATH AL AS', 'BUILDING CO. (B', 'Dutco Construct',\n",
       "       'Eastern Interna', 'FAST BLDG. CONT', 'Gulf Asia Contr',\n",
       "       'Naresco Contrac', 'Tornado Buildin', 'AL NUAIMI GROUP',\n",
       "       'Moon Link Build', 'Royal Gulf Cont', 'A P C C PILING',\n",
       "       'BAUER SPEZIALTI', 'INTERNATIONAL F', 'NSCC Internatio',\n",
       "       'PINNACLE INTERN', 'Soiltec Piling', 'Ahli Pools Gard',\n",
       "       'Desert Leisure', 'Imagineering La', 'WATER IN MOTION',\n",
       "       'CHINA NATIONAL', 'Darwish Enginee', 'Engineering Con',\n",
       "       'GBH INTERNATION', 'MOHAMMED ABDULM', 'Silver Coast Co',\n",
       "       'United Engineer', 'HILLS & FORT CO', 'MASRI ENGINEERI',\n",
       "       'PLUS SEVEN CONT', 'Paramount Inter', 'A R C DECOR & G',\n",
       "       'Asfy Decoration', 'GOLDEN ARCH DEC', 'H T S Interior',\n",
       "       'QASSER AL BADEE', 'Alpha Fifty Fiv', 'BELHASA PROJECT',\n",
       "       'Frontier Fencin', 'SHADES & SURFAC', 'Sabt Industry L',\n",
       "       'DAIKIN AIRCONDI', 'JOHNSON CONTROL', 'Petra Air Condi',\n",
       "       'TRANE B V B A (', 'UTS CARRIER (L.', 'TARGET ARCHITE',\n",
       "       'ARCHCORP ARCHIT', 'ARCHDOME CONSUL', 'Al Bayaty Archi',\n",
       "       'Al Gurg Consult', 'M A K S Enginee', 'National Engine',\n",
       "       'ACPV Architects', 'Aaltovillas FZ', 'Arch Me', 'Ark Sotogrande',\n",
       "       'Godwin Austen J', 'Marcelo Passare', 'SAOTA (PTY) LTD',\n",
       "       'Emirates Public', 'NATIONAL RENT A', 'RAK Transport A',\n",
       "       'SWAIDAN TRADING', 'TRANSWORLD META', 'UNITED MOTORS &'],\n",
       "      dtype=object)"
      ]
     },
     "execution_count": 8,
     "metadata": {},
     "output_type": "execute_result"
    }
   ],
   "source": [
    "final_big_data['Number/List of EOI received'].unique()"
   ]
  },
  {
   "cell_type": "code",
   "execution_count": 9,
   "id": "e7e4e028-59a2-49be-8097-27774936887c",
   "metadata": {},
   "outputs": [
    {
     "data": {
      "text/plain": [
       "0        1000001413\n",
       "1        1000001519\n",
       "2        1000001562\n",
       "3        1000001634\n",
       "4        1000001634\n",
       "            ...    \n",
       "16176    1800011174\n",
       "16177    1800011174\n",
       "16178    1800011174\n",
       "16179    1800011174\n",
       "16180    1800011174\n",
       "Name: Purchase Requisition, Length: 16181, dtype: object"
      ]
     },
     "execution_count": 9,
     "metadata": {},
     "output_type": "execute_result"
    }
   ],
   "source": [
    "final_big_data['Purchase Requisition']"
   ]
  },
  {
   "cell_type": "code",
   "execution_count": 10,
   "id": "ad167f4e-8d9d-4bb6-8e43-e319affd49ed",
   "metadata": {},
   "outputs": [],
   "source": [
    "# Step 1: Find total number of unique PRs in the dataset\n",
    "total_pr_count = final_big_data['Purchase Requisition'].nunique()"
   ]
  },
  {
   "cell_type": "code",
   "execution_count": 11,
   "id": "87bf6847-d894-4df7-b101-06eb67ed9ed6",
   "metadata": {},
   "outputs": [
    {
     "data": {
      "text/plain": [
       "2877"
      ]
     },
     "execution_count": 11,
     "metadata": {},
     "output_type": "execute_result"
    }
   ],
   "source": [
    "total_pr_count"
   ]
  },
  {
   "cell_type": "code",
   "execution_count": 12,
   "id": "65b1b954-6aac-4387-bbf3-a823636d3d5b",
   "metadata": {},
   "outputs": [],
   "source": [
    "final_big_data_unique = final_big_data[\n",
    "    (final_big_data['Number/List of EOI received'].notna()) & \n",
    "    (final_big_data['Number/List of EOI received'].str.lower() != 'nan')\n",
    "]"
   ]
  },
  {
   "cell_type": "code",
   "execution_count": 13,
   "id": "ea656b4a-1bb2-4214-b09a-8d551025d6b7",
   "metadata": {
    "scrolled": true
   },
   "outputs": [
    {
     "data": {
      "text/plain": [
       "array(['AG ENGINEERING', 'Deyaar Faciliti', 'ETISALAT FACILI',\n",
       "       'IDAMA FACILITIE', 'IMDAAD(LLC)', 'Khansaheb FMS L',\n",
       "       'Operon Middle E', 'TRANSGUARD GROU', 'GREEN SCAPES',\n",
       "       'OPAL LANDSCAPIN', 'ORIENT IRRIGATI', 'Oasis Hills Lan',\n",
       "       'Proscape FM LLC', 'EXTERRADISE', 'Gebal Al Qalamo',\n",
       "       'Green Concept L', 'PLANET GREENERS', 'ZAID AL-HUSSAIN',\n",
       "       'Al Masaood Nati', 'Al Tariq Contra', 'BNS CONTRACTING',\n",
       "       'Civil Matrix Co', 'EMIRATES SANDS', 'Miami Contracti',\n",
       "       'Reliant Contrac', 'SEA SHORE CONST', 'AL HIKMA BUILDI',\n",
       "       'AL TURATH AL AS', 'BUILDING CO. (B', 'Dutco Construct',\n",
       "       'Eastern Interna', 'FAST BLDG. CONT', 'Gulf Asia Contr',\n",
       "       'Naresco Contrac', 'Tornado Buildin', 'AL NUAIMI GROUP',\n",
       "       'Moon Link Build', 'Royal Gulf Cont', 'A P C C PILING',\n",
       "       'BAUER SPEZIALTI', 'INTERNATIONAL F', 'NSCC Internatio',\n",
       "       'PINNACLE INTERN', 'Soiltec Piling', 'Ahli Pools Gard',\n",
       "       'Desert Leisure', 'Imagineering La', 'WATER IN MOTION',\n",
       "       'CHINA NATIONAL', 'Darwish Enginee', 'Engineering Con',\n",
       "       'GBH INTERNATION', 'MOHAMMED ABDULM', 'Silver Coast Co',\n",
       "       'United Engineer', 'HILLS & FORT CO', 'MASRI ENGINEERI',\n",
       "       'PLUS SEVEN CONT', 'Paramount Inter', 'A R C DECOR & G',\n",
       "       'Asfy Decoration', 'GOLDEN ARCH DEC', 'H T S Interior',\n",
       "       'QASSER AL BADEE', 'Alpha Fifty Fiv', 'BELHASA PROJECT',\n",
       "       'Frontier Fencin', 'SHADES & SURFAC', 'Sabt Industry L',\n",
       "       'DAIKIN AIRCONDI', 'JOHNSON CONTROL', 'Petra Air Condi',\n",
       "       'TRANE B V B A (', 'UTS CARRIER (L.', 'TARGET ARCHITE',\n",
       "       'ARCHCORP ARCHIT', 'ARCHDOME CONSUL', 'Al Bayaty Archi',\n",
       "       'Al Gurg Consult', 'M A K S Enginee', 'National Engine',\n",
       "       'ACPV Architects', 'Aaltovillas FZ', 'Arch Me', 'Ark Sotogrande',\n",
       "       'Godwin Austen J', 'Marcelo Passare', 'SAOTA (PTY) LTD',\n",
       "       'Emirates Public', 'NATIONAL RENT A', 'RAK Transport A',\n",
       "       'SWAIDAN TRADING', 'TRANSWORLD META', 'UNITED MOTORS &'],\n",
       "      dtype=object)"
      ]
     },
     "execution_count": 13,
     "metadata": {},
     "output_type": "execute_result"
    }
   ],
   "source": [
    "final_big_data_unique['Number/List of EOI received'].unique()"
   ]
  },
  {
   "cell_type": "code",
   "execution_count": 14,
   "id": "d2edcf46-6c67-4027-a76f-02a088d0dd29",
   "metadata": {},
   "outputs": [],
   "source": [
    "# Step 2: For each vendor, find unique count of PRs they received RFQs for\n",
    "vendor_col = 'Number/List of EOI received' "
   ]
  },
  {
   "cell_type": "code",
   "execution_count": 15,
   "id": "7e8c74db-db03-4781-aace-2a6516d04f80",
   "metadata": {},
   "outputs": [],
   "source": [
    "# Group by vendor, count unique PRs (Purchase Requisition) they are associated with\n",
    "vendor_pr_counts = final_big_data_unique.groupby(vendor_col)['Purchase Requisition'].nunique().reset_index()"
   ]
  },
  {
   "cell_type": "code",
   "execution_count": 16,
   "id": "9c5b39a9-d875-4362-9f1b-a20b069ef53d",
   "metadata": {},
   "outputs": [
    {
     "data": {
      "text/html": [
       "<div>\n",
       "<style scoped>\n",
       "    .dataframe tbody tr th:only-of-type {\n",
       "        vertical-align: middle;\n",
       "    }\n",
       "\n",
       "    .dataframe tbody tr th {\n",
       "        vertical-align: top;\n",
       "    }\n",
       "\n",
       "    .dataframe thead th {\n",
       "        text-align: right;\n",
       "    }\n",
       "</style>\n",
       "<table border=\"1\" class=\"dataframe\">\n",
       "  <thead>\n",
       "    <tr style=\"text-align: right;\">\n",
       "      <th></th>\n",
       "      <th>Number/List of EOI received</th>\n",
       "      <th>Purchase Requisition</th>\n",
       "    </tr>\n",
       "  </thead>\n",
       "  <tbody>\n",
       "    <tr>\n",
       "      <th>0</th>\n",
       "      <td>A P C C PILING</td>\n",
       "      <td>1</td>\n",
       "    </tr>\n",
       "    <tr>\n",
       "      <th>1</th>\n",
       "      <td>A R C DECOR &amp; G</td>\n",
       "      <td>1</td>\n",
       "    </tr>\n",
       "    <tr>\n",
       "      <th>2</th>\n",
       "      <td>ACPV Architects</td>\n",
       "      <td>1</td>\n",
       "    </tr>\n",
       "    <tr>\n",
       "      <th>3</th>\n",
       "      <td>AG ENGINEERING</td>\n",
       "      <td>1</td>\n",
       "    </tr>\n",
       "    <tr>\n",
       "      <th>4</th>\n",
       "      <td>AL HIKMA BUILDI</td>\n",
       "      <td>3</td>\n",
       "    </tr>\n",
       "  </tbody>\n",
       "</table>\n",
       "</div>"
      ],
      "text/plain": [
       "  Number/List of EOI received  Purchase Requisition\n",
       "0              A P C C PILING                     1\n",
       "1             A R C DECOR & G                     1\n",
       "2             ACPV Architects                     1\n",
       "3              AG ENGINEERING                     1\n",
       "4             AL HIKMA BUILDI                     3"
      ]
     },
     "execution_count": 16,
     "metadata": {},
     "output_type": "execute_result"
    }
   ],
   "source": [
    "vendor_pr_counts.head()"
   ]
  },
  {
   "cell_type": "code",
   "execution_count": 17,
   "id": "e2b776b9-19a5-4958-a8f2-9a8cd95d25af",
   "metadata": {},
   "outputs": [
    {
     "data": {
      "text/plain": [
       "array([1, 3, 2, 4])"
      ]
     },
     "execution_count": 17,
     "metadata": {},
     "output_type": "execute_result"
    }
   ],
   "source": [
    "vendor_pr_counts['Purchase Requisition'].unique()"
   ]
  },
  {
   "cell_type": "code",
   "execution_count": 18,
   "id": "a94be47f-1d20-4b84-9273-185404b31afc",
   "metadata": {},
   "outputs": [],
   "source": [
    "vendor_pr_counts.rename(columns={'Purchase Requisition': 'Unique_PR_Count'}, inplace=True)"
   ]
  },
  {
   "cell_type": "code",
   "execution_count": 19,
   "id": "670a3207-07ec-4746-81cc-87f8cb26ffa4",
   "metadata": {},
   "outputs": [],
   "source": [
    "vendor_pr_counts['PR_Coverage_Percentage'] = (vendor_pr_counts['Unique_PR_Count'] / total_pr_count) * 100"
   ]
  },
  {
   "cell_type": "code",
   "execution_count": 20,
   "id": "11cddf68-c2fb-4c66-a30a-5f4fdce22348",
   "metadata": {},
   "outputs": [
    {
     "data": {
      "text/plain": [
       "array([0.03475843, 0.10427529, 0.06951686, 0.13903372])"
      ]
     },
     "execution_count": 20,
     "metadata": {},
     "output_type": "execute_result"
    }
   ],
   "source": [
    "vendor_pr_counts['PR_Coverage_Percentage'].unique()"
   ]
  },
  {
   "cell_type": "code",
   "execution_count": 21,
   "id": "68d425d2-5fb0-474d-ba6e-e3e16f8b7fdb",
   "metadata": {},
   "outputs": [
    {
     "data": {
      "text/html": [
       "<div>\n",
       "<style scoped>\n",
       "    .dataframe tbody tr th:only-of-type {\n",
       "        vertical-align: middle;\n",
       "    }\n",
       "\n",
       "    .dataframe tbody tr th {\n",
       "        vertical-align: top;\n",
       "    }\n",
       "\n",
       "    .dataframe thead th {\n",
       "        text-align: right;\n",
       "    }\n",
       "</style>\n",
       "<table border=\"1\" class=\"dataframe\">\n",
       "  <thead>\n",
       "    <tr style=\"text-align: right;\">\n",
       "      <th></th>\n",
       "      <th>Number/List of EOI received</th>\n",
       "      <th>Unique_PR_Count</th>\n",
       "      <th>PR_Coverage_Percentage</th>\n",
       "    </tr>\n",
       "  </thead>\n",
       "  <tbody>\n",
       "    <tr>\n",
       "      <th>0</th>\n",
       "      <td>A P C C PILING</td>\n",
       "      <td>1</td>\n",
       "      <td>0.034758</td>\n",
       "    </tr>\n",
       "    <tr>\n",
       "      <th>1</th>\n",
       "      <td>A R C DECOR &amp; G</td>\n",
       "      <td>1</td>\n",
       "      <td>0.034758</td>\n",
       "    </tr>\n",
       "    <tr>\n",
       "      <th>2</th>\n",
       "      <td>ACPV Architects</td>\n",
       "      <td>1</td>\n",
       "      <td>0.034758</td>\n",
       "    </tr>\n",
       "    <tr>\n",
       "      <th>3</th>\n",
       "      <td>AG ENGINEERING</td>\n",
       "      <td>1</td>\n",
       "      <td>0.034758</td>\n",
       "    </tr>\n",
       "    <tr>\n",
       "      <th>4</th>\n",
       "      <td>AL HIKMA BUILDI</td>\n",
       "      <td>3</td>\n",
       "      <td>0.104275</td>\n",
       "    </tr>\n",
       "    <tr>\n",
       "      <th>...</th>\n",
       "      <td>...</td>\n",
       "      <td>...</td>\n",
       "      <td>...</td>\n",
       "    </tr>\n",
       "    <tr>\n",
       "      <th>89</th>\n",
       "      <td>UNITED MOTORS &amp;</td>\n",
       "      <td>1</td>\n",
       "      <td>0.034758</td>\n",
       "    </tr>\n",
       "    <tr>\n",
       "      <th>90</th>\n",
       "      <td>UTS CARRIER (L.</td>\n",
       "      <td>1</td>\n",
       "      <td>0.034758</td>\n",
       "    </tr>\n",
       "    <tr>\n",
       "      <th>91</th>\n",
       "      <td>United Engineer</td>\n",
       "      <td>1</td>\n",
       "      <td>0.034758</td>\n",
       "    </tr>\n",
       "    <tr>\n",
       "      <th>92</th>\n",
       "      <td>WATER IN MOTION</td>\n",
       "      <td>1</td>\n",
       "      <td>0.034758</td>\n",
       "    </tr>\n",
       "    <tr>\n",
       "      <th>93</th>\n",
       "      <td>ZAID AL-HUSSAIN</td>\n",
       "      <td>1</td>\n",
       "      <td>0.034758</td>\n",
       "    </tr>\n",
       "  </tbody>\n",
       "</table>\n",
       "<p>94 rows × 3 columns</p>\n",
       "</div>"
      ],
      "text/plain": [
       "   Number/List of EOI received  Unique_PR_Count  PR_Coverage_Percentage\n",
       "0               A P C C PILING                1                0.034758\n",
       "1              A R C DECOR & G                1                0.034758\n",
       "2              ACPV Architects                1                0.034758\n",
       "3               AG ENGINEERING                1                0.034758\n",
       "4              AL HIKMA BUILDI                3                0.104275\n",
       "..                         ...              ...                     ...\n",
       "89             UNITED MOTORS &                1                0.034758\n",
       "90             UTS CARRIER (L.                1                0.034758\n",
       "91             United Engineer                1                0.034758\n",
       "92             WATER IN MOTION                1                0.034758\n",
       "93             ZAID AL-HUSSAIN                1                0.034758\n",
       "\n",
       "[94 rows x 3 columns]"
      ]
     },
     "execution_count": 21,
     "metadata": {},
     "output_type": "execute_result"
    }
   ],
   "source": [
    "vendor_pr_counts"
   ]
  },
  {
   "cell_type": "code",
   "execution_count": 22,
   "id": "a3d30697-7404-41e5-b402-97fb58aea2d2",
   "metadata": {},
   "outputs": [],
   "source": [
    "# Filter vendors with 90%+ coverage\n",
    "common_vendors_90_plus = vendor_pr_counts[vendor_pr_counts['PR_Coverage_Percentage'] >= 90]"
   ]
  },
  {
   "cell_type": "code",
   "execution_count": 23,
   "id": "697bdfd3-7133-4809-a3cd-656a5c3f1b09",
   "metadata": {},
   "outputs": [
    {
     "name": "stdout",
     "output_type": "stream",
     "text": [
      "Empty DataFrame\n",
      "Columns: [Number/List of EOI received, Unique_PR_Count, PR_Coverage_Percentage]\n",
      "Index: []\n"
     ]
    }
   ],
   "source": [
    "print(common_vendors_90_plus)"
   ]
  },
  {
   "cell_type": "code",
   "execution_count": 24,
   "id": "715aee7f-761e-45d3-abcb-b710d3dd533b",
   "metadata": {},
   "outputs": [],
   "source": [
    "# common_vendors_90_plus.to_csv(\"Common_Vendors_Always_Receiving_RFQs.csv\", index=False)"
   ]
  },
  {
   "cell_type": "markdown",
   "id": "9beef174-bced-43fa-a89c-7a96137221d4",
   "metadata": {
    "jp-MarkdownHeadingCollapsed": true
   },
   "source": [
    "##### 2.Dummy Vendors – Vendors always in RFQ list but never submit bids"
   ]
  },
  {
   "cell_type": "code",
   "execution_count": 25,
   "id": "03111ac5-22ba-4e4d-85fc-3a77b7be64c9",
   "metadata": {},
   "outputs": [
    {
     "data": {
      "text/plain": [
       "array(['1000001413', '1000001519', '1000001562', ..., '1200015215',\n",
       "       '1200015271', '1800011174'], dtype=object)"
      ]
     },
     "execution_count": 25,
     "metadata": {},
     "output_type": "execute_result"
    }
   ],
   "source": [
    "final_big_data['Purchase Requisition'].unique()"
   ]
  },
  {
   "cell_type": "code",
   "execution_count": 26,
   "id": "66aec86a-0b1e-4281-8e72-4055ac25843f",
   "metadata": {
    "scrolled": true
   },
   "outputs": [
    {
     "data": {
      "text/plain": [
       "array(['nan', 'AG ENGINEERING', 'Deyaar Faciliti', 'ETISALAT FACILI',\n",
       "       'IDAMA FACILITIE', 'IMDAAD(LLC)', 'Khansaheb FMS L',\n",
       "       'Operon Middle E', 'TRANSGUARD GROU', 'GREEN SCAPES',\n",
       "       'OPAL LANDSCAPIN', 'ORIENT IRRIGATI', 'Oasis Hills Lan',\n",
       "       'Proscape FM LLC', 'EXTERRADISE', 'Gebal Al Qalamo',\n",
       "       'Green Concept L', 'PLANET GREENERS', 'ZAID AL-HUSSAIN',\n",
       "       'Al Masaood Nati', 'Al Tariq Contra', 'BNS CONTRACTING',\n",
       "       'Civil Matrix Co', 'EMIRATES SANDS', 'Miami Contracti',\n",
       "       'Reliant Contrac', 'SEA SHORE CONST', 'AL HIKMA BUILDI',\n",
       "       'AL TURATH AL AS', 'BUILDING CO. (B', 'Dutco Construct',\n",
       "       'Eastern Interna', 'FAST BLDG. CONT', 'Gulf Asia Contr',\n",
       "       'Naresco Contrac', 'Tornado Buildin', 'AL NUAIMI GROUP',\n",
       "       'Moon Link Build', 'Royal Gulf Cont', 'A P C C PILING',\n",
       "       'BAUER SPEZIALTI', 'INTERNATIONAL F', 'NSCC Internatio',\n",
       "       'PINNACLE INTERN', 'Soiltec Piling', 'Ahli Pools Gard',\n",
       "       'Desert Leisure', 'Imagineering La', 'WATER IN MOTION',\n",
       "       'CHINA NATIONAL', 'Darwish Enginee', 'Engineering Con',\n",
       "       'GBH INTERNATION', 'MOHAMMED ABDULM', 'Silver Coast Co',\n",
       "       'United Engineer', 'HILLS & FORT CO', 'MASRI ENGINEERI',\n",
       "       'PLUS SEVEN CONT', 'Paramount Inter', 'A R C DECOR & G',\n",
       "       'Asfy Decoration', 'GOLDEN ARCH DEC', 'H T S Interior',\n",
       "       'QASSER AL BADEE', 'Alpha Fifty Fiv', 'BELHASA PROJECT',\n",
       "       'Frontier Fencin', 'SHADES & SURFAC', 'Sabt Industry L',\n",
       "       'DAIKIN AIRCONDI', 'JOHNSON CONTROL', 'Petra Air Condi',\n",
       "       'TRANE B V B A (', 'UTS CARRIER (L.', 'TARGET ARCHITE',\n",
       "       'ARCHCORP ARCHIT', 'ARCHDOME CONSUL', 'Al Bayaty Archi',\n",
       "       'Al Gurg Consult', 'M A K S Enginee', 'National Engine',\n",
       "       'ACPV Architects', 'Aaltovillas FZ', 'Arch Me', 'Ark Sotogrande',\n",
       "       'Godwin Austen J', 'Marcelo Passare', 'SAOTA (PTY) LTD',\n",
       "       'Emirates Public', 'NATIONAL RENT A', 'RAK Transport A',\n",
       "       'SWAIDAN TRADING', 'TRANSWORLD META', 'UNITED MOTORS &'],\n",
       "      dtype=object)"
      ]
     },
     "execution_count": 26,
     "metadata": {},
     "output_type": "execute_result"
    }
   ],
   "source": [
    "final_big_data['Number/List of EOI received'].unique()"
   ]
  },
  {
   "cell_type": "code",
   "execution_count": 27,
   "id": "2dc251a5-bd0a-44e9-aaf7-0543b6e7b49f",
   "metadata": {},
   "outputs": [
    {
     "data": {
      "text/plain": [
       "array(['nan', 'AG ENGINEERIN', 'Deyaar Facili', 'ETISALAT FACI',\n",
       "       'IDAMA FACILIT', 'IMDAAD(LLC)', 'Khansaheb FMS', 'Operon Middle',\n",
       "       'TRANSGUARD GR', 'GREEN SCAPES', 'Oasis Hills L', 'Proscape FM L',\n",
       "       'ORIENT IRRIGA', 'EXTERRADISE', 'Al Masaood Na', 'Al Tariq Cont',\n",
       "       'EMIRATES SAND', 'Miami Contrac', 'Reliant Contr', 'SEA SHORE CON',\n",
       "       'AL TURATH AL', 'BUILDING CO.', 'Dutco Constru', 'Eastern Inter',\n",
       "       'FAST BLDG. CO', 'Gulf Asia Con', 'Tornado Build', 'AL HIKMA BUIL',\n",
       "       'AL NUAIMI GRO', 'Moon Link Bui', 'Royal Gulf Co', 'INTERNATIONAL',\n",
       "       'PINNACLE INTE', 'Soiltec Pilin', 'Ahli Pools Ga', 'Desert Leisur',\n",
       "       'Imagineering', 'WATER IN MOTI', 'CHINA NATIONA', 'Darwish Engin',\n",
       "       'Engineering C', 'Silver Coast', 'United Engine', 'BNS CONTRACTI',\n",
       "       'HILLS & FORT', 'MASRI ENGINEE', 'PLUS SEVEN CO', 'Paramount Int',\n",
       "       'Asfy Decorati', 'GOLDEN ARCH D', 'H T S Interio', 'QASSER AL BAD',\n",
       "       'BELHASA PROJE', 'Frontier Fenc', 'SHADES & SURF', 'Sabt Industry',\n",
       "       'DAIKIN AIRCON', 'JOHNSON CONTR', 'Petra Air Con', 'TRANE B V B A',\n",
       "       'UTS CARRIER (', 'TARGET ARCHI', 'ARCHCORP ARCH', 'ARCHDOME CONS',\n",
       "       'Al Bayaty Arc', 'Al Gurg Consu', 'Emirates Publ', 'RAK Transport',\n",
       "       'SWAIDAN TRADI'], dtype=object)"
      ]
     },
     "execution_count": 27,
     "metadata": {},
     "output_type": "execute_result"
    }
   ],
   "source": [
    "final_big_data['Number / List of Tenders received'].unique()"
   ]
  },
  {
   "cell_type": "code",
   "execution_count": 28,
   "id": "f2d31014-0c26-43e9-b06f-45295af2bb08",
   "metadata": {},
   "outputs": [],
   "source": [
    "import pandas as pd\n",
    "\n",
    "# 1. Count unique PRs where each vendor was invited (RFQ shared)\n",
    "rfq_df = (\n",
    "    final_big_data[['Purchase Requisition', 'Number/List of EOI received']]\n",
    "    .dropna(subset=['Number/List of EOI received'])\n",
    ")\n",
    "rfq_df = rfq_df[rfq_df['Number/List of EOI received'].str.lower() != 'nan']"
   ]
  },
  {
   "cell_type": "code",
   "execution_count": 29,
   "id": "e1b4f180-cdc3-40d5-b1ad-5f62e9aa1650",
   "metadata": {},
   "outputs": [
    {
     "data": {
      "text/html": [
       "<div>\n",
       "<style scoped>\n",
       "    .dataframe tbody tr th:only-of-type {\n",
       "        vertical-align: middle;\n",
       "    }\n",
       "\n",
       "    .dataframe tbody tr th {\n",
       "        vertical-align: top;\n",
       "    }\n",
       "\n",
       "    .dataframe thead th {\n",
       "        text-align: right;\n",
       "    }\n",
       "</style>\n",
       "<table border=\"1\" class=\"dataframe\">\n",
       "  <thead>\n",
       "    <tr style=\"text-align: right;\">\n",
       "      <th></th>\n",
       "      <th>Purchase Requisition</th>\n",
       "      <th>Number/List of EOI received</th>\n",
       "    </tr>\n",
       "  </thead>\n",
       "  <tbody>\n",
       "    <tr>\n",
       "      <th>16018</th>\n",
       "      <td>1000001809</td>\n",
       "      <td>AG ENGINEERING</td>\n",
       "    </tr>\n",
       "    <tr>\n",
       "      <th>16019</th>\n",
       "      <td>1000001809</td>\n",
       "      <td>Deyaar Faciliti</td>\n",
       "    </tr>\n",
       "    <tr>\n",
       "      <th>16020</th>\n",
       "      <td>1000001809</td>\n",
       "      <td>ETISALAT FACILI</td>\n",
       "    </tr>\n",
       "    <tr>\n",
       "      <th>16021</th>\n",
       "      <td>1000001809</td>\n",
       "      <td>IDAMA FACILITIE</td>\n",
       "    </tr>\n",
       "    <tr>\n",
       "      <th>16022</th>\n",
       "      <td>1000001809</td>\n",
       "      <td>IMDAAD(LLC)</td>\n",
       "    </tr>\n",
       "  </tbody>\n",
       "</table>\n",
       "</div>"
      ],
      "text/plain": [
       "      Purchase Requisition Number/List of EOI received\n",
       "16018           1000001809              AG ENGINEERING\n",
       "16019           1000001809             Deyaar Faciliti\n",
       "16020           1000001809             ETISALAT FACILI\n",
       "16021           1000001809             IDAMA FACILITIE\n",
       "16022           1000001809                 IMDAAD(LLC)"
      ]
     },
     "execution_count": 29,
     "metadata": {},
     "output_type": "execute_result"
    }
   ],
   "source": [
    "rfq_df.head(5)"
   ]
  },
  {
   "cell_type": "code",
   "execution_count": 30,
   "id": "48e62c35-206b-43b5-ba3c-45a234b7a5b9",
   "metadata": {},
   "outputs": [],
   "source": [
    "# If Desired Vendor contains multiple vendors per PR, split and explode:\n",
    "# rfq_df = rfq_df.assign(\n",
    "#     vendor=rfq_df['Desired Vendor'].str.split(',')\n",
    "# ).explode('vendor')\n",
    "# rfq_df['vendor'] = rfq_df['vendor'].str.strip()\n",
    "\n",
    "# Otherwise, if it's one‐to‐one, just rename:\n",
    "rfq_df = rfq_df.rename(columns={'Number/List of EOI received': 'vendor'})"
   ]
  },
  {
   "cell_type": "code",
   "execution_count": 31,
   "id": "304af487-9576-4616-85b2-9b8c610f95de",
   "metadata": {},
   "outputs": [],
   "source": [
    "vendor_rfq_counts = (\n",
    "    rfq_df\n",
    "    .groupby('vendor')['Purchase Requisition']\n",
    "    .nunique()\n",
    "    .reset_index(name='rfq_pr_count')\n",
    ")"
   ]
  },
  {
   "cell_type": "code",
   "execution_count": 32,
   "id": "91e0e516-fa2b-4422-9047-9962db7e4747",
   "metadata": {},
   "outputs": [
    {
     "data": {
      "text/html": [
       "<div>\n",
       "<style scoped>\n",
       "    .dataframe tbody tr th:only-of-type {\n",
       "        vertical-align: middle;\n",
       "    }\n",
       "\n",
       "    .dataframe tbody tr th {\n",
       "        vertical-align: top;\n",
       "    }\n",
       "\n",
       "    .dataframe thead th {\n",
       "        text-align: right;\n",
       "    }\n",
       "</style>\n",
       "<table border=\"1\" class=\"dataframe\">\n",
       "  <thead>\n",
       "    <tr style=\"text-align: right;\">\n",
       "      <th></th>\n",
       "      <th>vendor</th>\n",
       "      <th>rfq_pr_count</th>\n",
       "    </tr>\n",
       "  </thead>\n",
       "  <tbody>\n",
       "    <tr>\n",
       "      <th>0</th>\n",
       "      <td>A P C C PILING</td>\n",
       "      <td>1</td>\n",
       "    </tr>\n",
       "    <tr>\n",
       "      <th>1</th>\n",
       "      <td>A R C DECOR &amp; G</td>\n",
       "      <td>1</td>\n",
       "    </tr>\n",
       "    <tr>\n",
       "      <th>2</th>\n",
       "      <td>ACPV Architects</td>\n",
       "      <td>1</td>\n",
       "    </tr>\n",
       "    <tr>\n",
       "      <th>3</th>\n",
       "      <td>AG ENGINEERING</td>\n",
       "      <td>1</td>\n",
       "    </tr>\n",
       "    <tr>\n",
       "      <th>4</th>\n",
       "      <td>AL HIKMA BUILDI</td>\n",
       "      <td>3</td>\n",
       "    </tr>\n",
       "  </tbody>\n",
       "</table>\n",
       "</div>"
      ],
      "text/plain": [
       "            vendor  rfq_pr_count\n",
       "0   A P C C PILING             1\n",
       "1  A R C DECOR & G             1\n",
       "2  ACPV Architects             1\n",
       "3   AG ENGINEERING             1\n",
       "4  AL HIKMA BUILDI             3"
      ]
     },
     "execution_count": 32,
     "metadata": {},
     "output_type": "execute_result"
    }
   ],
   "source": [
    "vendor_rfq_counts.head(5)"
   ]
  },
  {
   "cell_type": "code",
   "execution_count": 33,
   "id": "4a33cf7b-1846-445b-9b8e-39cc806464f0",
   "metadata": {},
   "outputs": [],
   "source": [
    "# 2. Count unique PRs where each vendor actually submitted a bid\n",
    "#    using the \"Number / List of Tenders received\" column\n",
    "tender_df = (\n",
    "    final_big_data[['Purchase Requisition', 'Number / List of Tenders received']]\n",
    "    .dropna(subset=['Number / List of Tenders received'])\n",
    ")\n",
    "tender_df = tender_df[tender_df['Number / List of Tenders received'].str.lower() != 'nan']"
   ]
  },
  {
   "cell_type": "code",
   "execution_count": 34,
   "id": "ab9f4523-421e-4a21-8b84-4e3bfba9284d",
   "metadata": {},
   "outputs": [],
   "source": [
    "# split comma‐separated lists into rows\n",
    "tender_df = tender_df.assign(\n",
    "    vendor=tender_df['Number / List of Tenders received']\n",
    "      .str.split(',')\n",
    ").explode('vendor')"
   ]
  },
  {
   "cell_type": "code",
   "execution_count": 35,
   "id": "3f92df47-9f5c-45ec-941c-8851f9e9db20",
   "metadata": {},
   "outputs": [
    {
     "data": {
      "text/html": [
       "<div>\n",
       "<style scoped>\n",
       "    .dataframe tbody tr th:only-of-type {\n",
       "        vertical-align: middle;\n",
       "    }\n",
       "\n",
       "    .dataframe tbody tr th {\n",
       "        vertical-align: top;\n",
       "    }\n",
       "\n",
       "    .dataframe thead th {\n",
       "        text-align: right;\n",
       "    }\n",
       "</style>\n",
       "<table border=\"1\" class=\"dataframe\">\n",
       "  <thead>\n",
       "    <tr style=\"text-align: right;\">\n",
       "      <th></th>\n",
       "      <th>Purchase Requisition</th>\n",
       "      <th>Number / List of Tenders received</th>\n",
       "      <th>vendor</th>\n",
       "    </tr>\n",
       "  </thead>\n",
       "  <tbody>\n",
       "    <tr>\n",
       "      <th>16018</th>\n",
       "      <td>1000001809</td>\n",
       "      <td>AG ENGINEERIN</td>\n",
       "      <td>AG ENGINEERIN</td>\n",
       "    </tr>\n",
       "    <tr>\n",
       "      <th>16019</th>\n",
       "      <td>1000001809</td>\n",
       "      <td>Deyaar Facili</td>\n",
       "      <td>Deyaar Facili</td>\n",
       "    </tr>\n",
       "    <tr>\n",
       "      <th>16020</th>\n",
       "      <td>1000001809</td>\n",
       "      <td>ETISALAT FACI</td>\n",
       "      <td>ETISALAT FACI</td>\n",
       "    </tr>\n",
       "    <tr>\n",
       "      <th>16021</th>\n",
       "      <td>1000001809</td>\n",
       "      <td>IDAMA FACILIT</td>\n",
       "      <td>IDAMA FACILIT</td>\n",
       "    </tr>\n",
       "    <tr>\n",
       "      <th>16022</th>\n",
       "      <td>1000001809</td>\n",
       "      <td>IMDAAD(LLC)</td>\n",
       "      <td>IMDAAD(LLC)</td>\n",
       "    </tr>\n",
       "  </tbody>\n",
       "</table>\n",
       "</div>"
      ],
      "text/plain": [
       "      Purchase Requisition Number / List of Tenders received         vendor\n",
       "16018           1000001809                     AG ENGINEERIN  AG ENGINEERIN\n",
       "16019           1000001809                     Deyaar Facili  Deyaar Facili\n",
       "16020           1000001809                     ETISALAT FACI  ETISALAT FACI\n",
       "16021           1000001809                     IDAMA FACILIT  IDAMA FACILIT\n",
       "16022           1000001809                       IMDAAD(LLC)    IMDAAD(LLC)"
      ]
     },
     "execution_count": 35,
     "metadata": {},
     "output_type": "execute_result"
    }
   ],
   "source": [
    "tender_df.head()"
   ]
  },
  {
   "cell_type": "code",
   "execution_count": 36,
   "id": "dacd2f94-d63e-4ab9-a3ae-72153089fdd0",
   "metadata": {},
   "outputs": [],
   "source": [
    "tender_df['vendor'] = tender_df['vendor'].str.strip()\n",
    "\n",
    "vendor_tender_counts = (\n",
    "    tender_df\n",
    "    .groupby('vendor')['Purchase Requisition']\n",
    "    .nunique()\n",
    "    .reset_index(name='tender_pr_count')\n",
    ")"
   ]
  },
  {
   "cell_type": "code",
   "execution_count": 37,
   "id": "56b4cd94-aef5-44dd-9ee6-b727bde1e402",
   "metadata": {},
   "outputs": [
    {
     "data": {
      "text/html": [
       "<div>\n",
       "<style scoped>\n",
       "    .dataframe tbody tr th:only-of-type {\n",
       "        vertical-align: middle;\n",
       "    }\n",
       "\n",
       "    .dataframe tbody tr th {\n",
       "        vertical-align: top;\n",
       "    }\n",
       "\n",
       "    .dataframe thead th {\n",
       "        text-align: right;\n",
       "    }\n",
       "</style>\n",
       "<table border=\"1\" class=\"dataframe\">\n",
       "  <thead>\n",
       "    <tr style=\"text-align: right;\">\n",
       "      <th></th>\n",
       "      <th>vendor</th>\n",
       "      <th>tender_pr_count</th>\n",
       "    </tr>\n",
       "  </thead>\n",
       "  <tbody>\n",
       "    <tr>\n",
       "      <th>0</th>\n",
       "      <td>AG ENGINEERIN</td>\n",
       "      <td>1</td>\n",
       "    </tr>\n",
       "    <tr>\n",
       "      <th>1</th>\n",
       "      <td>AL HIKMA BUIL</td>\n",
       "      <td>2</td>\n",
       "    </tr>\n",
       "    <tr>\n",
       "      <th>2</th>\n",
       "      <td>AL NUAIMI GRO</td>\n",
       "      <td>1</td>\n",
       "    </tr>\n",
       "    <tr>\n",
       "      <th>3</th>\n",
       "      <td>AL TURATH AL</td>\n",
       "      <td>1</td>\n",
       "    </tr>\n",
       "    <tr>\n",
       "      <th>4</th>\n",
       "      <td>ARCHCORP ARCH</td>\n",
       "      <td>1</td>\n",
       "    </tr>\n",
       "  </tbody>\n",
       "</table>\n",
       "</div>"
      ],
      "text/plain": [
       "          vendor  tender_pr_count\n",
       "0  AG ENGINEERIN                1\n",
       "1  AL HIKMA BUIL                2\n",
       "2  AL NUAIMI GRO                1\n",
       "3   AL TURATH AL                1\n",
       "4  ARCHCORP ARCH                1"
      ]
     },
     "execution_count": 37,
     "metadata": {},
     "output_type": "execute_result"
    }
   ],
   "source": [
    "vendor_tender_counts.head()"
   ]
  },
  {
   "cell_type": "code",
   "execution_count": 38,
   "id": "986bac04-9ca3-4711-96f8-6d20a8db8e3b",
   "metadata": {},
   "outputs": [],
   "source": [
    "# 3. Merge RFQ and tender counts\n",
    "vendor_counts = (\n",
    "    pd.merge(vendor_rfq_counts, vendor_tender_counts, on='vendor', how='left')\n",
    "    .fillna({'tender_pr_count': 0})\n",
    ")"
   ]
  },
  {
   "cell_type": "code",
   "execution_count": 39,
   "id": "547a84e0-a164-4a24-a0f6-f3b7e36aa320",
   "metadata": {},
   "outputs": [
    {
     "data": {
      "text/plain": [
       "array([0., 1., 2.])"
      ]
     },
     "execution_count": 39,
     "metadata": {},
     "output_type": "execute_result"
    }
   ],
   "source": [
    "vendor_counts['tender_pr_count'].unique()"
   ]
  },
  {
   "cell_type": "code",
   "execution_count": 40,
   "id": "9d8b4aa6-2332-443d-a5e1-28e0bfa17bbe",
   "metadata": {},
   "outputs": [
    {
     "data": {
      "text/plain": [
       "array([1, 3, 2, 4])"
      ]
     },
     "execution_count": 40,
     "metadata": {},
     "output_type": "execute_result"
    }
   ],
   "source": [
    "vendor_counts['rfq_pr_count'].unique()"
   ]
  },
  {
   "cell_type": "code",
   "execution_count": 41,
   "id": "6e8c6dbf-84f0-4ce4-b5bb-313a45cb9d08",
   "metadata": {},
   "outputs": [],
   "source": [
    "# 4. Compute the RFQ:Bid ratio\n",
    "vendor_counts['rfq_to_bid_ratio'] = (\n",
    "    vendor_counts['tender_pr_count'] / vendor_counts['rfq_pr_count']\n",
    ")"
   ]
  },
  {
   "cell_type": "code",
   "execution_count": 42,
   "id": "c6fbf017-a9a2-4023-b960-c8b8acd41402",
   "metadata": {},
   "outputs": [
    {
     "data": {
      "text/html": [
       "<div>\n",
       "<style scoped>\n",
       "    .dataframe tbody tr th:only-of-type {\n",
       "        vertical-align: middle;\n",
       "    }\n",
       "\n",
       "    .dataframe tbody tr th {\n",
       "        vertical-align: top;\n",
       "    }\n",
       "\n",
       "    .dataframe thead th {\n",
       "        text-align: right;\n",
       "    }\n",
       "</style>\n",
       "<table border=\"1\" class=\"dataframe\">\n",
       "  <thead>\n",
       "    <tr style=\"text-align: right;\">\n",
       "      <th></th>\n",
       "      <th>vendor</th>\n",
       "      <th>rfq_pr_count</th>\n",
       "      <th>tender_pr_count</th>\n",
       "      <th>rfq_to_bid_ratio</th>\n",
       "    </tr>\n",
       "  </thead>\n",
       "  <tbody>\n",
       "    <tr>\n",
       "      <th>0</th>\n",
       "      <td>A P C C PILING</td>\n",
       "      <td>1</td>\n",
       "      <td>0.0</td>\n",
       "      <td>0.0</td>\n",
       "    </tr>\n",
       "    <tr>\n",
       "      <th>1</th>\n",
       "      <td>A R C DECOR &amp; G</td>\n",
       "      <td>1</td>\n",
       "      <td>0.0</td>\n",
       "      <td>0.0</td>\n",
       "    </tr>\n",
       "    <tr>\n",
       "      <th>2</th>\n",
       "      <td>ACPV Architects</td>\n",
       "      <td>1</td>\n",
       "      <td>0.0</td>\n",
       "      <td>0.0</td>\n",
       "    </tr>\n",
       "    <tr>\n",
       "      <th>3</th>\n",
       "      <td>AG ENGINEERING</td>\n",
       "      <td>1</td>\n",
       "      <td>0.0</td>\n",
       "      <td>0.0</td>\n",
       "    </tr>\n",
       "    <tr>\n",
       "      <th>4</th>\n",
       "      <td>AL HIKMA BUILDI</td>\n",
       "      <td>3</td>\n",
       "      <td>0.0</td>\n",
       "      <td>0.0</td>\n",
       "    </tr>\n",
       "    <tr>\n",
       "      <th>...</th>\n",
       "      <td>...</td>\n",
       "      <td>...</td>\n",
       "      <td>...</td>\n",
       "      <td>...</td>\n",
       "    </tr>\n",
       "    <tr>\n",
       "      <th>89</th>\n",
       "      <td>UNITED MOTORS &amp;</td>\n",
       "      <td>1</td>\n",
       "      <td>0.0</td>\n",
       "      <td>0.0</td>\n",
       "    </tr>\n",
       "    <tr>\n",
       "      <th>90</th>\n",
       "      <td>UTS CARRIER (L.</td>\n",
       "      <td>1</td>\n",
       "      <td>0.0</td>\n",
       "      <td>0.0</td>\n",
       "    </tr>\n",
       "    <tr>\n",
       "      <th>91</th>\n",
       "      <td>United Engineer</td>\n",
       "      <td>1</td>\n",
       "      <td>0.0</td>\n",
       "      <td>0.0</td>\n",
       "    </tr>\n",
       "    <tr>\n",
       "      <th>92</th>\n",
       "      <td>WATER IN MOTION</td>\n",
       "      <td>1</td>\n",
       "      <td>0.0</td>\n",
       "      <td>0.0</td>\n",
       "    </tr>\n",
       "    <tr>\n",
       "      <th>93</th>\n",
       "      <td>ZAID AL-HUSSAIN</td>\n",
       "      <td>1</td>\n",
       "      <td>0.0</td>\n",
       "      <td>0.0</td>\n",
       "    </tr>\n",
       "  </tbody>\n",
       "</table>\n",
       "<p>94 rows × 4 columns</p>\n",
       "</div>"
      ],
      "text/plain": [
       "             vendor  rfq_pr_count  tender_pr_count  rfq_to_bid_ratio\n",
       "0    A P C C PILING             1              0.0               0.0\n",
       "1   A R C DECOR & G             1              0.0               0.0\n",
       "2   ACPV Architects             1              0.0               0.0\n",
       "3    AG ENGINEERING             1              0.0               0.0\n",
       "4   AL HIKMA BUILDI             3              0.0               0.0\n",
       "..              ...           ...              ...               ...\n",
       "89  UNITED MOTORS &             1              0.0               0.0\n",
       "90  UTS CARRIER (L.             1              0.0               0.0\n",
       "91  United Engineer             1              0.0               0.0\n",
       "92  WATER IN MOTION             1              0.0               0.0\n",
       "93  ZAID AL-HUSSAIN             1              0.0               0.0\n",
       "\n",
       "[94 rows x 4 columns]"
      ]
     },
     "execution_count": 42,
     "metadata": {},
     "output_type": "execute_result"
    }
   ],
   "source": [
    "vendor_counts"
   ]
  },
  {
   "cell_type": "code",
   "execution_count": 43,
   "id": "e8d67e4f-1133-4e17-95d5-bec0a43ff213",
   "metadata": {},
   "outputs": [],
   "source": [
    "# 5. Filter dummy vendors with ratio < 10%\n",
    "dummy_vendors = vendor_counts[\n",
    "    (vendor_counts['rfq_to_bid_ratio'] < 0.10)\n",
    "].sort_values('rfq_to_bid_ratio')"
   ]
  },
  {
   "cell_type": "code",
   "execution_count": 44,
   "id": "ef7e8ee1-1b65-40a6-8cc9-cc475adb8c60",
   "metadata": {},
   "outputs": [
    {
     "name": "stdout",
     "output_type": "stream",
     "text": [
      "Vendors with RFQ:Bid ratio < 10% (“Dummy Vendors”):\n"
     ]
    },
    {
     "data": {
      "text/html": [
       "<div>\n",
       "<style scoped>\n",
       "    .dataframe tbody tr th:only-of-type {\n",
       "        vertical-align: middle;\n",
       "    }\n",
       "\n",
       "    .dataframe tbody tr th {\n",
       "        vertical-align: top;\n",
       "    }\n",
       "\n",
       "    .dataframe thead th {\n",
       "        text-align: right;\n",
       "    }\n",
       "</style>\n",
       "<table border=\"1\" class=\"dataframe\">\n",
       "  <thead>\n",
       "    <tr style=\"text-align: right;\">\n",
       "      <th></th>\n",
       "      <th>vendor</th>\n",
       "      <th>rfq_pr_count</th>\n",
       "      <th>tender_pr_count</th>\n",
       "      <th>rfq_to_bid_ratio</th>\n",
       "    </tr>\n",
       "  </thead>\n",
       "  <tbody>\n",
       "    <tr>\n",
       "      <th>0</th>\n",
       "      <td>A P C C PILING</td>\n",
       "      <td>1</td>\n",
       "      <td>0.0</td>\n",
       "      <td>0.0</td>\n",
       "    </tr>\n",
       "    <tr>\n",
       "      <th>1</th>\n",
       "      <td>A R C DECOR &amp; G</td>\n",
       "      <td>1</td>\n",
       "      <td>0.0</td>\n",
       "      <td>0.0</td>\n",
       "    </tr>\n",
       "    <tr>\n",
       "      <th>2</th>\n",
       "      <td>ACPV Architects</td>\n",
       "      <td>1</td>\n",
       "      <td>0.0</td>\n",
       "      <td>0.0</td>\n",
       "    </tr>\n",
       "    <tr>\n",
       "      <th>3</th>\n",
       "      <td>AG ENGINEERING</td>\n",
       "      <td>1</td>\n",
       "      <td>0.0</td>\n",
       "      <td>0.0</td>\n",
       "    </tr>\n",
       "    <tr>\n",
       "      <th>4</th>\n",
       "      <td>AL HIKMA BUILDI</td>\n",
       "      <td>3</td>\n",
       "      <td>0.0</td>\n",
       "      <td>0.0</td>\n",
       "    </tr>\n",
       "    <tr>\n",
       "      <th>...</th>\n",
       "      <td>...</td>\n",
       "      <td>...</td>\n",
       "      <td>...</td>\n",
       "      <td>...</td>\n",
       "    </tr>\n",
       "    <tr>\n",
       "      <th>89</th>\n",
       "      <td>UNITED MOTORS &amp;</td>\n",
       "      <td>1</td>\n",
       "      <td>0.0</td>\n",
       "      <td>0.0</td>\n",
       "    </tr>\n",
       "    <tr>\n",
       "      <th>90</th>\n",
       "      <td>UTS CARRIER (L.</td>\n",
       "      <td>1</td>\n",
       "      <td>0.0</td>\n",
       "      <td>0.0</td>\n",
       "    </tr>\n",
       "    <tr>\n",
       "      <th>91</th>\n",
       "      <td>United Engineer</td>\n",
       "      <td>1</td>\n",
       "      <td>0.0</td>\n",
       "      <td>0.0</td>\n",
       "    </tr>\n",
       "    <tr>\n",
       "      <th>92</th>\n",
       "      <td>WATER IN MOTION</td>\n",
       "      <td>1</td>\n",
       "      <td>0.0</td>\n",
       "      <td>0.0</td>\n",
       "    </tr>\n",
       "    <tr>\n",
       "      <th>93</th>\n",
       "      <td>ZAID AL-HUSSAIN</td>\n",
       "      <td>1</td>\n",
       "      <td>0.0</td>\n",
       "      <td>0.0</td>\n",
       "    </tr>\n",
       "  </tbody>\n",
       "</table>\n",
       "<p>91 rows × 4 columns</p>\n",
       "</div>"
      ],
      "text/plain": [
       "             vendor  rfq_pr_count  tender_pr_count  rfq_to_bid_ratio\n",
       "0    A P C C PILING             1              0.0               0.0\n",
       "1   A R C DECOR & G             1              0.0               0.0\n",
       "2   ACPV Architects             1              0.0               0.0\n",
       "3    AG ENGINEERING             1              0.0               0.0\n",
       "4   AL HIKMA BUILDI             3              0.0               0.0\n",
       "..              ...           ...              ...               ...\n",
       "89  UNITED MOTORS &             1              0.0               0.0\n",
       "90  UTS CARRIER (L.             1              0.0               0.0\n",
       "91  United Engineer             1              0.0               0.0\n",
       "92  WATER IN MOTION             1              0.0               0.0\n",
       "93  ZAID AL-HUSSAIN             1              0.0               0.0\n",
       "\n",
       "[91 rows x 4 columns]"
      ]
     },
     "execution_count": 44,
     "metadata": {},
     "output_type": "execute_result"
    }
   ],
   "source": [
    "print(\"Vendors with RFQ:Bid ratio < 10% (“Dummy Vendors”):\")\n",
    "dummy_vendors"
   ]
  },
  {
   "cell_type": "code",
   "execution_count": 45,
   "id": "709c0053-799e-40d4-b71e-fbbf9c675abe",
   "metadata": {},
   "outputs": [
    {
     "data": {
      "text/plain": [
       "array([0.])"
      ]
     },
     "execution_count": 45,
     "metadata": {},
     "output_type": "execute_result"
    }
   ],
   "source": [
    "dummy_vendors['rfq_to_bid_ratio'].unique()"
   ]
  },
  {
   "cell_type": "code",
   "execution_count": 47,
   "id": "bb6042f8-622c-4a6f-bb40-7ff0ccd88af8",
   "metadata": {},
   "outputs": [],
   "source": [
    "# dummy_vendors.to_csv(\"Dummy_Vendors.csv\", index=False)"
   ]
  },
  {
   "cell_type": "markdown",
   "id": "62df6667-f26c-44bc-82de-535391042ccb",
   "metadata": {},
   "source": [
    "##### 3.Preferred Vendor Bias"
   ]
  },
  {
   "cell_type": "code",
   "execution_count": 48,
   "id": "57c8d80f-4016-494e-b2a9-052ac6dad22a",
   "metadata": {},
   "outputs": [],
   "source": [
    "import pandas as pd\n",
    "\n",
    "# 1. Pull out PR and its tender-received list, drop missing\n",
    "resp_df = (\n",
    "    final_big_data[['Purchase Requisition', 'Number / List of Tenders received']]\n",
    "    .dropna(subset=['Number / List of Tenders received'])\n",
    ")\n",
    "resp_df = resp_df[resp_df['Number / List of Tenders received'].str.lower() != 'nan']"
   ]
  },
  {
   "cell_type": "code",
   "execution_count": 49,
   "id": "ca85e10e-38c5-4ef3-8652-d24d7689116f",
   "metadata": {},
   "outputs": [],
   "source": [
    "# 2. Split comma‐separated vendors into rows and clean\n",
    "resp_df = resp_df.assign(\n",
    "    vendor=resp_df['Number / List of Tenders received'] # 'Number/List of EOI received' or we can use this column for vendors\n",
    "              .str.split(',')\n",
    ").explode('vendor')\n",
    "resp_df['vendor'] = resp_df['vendor'].str.strip()"
   ]
  },
  {
   "cell_type": "code",
   "execution_count": 50,
   "id": "a00cbd1e-4e49-4a82-8170-26a5c8e59fca",
   "metadata": {},
   "outputs": [
    {
     "data": {
      "text/html": [
       "<div>\n",
       "<style scoped>\n",
       "    .dataframe tbody tr th:only-of-type {\n",
       "        vertical-align: middle;\n",
       "    }\n",
       "\n",
       "    .dataframe tbody tr th {\n",
       "        vertical-align: top;\n",
       "    }\n",
       "\n",
       "    .dataframe thead th {\n",
       "        text-align: right;\n",
       "    }\n",
       "</style>\n",
       "<table border=\"1\" class=\"dataframe\">\n",
       "  <thead>\n",
       "    <tr style=\"text-align: right;\">\n",
       "      <th></th>\n",
       "      <th>Purchase Requisition</th>\n",
       "      <th>Number / List of Tenders received</th>\n",
       "      <th>vendor</th>\n",
       "    </tr>\n",
       "  </thead>\n",
       "  <tbody>\n",
       "    <tr>\n",
       "      <th>16018</th>\n",
       "      <td>1000001809</td>\n",
       "      <td>AG ENGINEERIN</td>\n",
       "      <td>AG ENGINEERIN</td>\n",
       "    </tr>\n",
       "    <tr>\n",
       "      <th>16019</th>\n",
       "      <td>1000001809</td>\n",
       "      <td>Deyaar Facili</td>\n",
       "      <td>Deyaar Facili</td>\n",
       "    </tr>\n",
       "    <tr>\n",
       "      <th>16020</th>\n",
       "      <td>1000001809</td>\n",
       "      <td>ETISALAT FACI</td>\n",
       "      <td>ETISALAT FACI</td>\n",
       "    </tr>\n",
       "    <tr>\n",
       "      <th>16021</th>\n",
       "      <td>1000001809</td>\n",
       "      <td>IDAMA FACILIT</td>\n",
       "      <td>IDAMA FACILIT</td>\n",
       "    </tr>\n",
       "    <tr>\n",
       "      <th>16022</th>\n",
       "      <td>1000001809</td>\n",
       "      <td>IMDAAD(LLC)</td>\n",
       "      <td>IMDAAD(LLC)</td>\n",
       "    </tr>\n",
       "  </tbody>\n",
       "</table>\n",
       "</div>"
      ],
      "text/plain": [
       "      Purchase Requisition Number / List of Tenders received         vendor\n",
       "16018           1000001809                     AG ENGINEERIN  AG ENGINEERIN\n",
       "16019           1000001809                     Deyaar Facili  Deyaar Facili\n",
       "16020           1000001809                     ETISALAT FACI  ETISALAT FACI\n",
       "16021           1000001809                     IDAMA FACILIT  IDAMA FACILIT\n",
       "16022           1000001809                       IMDAAD(LLC)    IMDAAD(LLC)"
      ]
     },
     "execution_count": 50,
     "metadata": {},
     "output_type": "execute_result"
    }
   ],
   "source": [
    "resp_df.head()"
   ]
  },
  {
   "cell_type": "code",
   "execution_count": 51,
   "id": "2fd15671-9012-4f23-a745-ef7b7a0b1cee",
   "metadata": {},
   "outputs": [],
   "source": [
    "# 3. Count unique responders per PR\n",
    "resp_counts = (\n",
    "    resp_df\n",
    "    .groupby('Purchase Requisition')['vendor']\n",
    "    .nunique()\n",
    "    .reset_index(name='num_responders')\n",
    ")"
   ]
  },
  {
   "cell_type": "code",
   "execution_count": 52,
   "id": "7bc928af-6d3f-4d4c-b23d-fb170e499989",
   "metadata": {
    "scrolled": true
   },
   "outputs": [
    {
     "data": {
      "text/html": [
       "<div>\n",
       "<style scoped>\n",
       "    .dataframe tbody tr th:only-of-type {\n",
       "        vertical-align: middle;\n",
       "    }\n",
       "\n",
       "    .dataframe tbody tr th {\n",
       "        vertical-align: top;\n",
       "    }\n",
       "\n",
       "    .dataframe thead th {\n",
       "        text-align: right;\n",
       "    }\n",
       "</style>\n",
       "<table border=\"1\" class=\"dataframe\">\n",
       "  <thead>\n",
       "    <tr style=\"text-align: right;\">\n",
       "      <th></th>\n",
       "      <th>Purchase Requisition</th>\n",
       "      <th>num_responders</th>\n",
       "    </tr>\n",
       "  </thead>\n",
       "  <tbody>\n",
       "    <tr>\n",
       "      <th>0</th>\n",
       "      <td>1000001809</td>\n",
       "      <td>8</td>\n",
       "    </tr>\n",
       "    <tr>\n",
       "      <th>1</th>\n",
       "      <td>1000001822</td>\n",
       "      <td>5</td>\n",
       "    </tr>\n",
       "    <tr>\n",
       "      <th>2</th>\n",
       "      <td>1000001831</td>\n",
       "      <td>6</td>\n",
       "    </tr>\n",
       "    <tr>\n",
       "      <th>3</th>\n",
       "      <td>1000001893</td>\n",
       "      <td>1</td>\n",
       "    </tr>\n",
       "    <tr>\n",
       "      <th>4</th>\n",
       "      <td>1100015620</td>\n",
       "      <td>6</td>\n",
       "    </tr>\n",
       "    <tr>\n",
       "      <th>5</th>\n",
       "      <td>1100015768</td>\n",
       "      <td>7</td>\n",
       "    </tr>\n",
       "    <tr>\n",
       "      <th>6</th>\n",
       "      <td>1100015784</td>\n",
       "      <td>6</td>\n",
       "    </tr>\n",
       "    <tr>\n",
       "      <th>7</th>\n",
       "      <td>1100015822</td>\n",
       "      <td>3</td>\n",
       "    </tr>\n",
       "    <tr>\n",
       "      <th>8</th>\n",
       "      <td>1100015826</td>\n",
       "      <td>4</td>\n",
       "    </tr>\n",
       "    <tr>\n",
       "      <th>9</th>\n",
       "      <td>1100015831</td>\n",
       "      <td>8</td>\n",
       "    </tr>\n",
       "    <tr>\n",
       "      <th>10</th>\n",
       "      <td>1100015863</td>\n",
       "      <td>9</td>\n",
       "    </tr>\n",
       "    <tr>\n",
       "      <th>11</th>\n",
       "      <td>1100015896</td>\n",
       "      <td>4</td>\n",
       "    </tr>\n",
       "    <tr>\n",
       "      <th>12</th>\n",
       "      <td>1100015901</td>\n",
       "      <td>4</td>\n",
       "    </tr>\n",
       "    <tr>\n",
       "      <th>13</th>\n",
       "      <td>1100015903</td>\n",
       "      <td>5</td>\n",
       "    </tr>\n",
       "    <tr>\n",
       "      <th>14</th>\n",
       "      <td>1200015215</td>\n",
       "      <td>5</td>\n",
       "    </tr>\n",
       "    <tr>\n",
       "      <th>15</th>\n",
       "      <td>1800011174</td>\n",
       "      <td>3</td>\n",
       "    </tr>\n",
       "  </tbody>\n",
       "</table>\n",
       "</div>"
      ],
      "text/plain": [
       "   Purchase Requisition  num_responders\n",
       "0            1000001809               8\n",
       "1            1000001822               5\n",
       "2            1000001831               6\n",
       "3            1000001893               1\n",
       "4            1100015620               6\n",
       "5            1100015768               7\n",
       "6            1100015784               6\n",
       "7            1100015822               3\n",
       "8            1100015826               4\n",
       "9            1100015831               8\n",
       "10           1100015863               9\n",
       "11           1100015896               4\n",
       "12           1100015901               4\n",
       "13           1100015903               5\n",
       "14           1200015215               5\n",
       "15           1800011174               3"
      ]
     },
     "execution_count": 52,
     "metadata": {},
     "output_type": "execute_result"
    }
   ],
   "source": [
    "resp_counts"
   ]
  },
  {
   "cell_type": "code",
   "execution_count": 53,
   "id": "4a4b9c66-96ba-4620-ac41-cf7a7f7e7d0c",
   "metadata": {},
   "outputs": [
    {
     "name": "stdout",
     "output_type": "stream",
     "text": [
      "PRs with fewer than 3 bids:\n",
      "  Purchase Requisition  num_responders\n",
      "3           1000001893               1\n"
     ]
    }
   ],
   "source": [
    "# 4. Flag PRs with fewer than 3 responders\n",
    "flagged_prs = resp_counts[resp_counts['num_responders'] < 3]\n",
    "\n",
    "print(\"PRs with fewer than 3 bids:\")\n",
    "print(flagged_prs)"
   ]
  },
  {
   "cell_type": "code",
   "execution_count": 54,
   "id": "ffc2276f-98e9-4766-bedd-f90d2bd79a33",
   "metadata": {},
   "outputs": [
    {
     "data": {
      "text/plain": [
       "array([1])"
      ]
     },
     "execution_count": 54,
     "metadata": {},
     "output_type": "execute_result"
    }
   ],
   "source": [
    "flagged_prs['num_responders'].unique()"
   ]
  },
  {
   "cell_type": "code",
   "execution_count": 55,
   "id": "762ee606-10bf-4b0c-9a6e-5abc20b2fcba",
   "metadata": {},
   "outputs": [],
   "source": [
    "# flagged_prs.to_csv(\"Preferred_Vendor_Bias.csv\", index=False)"
   ]
  },
  {
   "cell_type": "markdown",
   "id": "e814f926-f01e-47a2-9644-502315118fb1",
   "metadata": {},
   "source": [
    "##### 6.Fast-track PO Cycle (Suspicious Speed)"
   ]
  },
  {
   "cell_type": "code",
   "execution_count": 498,
   "id": "0c81a64f-4018-436e-858d-457dfae11242",
   "metadata": {},
   "outputs": [],
   "source": [
    "import pandas as pd\n",
    "\n",
    "# assume final_big_data is already loaded\n",
    "\n",
    "# 1. Select and rename the relevant date columns\n",
    "cols = {\n",
    "    'Requisition date':      'pr_creation',       # PR creation\n",
    "    'Release Date':          'pr_release',        # PR release\n",
    "    'Created On_ekko':       'po_creation',       # PO creation\n",
    "    'First PO Release Date_PO': 'po_release',      # PO release\n",
    "    'posting_date_grn':      'grn_date'           # first GRN\n",
    "}"
   ]
  },
  {
   "cell_type": "code",
   "execution_count": 499,
   "id": "41bc1541-75ab-43c2-b427-fec1bc3e521f",
   "metadata": {
    "scrolled": true
   },
   "outputs": [
    {
     "data": {
      "text/plain": [
       "<IntegerArray>\n",
       "[     <NA>, 120010199, 120012814, 120015319, 120059606, 120059605, 120016602,\n",
       " 120008997, 120060233, 320004661,\n",
       " ...\n",
       " 320000667, 120001054, 120062101, 120004842, 120008137, 220003278, 120002251,\n",
       " 120001288, 320004785, 320000700]\n",
       "Length: 1252, dtype: Int64"
      ]
     },
     "execution_count": 499,
     "metadata": {},
     "output_type": "execute_result"
    }
   ],
   "source": [
    "final_big_data['Material_EKPO'].unique()"
   ]
  },
  {
   "cell_type": "code",
   "execution_count": 500,
   "id": "f8975fa3-d912-4272-bbea-23fa1d58e95d",
   "metadata": {},
   "outputs": [],
   "source": [
    "df = final_big_data[list(cols.keys()) + [\n",
    "    'Successful / Proposed Vendor for Award-SAP ID',\n",
    "    'Requisitioner',\n",
    "    'Material_EKPO'\n",
    "]].rename(columns=cols)"
   ]
  },
  {
   "cell_type": "code",
   "execution_count": 501,
   "id": "a8dc07a3-a692-429b-b52f-9fb534e5919e",
   "metadata": {},
   "outputs": [
    {
     "name": "stderr",
     "output_type": "stream",
     "text": [
      "C:\\Users\\HIMANSHU SURYAVANSHI\\AppData\\Local\\Temp\\ipykernel_7184\\1680397488.py:3: UserWarning: Parsing dates in %d-%m-%Y format when dayfirst=False (the default) was specified. Pass `dayfirst=True` or specify a format to silence this warning.\n",
      "  df[c] = pd.to_datetime(df[c], errors='coerce')\n",
      "C:\\Users\\HIMANSHU SURYAVANSHI\\AppData\\Local\\Temp\\ipykernel_7184\\1680397488.py:3: UserWarning: Parsing dates in %d-%m-%Y format when dayfirst=False (the default) was specified. Pass `dayfirst=True` or specify a format to silence this warning.\n",
      "  df[c] = pd.to_datetime(df[c], errors='coerce')\n"
     ]
    }
   ],
   "source": [
    "# 2. Drop any rows missing the PR-or-GRN dates, and cast to datetime\n",
    "for c in ['pr_creation','grn_date']:\n",
    "    df[c] = pd.to_datetime(df[c], errors='coerce')"
   ]
  },
  {
   "cell_type": "code",
   "execution_count": 502,
   "id": "d78bcf93-f758-4dd5-9736-2a1a87e31ecf",
   "metadata": {},
   "outputs": [
    {
     "data": {
      "text/plain": [
       "<DatetimeArray>\n",
       "['2024-10-22 00:00:00',                 'NaT', '2024-09-12 00:00:00',\n",
       " '2024-12-06 00:00:00', '2024-12-10 00:00:00', '2024-12-19 00:00:00',\n",
       " '2024-12-26 00:00:00', '2024-05-24 00:00:00', '2023-12-31 00:00:00',\n",
       " '2024-02-07 00:00:00',\n",
       " ...\n",
       " '2024-10-13 00:00:00', '2024-09-27 00:00:00', '2024-09-01 00:00:00',\n",
       " '2024-09-28 00:00:00', '2024-10-31 00:00:00', '2024-10-12 00:00:00',\n",
       " '2024-09-14 00:00:00', '2024-11-23 00:00:00', '2024-10-06 00:00:00',\n",
       " '2025-01-02 00:00:00']\n",
       "Length: 405, dtype: datetime64[ns]"
      ]
     },
     "execution_count": 502,
     "metadata": {},
     "output_type": "execute_result"
    }
   ],
   "source": [
    "df['grn_date'].unique()"
   ]
  },
  {
   "cell_type": "code",
   "execution_count": 503,
   "id": "9d783771-781e-46a2-a54e-f567b9c044b6",
   "metadata": {},
   "outputs": [],
   "source": [
    "df = df.dropna(subset=['pr_creation','grn_date'])"
   ]
  },
  {
   "cell_type": "code",
   "execution_count": 504,
   "id": "a5e4181e-30ec-4391-b61f-3c334ce29c5d",
   "metadata": {},
   "outputs": [],
   "source": [
    "# 3. Compute the lead time (days) from PR creation → first GRN\n",
    "df['lead_time_days'] = (df['grn_date'] - df['pr_creation']).dt.days"
   ]
  },
  {
   "cell_type": "code",
   "execution_count": 505,
   "id": "8a063338-7dfd-4427-9399-9bde125069cb",
   "metadata": {},
   "outputs": [
    {
     "data": {
      "text/plain": [
       "0        449\n",
       "3        139\n",
       "4        224\n",
       "5        204\n",
       "6        204\n",
       "        ... \n",
       "16013     35\n",
       "16014     32\n",
       "16015     35\n",
       "16016     10\n",
       "16017     11\n",
       "Name: lead_time_days, Length: 15894, dtype: int64"
      ]
     },
     "execution_count": 505,
     "metadata": {},
     "output_type": "execute_result"
    }
   ],
   "source": [
    "df['lead_time_days']"
   ]
  },
  {
   "cell_type": "code",
   "execution_count": 506,
   "id": "71fc069c-6db6-4f53-b099-7847a956a8fd",
   "metadata": {},
   "outputs": [],
   "source": [
    "# 4. Calculate average lead time for each Vendor–User–MaterialGroup trio\n",
    "group_cols = [\n",
    "    'Successful / Proposed Vendor for Award-SAP ID',\n",
    "    'Requisitioner',\n",
    "    'Material_EKPO'\n",
    "]\n",
    "\n",
    "avg_lt = (\n",
    "    df\n",
    "    .groupby(group_cols)['lead_time_days']\n",
    "    .mean()\n",
    "    .reset_index(name='avg_lead_time')\n",
    ")"
   ]
  },
  {
   "cell_type": "code",
   "execution_count": 507,
   "id": "106c439b-dedf-46aa-af01-31999a197ce0",
   "metadata": {},
   "outputs": [
    {
     "data": {
      "text/html": [
       "<div>\n",
       "<style scoped>\n",
       "    .dataframe tbody tr th:only-of-type {\n",
       "        vertical-align: middle;\n",
       "    }\n",
       "\n",
       "    .dataframe tbody tr th {\n",
       "        vertical-align: top;\n",
       "    }\n",
       "\n",
       "    .dataframe thead th {\n",
       "        text-align: right;\n",
       "    }\n",
       "</style>\n",
       "<table border=\"1\" class=\"dataframe\">\n",
       "  <thead>\n",
       "    <tr style=\"text-align: right;\">\n",
       "      <th></th>\n",
       "      <th>Successful / Proposed Vendor for Award-SAP ID</th>\n",
       "      <th>Requisitioner</th>\n",
       "      <th>Material_EKPO</th>\n",
       "      <th>avg_lead_time</th>\n",
       "    </tr>\n",
       "  </thead>\n",
       "  <tbody>\n",
       "    <tr>\n",
       "      <th>0</th>\n",
       "      <td>nan</td>\n",
       "      <td>14590</td>\n",
       "      <td>320002973</td>\n",
       "      <td>8.000000</td>\n",
       "    </tr>\n",
       "    <tr>\n",
       "      <th>1</th>\n",
       "      <td>nan</td>\n",
       "      <td>15030</td>\n",
       "      <td>320000700</td>\n",
       "      <td>25.833333</td>\n",
       "    </tr>\n",
       "    <tr>\n",
       "      <th>2</th>\n",
       "      <td>nan</td>\n",
       "      <td>201590</td>\n",
       "      <td>320002973</td>\n",
       "      <td>18.000000</td>\n",
       "    </tr>\n",
       "    <tr>\n",
       "      <th>3</th>\n",
       "      <td>nan</td>\n",
       "      <td>201600</td>\n",
       "      <td>120001353</td>\n",
       "      <td>21.000000</td>\n",
       "    </tr>\n",
       "    <tr>\n",
       "      <th>4</th>\n",
       "      <td>nan</td>\n",
       "      <td>201600</td>\n",
       "      <td>120002392</td>\n",
       "      <td>21.000000</td>\n",
       "    </tr>\n",
       "    <tr>\n",
       "      <th>...</th>\n",
       "      <td>...</td>\n",
       "      <td>...</td>\n",
       "      <td>...</td>\n",
       "      <td>...</td>\n",
       "    </tr>\n",
       "    <tr>\n",
       "      <th>1461</th>\n",
       "      <td>nan</td>\n",
       "      <td>benoy</td>\n",
       "      <td>120002012</td>\n",
       "      <td>26.500000</td>\n",
       "    </tr>\n",
       "    <tr>\n",
       "      <th>1462</th>\n",
       "      <td>nan</td>\n",
       "      <td>breettus</td>\n",
       "      <td>120006020</td>\n",
       "      <td>109.833333</td>\n",
       "    </tr>\n",
       "    <tr>\n",
       "      <th>1463</th>\n",
       "      <td>nan</td>\n",
       "      <td>nafavil</td>\n",
       "      <td>320002973</td>\n",
       "      <td>19.000000</td>\n",
       "    </tr>\n",
       "    <tr>\n",
       "      <th>1464</th>\n",
       "      <td>nan</td>\n",
       "      <td>wiman</td>\n",
       "      <td>120015946</td>\n",
       "      <td>51.000000</td>\n",
       "    </tr>\n",
       "    <tr>\n",
       "      <th>1465</th>\n",
       "      <td>nan</td>\n",
       "      <td>wiman</td>\n",
       "      <td>120025496</td>\n",
       "      <td>38.750000</td>\n",
       "    </tr>\n",
       "  </tbody>\n",
       "</table>\n",
       "<p>1466 rows × 4 columns</p>\n",
       "</div>"
      ],
      "text/plain": [
       "     Successful / Proposed Vendor for Award-SAP ID Requisitioner  \\\n",
       "0                                              nan         14590   \n",
       "1                                              nan         15030   \n",
       "2                                              nan        201590   \n",
       "3                                              nan        201600   \n",
       "4                                              nan        201600   \n",
       "...                                            ...           ...   \n",
       "1461                                           nan         benoy   \n",
       "1462                                           nan      breettus   \n",
       "1463                                           nan       nafavil   \n",
       "1464                                           nan         wiman   \n",
       "1465                                           nan         wiman   \n",
       "\n",
       "      Material_EKPO  avg_lead_time  \n",
       "0         320002973       8.000000  \n",
       "1         320000700      25.833333  \n",
       "2         320002973      18.000000  \n",
       "3         120001353      21.000000  \n",
       "4         120002392      21.000000  \n",
       "...             ...            ...  \n",
       "1461      120002012      26.500000  \n",
       "1462      120006020     109.833333  \n",
       "1463      320002973      19.000000  \n",
       "1464      120015946      51.000000  \n",
       "1465      120025496      38.750000  \n",
       "\n",
       "[1466 rows x 4 columns]"
      ]
     },
     "execution_count": 507,
     "metadata": {},
     "output_type": "execute_result"
    }
   ],
   "source": [
    "avg_lt"
   ]
  },
  {
   "cell_type": "code",
   "execution_count": 508,
   "id": "1164c129-fd61-4ecb-821a-94332a7d44c3",
   "metadata": {},
   "outputs": [
    {
     "name": "stdout",
     "output_type": "stream",
     "text": [
      "Suspiciously fast PO cycles (<50% of avg lead):\n",
      "     Successful / Proposed Vendor for Award-SAP ID Requisitioner  \\\n",
      "8753                                           nan    Ahmed Emam   \n",
      "8700                                           nan    Ahmed Emam   \n",
      "6457                                           nan       Sharief   \n",
      "6862                                           nan     Inventory   \n",
      "6863                                           nan     Inventory   \n",
      "...                                            ...           ...   \n",
      "8102                                           nan         Nisar   \n",
      "8099                                           nan         Nisar   \n",
      "8100                                           nan         Nisar   \n",
      "8101                                           nan         Nisar   \n",
      "4699                                           nan    Ahmed Tuba   \n",
      "\n",
      "      Material_EKPO  lead_time_days  avg_lead_time  pct_of_avg  \n",
      "8753      120005500               8      88.600000    0.090293  \n",
      "8700      120005500               8      88.600000    0.090293  \n",
      "6457      120013442              11     118.781250    0.092607  \n",
      "6862      120000153              10     105.034483    0.095207  \n",
      "6863      120000153              10     105.034483    0.095207  \n",
      "...             ...             ...            ...         ...  \n",
      "8102      120013016              14      28.166667    0.497041  \n",
      "8099      120013016              14      28.166667    0.497041  \n",
      "8100      120013016              14      28.166667    0.497041  \n",
      "8101      120013016              14      28.166667    0.497041  \n",
      "4699      120029426              46      92.250000    0.498645  \n",
      "\n",
      "[225 rows x 6 columns]\n"
     ]
    }
   ],
   "source": [
    "# 5. Merge the average back and flag “fast-track” cases < 50% of that average\n",
    "df_flag = (\n",
    "    df\n",
    "    .merge(avg_lt, on=group_cols, how='left')\n",
    ")\n",
    "df_flag['pct_of_avg'] = df_flag['lead_time_days'] / df_flag['avg_lead_time']\n",
    "suspicious = df_flag[df_flag['pct_of_avg'] < 0.5]\n",
    "\n",
    "# 6. Inspect\n",
    "print(\"Suspiciously fast PO cycles (<50% of avg lead):\")\n",
    "print(\n",
    "    suspicious[[\n",
    "        'Successful / Proposed Vendor for Award-SAP ID',\n",
    "        'Requisitioner',\n",
    "        'Material_EKPO',\n",
    "        'lead_time_days',\n",
    "        'avg_lead_time',\n",
    "        'pct_of_avg'\n",
    "    ]]\n",
    "    .sort_values('pct_of_avg')\n",
    ")"
   ]
  },
  {
   "cell_type": "raw",
   "id": "548ad738-fdef-4ae7-9002-c988fca183e4",
   "metadata": {},
   "source": [
    "OOOOOOOOOOOOOOOOOOOOOOOOOOOORRRRRRRRRRRRRRRRRRRRRRRRRRRRRRRRRRRRRRRRRRRRRRRRRRRRRRRR"
   ]
  },
  {
   "cell_type": "code",
   "execution_count": 509,
   "id": "26ff5e8b-fea8-4ca3-84e3-c18f8a221e62",
   "metadata": {},
   "outputs": [
    {
     "name": "stderr",
     "output_type": "stream",
     "text": [
      "C:\\Users\\HIMANSHU SURYAVANSHI\\AppData\\Local\\Temp\\ipykernel_7184\\4111671008.py:4: UserWarning: Parsing dates in %d-%m-%Y format when dayfirst=False (the default) was specified. Pass `dayfirst=True` or specify a format to silence this warning.\n",
      "  final_big_data['Requisition date'] = pd.to_datetime(final_big_data['Requisition date'])\n",
      "C:\\Users\\HIMANSHU SURYAVANSHI\\AppData\\Local\\Temp\\ipykernel_7184\\4111671008.py:5: UserWarning: Parsing dates in %d-%m-%Y format when dayfirst=False (the default) was specified. Pass `dayfirst=True` or specify a format to silence this warning.\n",
      "  final_big_data['posting_date_grn'] = pd.to_datetime(final_big_data['posting_date_grn'])\n"
     ]
    },
    {
     "data": {
      "text/html": [
       "<div>\n",
       "<style scoped>\n",
       "    .dataframe tbody tr th:only-of-type {\n",
       "        vertical-align: middle;\n",
       "    }\n",
       "\n",
       "    .dataframe tbody tr th {\n",
       "        vertical-align: top;\n",
       "    }\n",
       "\n",
       "    .dataframe thead th {\n",
       "        text-align: right;\n",
       "    }\n",
       "</style>\n",
       "<table border=\"1\" class=\"dataframe\">\n",
       "  <thead>\n",
       "    <tr style=\"text-align: right;\">\n",
       "      <th></th>\n",
       "      <th>Number/List of EOI received</th>\n",
       "      <th>Requisitioner</th>\n",
       "      <th>Material_EKPO</th>\n",
       "      <th>Requisition date</th>\n",
       "      <th>posting_date_grn</th>\n",
       "      <th>PR_to_GRN_days</th>\n",
       "      <th>Avg_Lead_Time</th>\n",
       "    </tr>\n",
       "  </thead>\n",
       "  <tbody>\n",
       "    <tr>\n",
       "      <th>4654</th>\n",
       "      <td>nan</td>\n",
       "      <td>Shihabudeen</td>\n",
       "      <td>120010199</td>\n",
       "      <td>2023-12-05</td>\n",
       "      <td>2023-12-25</td>\n",
       "      <td>20.0</td>\n",
       "      <td>85.400000</td>\n",
       "    </tr>\n",
       "    <tr>\n",
       "      <th>4655</th>\n",
       "      <td>nan</td>\n",
       "      <td>Shihabudeen</td>\n",
       "      <td>120010199</td>\n",
       "      <td>2023-12-05</td>\n",
       "      <td>2023-12-27</td>\n",
       "      <td>22.0</td>\n",
       "      <td>85.400000</td>\n",
       "    </tr>\n",
       "    <tr>\n",
       "      <th>4763</th>\n",
       "      <td>nan</td>\n",
       "      <td>Ahmed Tuba</td>\n",
       "      <td>120029426</td>\n",
       "      <td>2023-08-28</td>\n",
       "      <td>2023-10-13</td>\n",
       "      <td>46.0</td>\n",
       "      <td>92.250000</td>\n",
       "    </tr>\n",
       "    <tr>\n",
       "      <th>4824</th>\n",
       "      <td>nan</td>\n",
       "      <td>Inventory</td>\n",
       "      <td>120004958</td>\n",
       "      <td>2023-09-18</td>\n",
       "      <td>2023-10-04</td>\n",
       "      <td>16.0</td>\n",
       "      <td>52.000000</td>\n",
       "    </tr>\n",
       "    <tr>\n",
       "      <th>4843</th>\n",
       "      <td>nan</td>\n",
       "      <td>Cristino</td>\n",
       "      <td>320001829</td>\n",
       "      <td>2023-09-20</td>\n",
       "      <td>2023-10-10</td>\n",
       "      <td>20.0</td>\n",
       "      <td>57.250000</td>\n",
       "    </tr>\n",
       "    <tr>\n",
       "      <th>...</th>\n",
       "      <td>...</td>\n",
       "      <td>...</td>\n",
       "      <td>...</td>\n",
       "      <td>...</td>\n",
       "      <td>...</td>\n",
       "      <td>...</td>\n",
       "      <td>...</td>\n",
       "    </tr>\n",
       "    <tr>\n",
       "      <th>15848</th>\n",
       "      <td>nan</td>\n",
       "      <td>SHAFI</td>\n",
       "      <td>120004427</td>\n",
       "      <td>2024-09-25</td>\n",
       "      <td>2024-10-04</td>\n",
       "      <td>9.0</td>\n",
       "      <td>30.800000</td>\n",
       "    </tr>\n",
       "    <tr>\n",
       "      <th>15850</th>\n",
       "      <td>nan</td>\n",
       "      <td>Shejeem</td>\n",
       "      <td>120012145</td>\n",
       "      <td>2024-09-27</td>\n",
       "      <td>2024-10-07</td>\n",
       "      <td>10.0</td>\n",
       "      <td>20.833333</td>\n",
       "    </tr>\n",
       "    <tr>\n",
       "      <th>15853</th>\n",
       "      <td>nan</td>\n",
       "      <td>Shejeem</td>\n",
       "      <td>120012145</td>\n",
       "      <td>2024-09-27</td>\n",
       "      <td>2024-10-07</td>\n",
       "      <td>10.0</td>\n",
       "      <td>20.833333</td>\n",
       "    </tr>\n",
       "    <tr>\n",
       "      <th>16016</th>\n",
       "      <td>nan</td>\n",
       "      <td>15030</td>\n",
       "      <td>320000700</td>\n",
       "      <td>2023-10-23</td>\n",
       "      <td>2023-11-02</td>\n",
       "      <td>10.0</td>\n",
       "      <td>25.833333</td>\n",
       "    </tr>\n",
       "    <tr>\n",
       "      <th>16017</th>\n",
       "      <td>nan</td>\n",
       "      <td>15030</td>\n",
       "      <td>320000700</td>\n",
       "      <td>2023-10-23</td>\n",
       "      <td>2023-11-03</td>\n",
       "      <td>11.0</td>\n",
       "      <td>25.833333</td>\n",
       "    </tr>\n",
       "  </tbody>\n",
       "</table>\n",
       "<p>225 rows × 7 columns</p>\n",
       "</div>"
      ],
      "text/plain": [
       "      Number/List of EOI received Requisitioner  Material_EKPO  \\\n",
       "4654                          nan   Shihabudeen      120010199   \n",
       "4655                          nan   Shihabudeen      120010199   \n",
       "4763                          nan    Ahmed Tuba      120029426   \n",
       "4824                          nan     Inventory      120004958   \n",
       "4843                          nan      Cristino      320001829   \n",
       "...                           ...           ...            ...   \n",
       "15848                         nan         SHAFI      120004427   \n",
       "15850                         nan       Shejeem      120012145   \n",
       "15853                         nan       Shejeem      120012145   \n",
       "16016                         nan         15030      320000700   \n",
       "16017                         nan         15030      320000700   \n",
       "\n",
       "      Requisition date posting_date_grn  PR_to_GRN_days  Avg_Lead_Time  \n",
       "4654        2023-12-05       2023-12-25            20.0      85.400000  \n",
       "4655        2023-12-05       2023-12-27            22.0      85.400000  \n",
       "4763        2023-08-28       2023-10-13            46.0      92.250000  \n",
       "4824        2023-09-18       2023-10-04            16.0      52.000000  \n",
       "4843        2023-09-20       2023-10-10            20.0      57.250000  \n",
       "...                ...              ...             ...            ...  \n",
       "15848       2024-09-25       2024-10-04             9.0      30.800000  \n",
       "15850       2024-09-27       2024-10-07            10.0      20.833333  \n",
       "15853       2024-09-27       2024-10-07            10.0      20.833333  \n",
       "16016       2023-10-23       2023-11-02            10.0      25.833333  \n",
       "16017       2023-10-23       2023-11-03            11.0      25.833333  \n",
       "\n",
       "[225 rows x 7 columns]"
      ]
     },
     "execution_count": 509,
     "metadata": {},
     "output_type": "execute_result"
    }
   ],
   "source": [
    "import pandas as pd\n",
    "\n",
    "# Make sure date columns are in datetime format\n",
    "final_big_data['Requisition date'] = pd.to_datetime(final_big_data['Requisition date'])\n",
    "final_big_data['posting_date_grn'] = pd.to_datetime(final_big_data['posting_date_grn'])\n",
    "# final_big_data = final_big_data[final_big_data['Number/List of EOI received'].str.lower() != 'nan']\n",
    "\n",
    "# Choose identifiers\n",
    "vendor_col = 'Number/List of EOI received'       # confirm with your data; could also be 'Name'\n",
    "user_col = 'Requisitioner'\n",
    "material_col = 'Material_EKPO'     # or another field that best represents material\n",
    "pr_date_col = 'Requisition date'\n",
    "grn_date_col = 'posting_date_grn'\n",
    "\n",
    "# Calculate lead time (days) from PR creation to first GRN for each record\n",
    "final_big_data['PR_to_GRN_days'] = (final_big_data[grn_date_col] - final_big_data[pr_date_col]).dt.days\n",
    "\n",
    "# Group by Vendor, User, Material and calculate average lead time\n",
    "group_columns = [vendor_col, user_col, material_col]\n",
    "avg_lead_time = final_big_data.groupby(group_columns)['PR_to_GRN_days'].mean().reset_index()\n",
    "avg_lead_time.rename(columns={'PR_to_GRN_days': 'Avg_Lead_Time'}, inplace=True)\n",
    "\n",
    "# Merge average lead time back into original data\n",
    "merged = pd.merge(final_big_data, avg_lead_time, on=group_columns, how='left')\n",
    "\n",
    "# Flag 'fast-track' cases: PR_to_GRN_days < 50% of the average for their Vendor, User, Material\n",
    "merged['Fast_Track_Flag'] = merged['PR_to_GRN_days'] < (0.5 * merged['Avg_Lead_Time'])\n",
    "\n",
    "# Extract only the suspicious (fast-tracked) records\n",
    "fast_tracked = merged[merged['Fast_Track_Flag']]\n",
    "\n",
    "# View key details of suspicious transactions\n",
    "columns_to_show = [vendor_col, user_col, material_col, pr_date_col, grn_date_col, 'PR_to_GRN_days', 'Avg_Lead_Time']\n",
    "fast_tracked[columns_to_show]"
   ]
  },
  {
   "cell_type": "code",
   "execution_count": 511,
   "id": "fce23f4c-090f-4450-8703-e46fd6a748bd",
   "metadata": {},
   "outputs": [],
   "source": [
    "fast_tracked[columns_to_show].to_csv('Fast_track_PO_Cycle_(Suspicious_Speed).csv', index=False)"
   ]
  },
  {
   "cell_type": "markdown",
   "id": "48ba28e7-1edf-4c9e-a503-f07e0221dd36",
   "metadata": {
    "jp-MarkdownHeadingCollapsed": true
   },
   "source": [
    "##### 7. High Change Frequency"
   ]
  },
  {
   "cell_type": "code",
   "execution_count": 512,
   "id": "69fcf17d-a557-46f1-aed0-2c80af6f8647",
   "metadata": {},
   "outputs": [
    {
     "data": {
      "text/plain": [
       "<IntegerArray>\n",
       "[<NA>, 22031, 3413]\n",
       "Length: 3, dtype: Int64"
      ]
     },
     "execution_count": 512,
     "metadata": {},
     "output_type": "execute_result"
    }
   ],
   "source": [
    "import numpy as np\n",
    "final_big_data['User_PR'] = final_big_data['User_PR'].replace('nan', np.nan)\n",
    "final_big_data['User_PR'] = final_big_data['User_PR'].astype(float).astype('Int64')\n",
    "final_big_data['User_PR'].unique()"
   ]
  },
  {
   "cell_type": "code",
   "execution_count": 513,
   "id": "6c4757ef-8eed-44a6-83a2-74f804b90548",
   "metadata": {},
   "outputs": [
    {
     "data": {
      "text/plain": [
       "<IntegerArray>\n",
       "[ 11141, 202019, 202646,  52219,  22031,   <NA>,   2642,  23008,   2500,\n",
       " 202832,  25107, 202636, 201063,   3413, 202905, 202696,  20198,   2983,\n",
       " 200234, 200985, 202783,   5483,  11181]\n",
       "Length: 23, dtype: Int64"
      ]
     },
     "execution_count": 513,
     "metadata": {},
     "output_type": "execute_result"
    }
   ],
   "source": [
    "final_big_data['User'] = final_big_data['User'].replace('nan', np.nan)\n",
    "final_big_data['User'] = final_big_data['User'].astype(float).astype('Int64')\n",
    "final_big_data['User'].unique()"
   ]
  },
  {
   "cell_type": "code",
   "execution_count": 514,
   "id": "40195d31-2277-4265-9c2c-e532ef606c97",
   "metadata": {},
   "outputs": [
    {
     "name": "stdout",
     "output_type": "stream",
     "text": [
      "High‐change users (PR & PO edits):\n",
      "    User  unique_pr_count  unique_po_count pr_fields_changed po_fields_changed\n",
      "0   3413                2                3             BSMNG      FRGKE, FRGZU\n",
      "1  22031                1                1             GMMNG            MEMORY\n"
     ]
    }
   ],
   "source": [
    "import pandas as pd\n",
    "\n",
    "# 6. Keep only rows where the same user edited both PR and PO\n",
    "same_user = final_big_data[final_big_data['User_PR'] == final_big_data['User']]\n",
    "\n",
    "# 7. For each user, compute:\n",
    "#    • how many distinct PRs they edited\n",
    "#    • how many distinct POs they edited\n",
    "#    • which PR‐fields and PO‐fields they touched\n",
    "summary = (\n",
    "    same_user\n",
    "    .groupby('User')\n",
    "    .agg(\n",
    "        unique_pr_count=('Purchase Requisition', 'nunique'),\n",
    "        unique_po_count=('Purchase order', 'nunique'),\n",
    "        pr_fields_changed=('Field name_PR', lambda s: ', '.join(sorted(set(s.dropna())))),\n",
    "        po_fields_changed=('Field name',    lambda s: ', '.join(sorted(set(s.dropna()))))\n",
    "    )\n",
    "    .reset_index()\n",
    ")\n",
    "\n",
    "print(\"High‐change users (PR & PO edits):\")\n",
    "print(summary.sort_values('unique_pr_count', ascending=False))\n"
   ]
  },
  {
   "cell_type": "code",
   "execution_count": 516,
   "id": "b6c8ca0a-b832-454f-bef0-0812f477ea86",
   "metadata": {},
   "outputs": [],
   "source": [
    "summary.to_csv(\"High_Change_Frequency.csv\", index=False)"
   ]
  },
  {
   "cell_type": "markdown",
   "id": "65297681-5bce-4228-bbf0-a1b29b77574a",
   "metadata": {
    "jp-MarkdownHeadingCollapsed": true
   },
   "source": [
    "##### 9.Split POs for Same PR"
   ]
  },
  {
   "cell_type": "code",
   "execution_count": 517,
   "id": "85606bee-e7ca-4618-ad48-3491dd4c2911",
   "metadata": {},
   "outputs": [
    {
     "name": "stdout",
     "output_type": "stream",
     "text": [
      "PRs split into multiple POs for the same vendor:\n"
     ]
    },
    {
     "data": {
      "text/html": [
       "<div>\n",
       "<style scoped>\n",
       "    .dataframe tbody tr th:only-of-type {\n",
       "        vertical-align: middle;\n",
       "    }\n",
       "\n",
       "    .dataframe tbody tr th {\n",
       "        vertical-align: top;\n",
       "    }\n",
       "\n",
       "    .dataframe thead th {\n",
       "        text-align: right;\n",
       "    }\n",
       "</style>\n",
       "<table border=\"1\" class=\"dataframe\">\n",
       "  <thead>\n",
       "    <tr style=\"text-align: right;\">\n",
       "      <th></th>\n",
       "      <th>Purchase Requisition</th>\n",
       "      <th>Successful / Proposed Vendor for Award- Jaggaer</th>\n",
       "      <th>po_count</th>\n",
       "    </tr>\n",
       "  </thead>\n",
       "  <tbody>\n",
       "    <tr>\n",
       "      <th>889</th>\n",
       "      <td>1600004222</td>\n",
       "      <td>nan</td>\n",
       "      <td>2</td>\n",
       "    </tr>\n",
       "    <tr>\n",
       "      <th>915</th>\n",
       "      <td>1600004329</td>\n",
       "      <td>nan</td>\n",
       "      <td>3</td>\n",
       "    </tr>\n",
       "    <tr>\n",
       "      <th>919</th>\n",
       "      <td>1600004342</td>\n",
       "      <td>nan</td>\n",
       "      <td>4</td>\n",
       "    </tr>\n",
       "    <tr>\n",
       "      <th>923</th>\n",
       "      <td>1600004346</td>\n",
       "      <td>nan</td>\n",
       "      <td>2</td>\n",
       "    </tr>\n",
       "    <tr>\n",
       "      <th>972</th>\n",
       "      <td>1700214081</td>\n",
       "      <td>nan</td>\n",
       "      <td>2</td>\n",
       "    </tr>\n",
       "    <tr>\n",
       "      <th>...</th>\n",
       "      <td>...</td>\n",
       "      <td>...</td>\n",
       "      <td>...</td>\n",
       "    </tr>\n",
       "    <tr>\n",
       "      <th>2600</th>\n",
       "      <td>1700220332</td>\n",
       "      <td>nan</td>\n",
       "      <td>2</td>\n",
       "    </tr>\n",
       "    <tr>\n",
       "      <th>2645</th>\n",
       "      <td>1700220554</td>\n",
       "      <td>nan</td>\n",
       "      <td>2</td>\n",
       "    </tr>\n",
       "    <tr>\n",
       "      <th>2698</th>\n",
       "      <td>1700220846</td>\n",
       "      <td>nan</td>\n",
       "      <td>2</td>\n",
       "    </tr>\n",
       "    <tr>\n",
       "      <th>2743</th>\n",
       "      <td>1700221025</td>\n",
       "      <td>nan</td>\n",
       "      <td>3</td>\n",
       "    </tr>\n",
       "    <tr>\n",
       "      <th>2777</th>\n",
       "      <td>1700221177</td>\n",
       "      <td>nan</td>\n",
       "      <td>2</td>\n",
       "    </tr>\n",
       "  </tbody>\n",
       "</table>\n",
       "<p>70 rows × 3 columns</p>\n",
       "</div>"
      ],
      "text/plain": [
       "     Purchase Requisition Successful / Proposed Vendor for Award- Jaggaer  \\\n",
       "889            1600004222                                             nan   \n",
       "915            1600004329                                             nan   \n",
       "919            1600004342                                             nan   \n",
       "923            1600004346                                             nan   \n",
       "972            1700214081                                             nan   \n",
       "...                   ...                                             ...   \n",
       "2600           1700220332                                             nan   \n",
       "2645           1700220554                                             nan   \n",
       "2698           1700220846                                             nan   \n",
       "2743           1700221025                                             nan   \n",
       "2777           1700221177                                             nan   \n",
       "\n",
       "      po_count  \n",
       "889          2  \n",
       "915          3  \n",
       "919          4  \n",
       "923          2  \n",
       "972          2  \n",
       "...        ...  \n",
       "2600         2  \n",
       "2645         2  \n",
       "2698         2  \n",
       "2743         3  \n",
       "2777         2  \n",
       "\n",
       "[70 rows x 3 columns]"
      ]
     },
     "execution_count": 517,
     "metadata": {},
     "output_type": "execute_result"
    }
   ],
   "source": [
    "import pandas as pd\n",
    "\n",
    "# assume final_big_data is already loaded\n",
    "\n",
    "# 1. Count distinct POs per PR–vendor pair\n",
    "split_counts = (\n",
    "    final_big_data\n",
    "    .dropna(subset=['Purchase Requisition', 'Purchase order', 'Successful / Proposed Vendor for Award- Jaggaer']) # 'Resp.Company Code'\n",
    "    .groupby(['Purchase Requisition', 'Successful / Proposed Vendor for Award- Jaggaer'])['Purchase order']\n",
    "    .nunique()\n",
    "    .reset_index(name='po_count')\n",
    ")\n",
    "\n",
    "# 2. Filter to cases where one PR → more than one PO for the same vendor\n",
    "split_prs = split_counts[split_counts['po_count'] > 1]\n",
    "\n",
    "print(\"PRs split into multiple POs for the same vendor:\")\n",
    "split_prs"
   ]
  },
  {
   "cell_type": "code",
   "execution_count": 518,
   "id": "9eba6aa9-0d87-4b61-8cda-52f882248424",
   "metadata": {},
   "outputs": [
    {
     "data": {
      "text/plain": [
       "array(['nan'], dtype=object)"
      ]
     },
     "execution_count": 518,
     "metadata": {},
     "output_type": "execute_result"
    }
   ],
   "source": [
    "split_prs['Successful / Proposed Vendor for Award- Jaggaer'].unique()"
   ]
  },
  {
   "cell_type": "code",
   "execution_count": 519,
   "id": "0822f122-6434-4eb2-b09a-736656b33fc9",
   "metadata": {},
   "outputs": [],
   "source": [
    "split_prs.to_csv(\"Split_POs_for_Same_PR.csv\", index=False)"
   ]
  },
  {
   "cell_type": "markdown",
   "id": "bc5aebdf-e31c-4682-b1b4-49cd0cbd0f67",
   "metadata": {
    "jp-MarkdownHeadingCollapsed": true
   },
   "source": [
    "#### 11.Transactions where PO Date is prior to PR"
   ]
  },
  {
   "cell_type": "code",
   "execution_count": 520,
   "id": "4c7e2b28-c41f-43c8-bfab-b0a4739e69fd",
   "metadata": {},
   "outputs": [
    {
     "data": {
      "text/plain": [
       "array(['3400007582', '6200033591', '3400007581', ..., '3100008110',\n",
       "       '3100008155', '3400007660'], dtype=object)"
      ]
     },
     "execution_count": 520,
     "metadata": {},
     "output_type": "execute_result"
    }
   ],
   "source": [
    "final_big_data['Purchase order'] = pd.to_numeric(final_big_data['Purchase order'], errors='coerce')\n",
    "final_big_data['Purchase order'] = final_big_data['Purchase order'].apply(\n",
    "    lambda x: '{:.0f}'.format(x) if pd.notnull(x) else ''\n",
    ")\n",
    "final_big_data['Purchase order'].unique()"
   ]
  },
  {
   "cell_type": "code",
   "execution_count": 521,
   "id": "66a004f4-6bd6-426d-b998-768967e444ea",
   "metadata": {},
   "outputs": [
    {
     "name": "stdout",
     "output_type": "stream",
     "text": [
      "Transactions where PO dates precede PR dates:\n"
     ]
    },
    {
     "name": "stderr",
     "output_type": "stream",
     "text": [
      "C:\\Users\\HIMANSHU SURYAVANSHI\\AppData\\Local\\Temp\\ipykernel_7184\\1819929796.py:14: UserWarning: Parsing dates in %d-%m-%Y format when dayfirst=False (the default) was specified. Pass `dayfirst=True` or specify a format to silence this warning.\n",
      "  df[col] = pd.to_datetime(df[col], errors='coerce')\n",
      "C:\\Users\\HIMANSHU SURYAVANSHI\\AppData\\Local\\Temp\\ipykernel_7184\\1819929796.py:14: UserWarning: Parsing dates in %d-%m-%Y format when dayfirst=False (the default) was specified. Pass `dayfirst=True` or specify a format to silence this warning.\n",
      "  df[col] = pd.to_datetime(df[col], errors='coerce')\n"
     ]
    },
    {
     "data": {
      "text/html": [
       "<div>\n",
       "<style scoped>\n",
       "    .dataframe tbody tr th:only-of-type {\n",
       "        vertical-align: middle;\n",
       "    }\n",
       "\n",
       "    .dataframe tbody tr th {\n",
       "        vertical-align: top;\n",
       "    }\n",
       "\n",
       "    .dataframe thead th {\n",
       "        text-align: right;\n",
       "    }\n",
       "</style>\n",
       "<table border=\"1\" class=\"dataframe\">\n",
       "  <thead>\n",
       "    <tr style=\"text-align: right;\">\n",
       "      <th></th>\n",
       "      <th>Purchase Requisition</th>\n",
       "      <th>Purchase order</th>\n",
       "      <th>pr_creation</th>\n",
       "      <th>pr_release</th>\n",
       "      <th>po_creation</th>\n",
       "      <th>po_release</th>\n",
       "      <th>po_before_pr_creation</th>\n",
       "      <th>po_before_pr_release</th>\n",
       "      <th>po_release_before_pr_creation</th>\n",
       "      <th>po_release_before_pr_release</th>\n",
       "    </tr>\n",
       "  </thead>\n",
       "  <tbody>\n",
       "    <tr>\n",
       "      <th>1</th>\n",
       "      <td>1000001519</td>\n",
       "      <td>6200033591</td>\n",
       "      <td>2024-01-19</td>\n",
       "      <td>2024-12-31</td>\n",
       "      <td>2024-03-11</td>\n",
       "      <td>2024-12-03</td>\n",
       "      <td>False</td>\n",
       "      <td>True</td>\n",
       "      <td>False</td>\n",
       "      <td>True</td>\n",
       "    </tr>\n",
       "    <tr>\n",
       "      <th>2</th>\n",
       "      <td>1000001562</td>\n",
       "      <td>3400007581</td>\n",
       "      <td>2024-01-29</td>\n",
       "      <td>2024-12-31</td>\n",
       "      <td>2023-10-05</td>\n",
       "      <td>2023-05-10</td>\n",
       "      <td>True</td>\n",
       "      <td>True</td>\n",
       "      <td>True</td>\n",
       "      <td>True</td>\n",
       "    </tr>\n",
       "    <tr>\n",
       "      <th>3</th>\n",
       "      <td>1000001634</td>\n",
       "      <td>3400007603</td>\n",
       "      <td>2024-04-26</td>\n",
       "      <td>2024-12-31</td>\n",
       "      <td>2024-05-31</td>\n",
       "      <td>2024-03-06</td>\n",
       "      <td>False</td>\n",
       "      <td>True</td>\n",
       "      <td>True</td>\n",
       "      <td>True</td>\n",
       "    </tr>\n",
       "    <tr>\n",
       "      <th>4</th>\n",
       "      <td>1000001634</td>\n",
       "      <td>3400007603</td>\n",
       "      <td>2024-04-26</td>\n",
       "      <td>2024-12-31</td>\n",
       "      <td>2024-05-31</td>\n",
       "      <td>2024-03-06</td>\n",
       "      <td>False</td>\n",
       "      <td>True</td>\n",
       "      <td>True</td>\n",
       "      <td>True</td>\n",
       "    </tr>\n",
       "    <tr>\n",
       "      <th>5</th>\n",
       "      <td>1000001662</td>\n",
       "      <td>3400007607</td>\n",
       "      <td>2024-05-20</td>\n",
       "      <td>2024-12-31</td>\n",
       "      <td>2024-06-27</td>\n",
       "      <td>2024-09-07</td>\n",
       "      <td>False</td>\n",
       "      <td>True</td>\n",
       "      <td>False</td>\n",
       "      <td>True</td>\n",
       "    </tr>\n",
       "    <tr>\n",
       "      <th>...</th>\n",
       "      <td>...</td>\n",
       "      <td>...</td>\n",
       "      <td>...</td>\n",
       "      <td>...</td>\n",
       "      <td>...</td>\n",
       "      <td>...</td>\n",
       "      <td>...</td>\n",
       "      <td>...</td>\n",
       "      <td>...</td>\n",
       "      <td>...</td>\n",
       "    </tr>\n",
       "    <tr>\n",
       "      <th>16007</th>\n",
       "      <td>1800011000</td>\n",
       "      <td>6200034439</td>\n",
       "      <td>2024-08-01</td>\n",
       "      <td>2024-08-30</td>\n",
       "      <td>2024-08-20</td>\n",
       "      <td>NaT</td>\n",
       "      <td>False</td>\n",
       "      <td>True</td>\n",
       "      <td>False</td>\n",
       "      <td>False</td>\n",
       "    </tr>\n",
       "    <tr>\n",
       "      <th>16008</th>\n",
       "      <td>1800011001</td>\n",
       "      <td>4300004463</td>\n",
       "      <td>2024-08-07</td>\n",
       "      <td>2024-09-11</td>\n",
       "      <td>2024-09-06</td>\n",
       "      <td>2024-06-09</td>\n",
       "      <td>False</td>\n",
       "      <td>True</td>\n",
       "      <td>True</td>\n",
       "      <td>True</td>\n",
       "    </tr>\n",
       "    <tr>\n",
       "      <th>16009</th>\n",
       "      <td>1800011013</td>\n",
       "      <td>6200034619</td>\n",
       "      <td>2024-09-02</td>\n",
       "      <td>2024-09-30</td>\n",
       "      <td>2024-09-10</td>\n",
       "      <td>2024-10-09</td>\n",
       "      <td>False</td>\n",
       "      <td>True</td>\n",
       "      <td>False</td>\n",
       "      <td>False</td>\n",
       "    </tr>\n",
       "    <tr>\n",
       "      <th>16010</th>\n",
       "      <td>1800011014</td>\n",
       "      <td>6200034621</td>\n",
       "      <td>2024-09-04</td>\n",
       "      <td>2024-10-01</td>\n",
       "      <td>2024-09-11</td>\n",
       "      <td>2024-11-09</td>\n",
       "      <td>False</td>\n",
       "      <td>True</td>\n",
       "      <td>False</td>\n",
       "      <td>False</td>\n",
       "    </tr>\n",
       "    <tr>\n",
       "      <th>16011</th>\n",
       "      <td>1800011018</td>\n",
       "      <td>6200034681</td>\n",
       "      <td>2024-09-13</td>\n",
       "      <td>2024-09-20</td>\n",
       "      <td>2024-09-18</td>\n",
       "      <td>NaT</td>\n",
       "      <td>False</td>\n",
       "      <td>True</td>\n",
       "      <td>False</td>\n",
       "      <td>False</td>\n",
       "    </tr>\n",
       "  </tbody>\n",
       "</table>\n",
       "<p>4614 rows × 10 columns</p>\n",
       "</div>"
      ],
      "text/plain": [
       "      Purchase Requisition Purchase order pr_creation pr_release po_creation  \\\n",
       "1               1000001519     6200033591  2024-01-19 2024-12-31  2024-03-11   \n",
       "2               1000001562     3400007581  2024-01-29 2024-12-31  2023-10-05   \n",
       "3               1000001634     3400007603  2024-04-26 2024-12-31  2024-05-31   \n",
       "4               1000001634     3400007603  2024-04-26 2024-12-31  2024-05-31   \n",
       "5               1000001662     3400007607  2024-05-20 2024-12-31  2024-06-27   \n",
       "...                    ...            ...         ...        ...         ...   \n",
       "16007           1800011000     6200034439  2024-08-01 2024-08-30  2024-08-20   \n",
       "16008           1800011001     4300004463  2024-08-07 2024-09-11  2024-09-06   \n",
       "16009           1800011013     6200034619  2024-09-02 2024-09-30  2024-09-10   \n",
       "16010           1800011014     6200034621  2024-09-04 2024-10-01  2024-09-11   \n",
       "16011           1800011018     6200034681  2024-09-13 2024-09-20  2024-09-18   \n",
       "\n",
       "      po_release  po_before_pr_creation  po_before_pr_release  \\\n",
       "1     2024-12-03                  False                  True   \n",
       "2     2023-05-10                   True                  True   \n",
       "3     2024-03-06                  False                  True   \n",
       "4     2024-03-06                  False                  True   \n",
       "5     2024-09-07                  False                  True   \n",
       "...          ...                    ...                   ...   \n",
       "16007        NaT                  False                  True   \n",
       "16008 2024-06-09                  False                  True   \n",
       "16009 2024-10-09                  False                  True   \n",
       "16010 2024-11-09                  False                  True   \n",
       "16011        NaT                  False                  True   \n",
       "\n",
       "       po_release_before_pr_creation  po_release_before_pr_release  \n",
       "1                              False                          True  \n",
       "2                               True                          True  \n",
       "3                               True                          True  \n",
       "4                               True                          True  \n",
       "5                              False                          True  \n",
       "...                              ...                           ...  \n",
       "16007                          False                         False  \n",
       "16008                           True                          True  \n",
       "16009                          False                         False  \n",
       "16010                          False                         False  \n",
       "16011                          False                         False  \n",
       "\n",
       "[4614 rows x 10 columns]"
      ]
     },
     "execution_count": 521,
     "metadata": {},
     "output_type": "execute_result"
    }
   ],
   "source": [
    "import pandas as pd\n",
    "\n",
    "# assume final_big_data is already loaded\n",
    "\n",
    "# 1. Cast the four date columns to datetime\n",
    "date_cols = {\n",
    "    'Requisition date':        'pr_creation',\n",
    "    'Release Date':            'pr_release',\n",
    "    'Created On_ekko':     'po_creation',\n",
    "    'First PO Release Date_PO':'po_release'\n",
    "}\n",
    "df = final_big_data.rename(columns=date_cols).copy()\n",
    "for col in ['pr_creation', 'pr_release', 'po_creation', 'po_release']:\n",
    "    df[col] = pd.to_datetime(df[col], errors='coerce')\n",
    "\n",
    "# 2. Build boolean flags for each violation\n",
    "v1 = df['po_creation'] < df['pr_creation']\n",
    "v2 = df['po_creation'] < df['pr_release']\n",
    "v3 = df['po_release']  < df['pr_creation']\n",
    "v4 = df['po_release']  < df['pr_release']\n",
    "\n",
    "# 3. Combine into one “any-violation” mask\n",
    "violation = v1 | v2 | v3 | v4\n",
    "\n",
    "# 4. Filter to only the offending records\n",
    "flagged = df[violation]\n",
    "\n",
    "# 5. Inspect key columns and which checks failed\n",
    "flagged_output = flagged.assign(\n",
    "    po_before_pr_creation=v1,\n",
    "    po_before_pr_release=v2,\n",
    "    po_release_before_pr_creation=v3,\n",
    "    po_release_before_pr_release=v4\n",
    ")[[\n",
    "    'Purchase Requisition',\n",
    "    'Purchase order',\n",
    "    'pr_creation',\n",
    "    'pr_release',\n",
    "    'po_creation',\n",
    "    'po_release',\n",
    "    'po_before_pr_creation',\n",
    "    'po_before_pr_release',\n",
    "    'po_release_before_pr_creation',\n",
    "    'po_release_before_pr_release'\n",
    "]]\n",
    "\n",
    "print(\"Transactions where PO dates precede PR dates:\")\n",
    "flagged_output"
   ]
  },
  {
   "cell_type": "code",
   "execution_count": 522,
   "id": "5ff1da00-3afd-479a-b6ab-ebc4793a00b3",
   "metadata": {},
   "outputs": [],
   "source": [
    "flagged_output.to_csv(\"Transactions_where_PO_Date_is_prior_to_PR.csv\", index=False)"
   ]
  },
  {
   "cell_type": "code",
   "execution_count": null,
   "id": "ab4779a8-e74c-42f2-8e44-849443301479",
   "metadata": {},
   "outputs": [],
   "source": []
  },
  {
   "cell_type": "code",
   "execution_count": null,
   "id": "85a52fc4-61e0-43d4-8687-bc72a018c588",
   "metadata": {},
   "outputs": [],
   "source": []
  },
  {
   "cell_type": "code",
   "execution_count": null,
   "id": "702f429a-b831-420c-9989-ab041472cfe4",
   "metadata": {},
   "outputs": [],
   "source": []
  }
 ],
 "metadata": {
  "kernelspec": {
   "display_name": "Python 3 (ipykernel)",
   "language": "python",
   "name": "python3"
  },
  "language_info": {
   "codemirror_mode": {
    "name": "ipython",
    "version": 3
   },
   "file_extension": ".py",
   "mimetype": "text/x-python",
   "name": "python",
   "nbconvert_exporter": "python",
   "pygments_lexer": "ipython3",
   "version": "3.12.7"
  }
 },
 "nbformat": 4,
 "nbformat_minor": 5
}
