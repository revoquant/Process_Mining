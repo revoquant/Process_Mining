{
 "cells": [
  {
   "cell_type": "code",
   "execution_count": 4,
   "id": "9db502d1-6e3e-43e2-85cb-d2a0d1237891",
   "metadata": {},
   "outputs": [
    {
     "name": "stdout",
     "output_type": "stream",
     "text": [
      "          FNAME TABNAME                           LABEL\n",
      "0           KEY    EKKO                             NaN\n",
      "1           KEY    EKPA                             NaN\n",
      "2         NETWR    EKKN  Net Order Value in PO Currency\n",
      "3         RETPC    EKKO            Retention in Percent\n",
      "4         RETTP    EKKO             Retention Indicator\n",
      "5       ZZAGDEL    EKKO                             NaN\n",
      "6      ZZCONTPO    EKKO                             NaN\n",
      "7  ZZDLC_APPLIC    EKKO                             NaN\n",
      "8       ZZPCAPP    EKKO                             NaN\n",
      "9      ZZRET_PZ    EKKO                             NaN\n"
     ]
    }
   ],
   "source": [
    "import pandas as pd\n",
    "\n",
    "# 1) Load your two files\n",
    "cdpos = pd.read_csv(\"CDPOS PO.csv\", dtype=str)      # your CDPOS extract\n",
    "dd03vt = pd.read_csv(\"DD03VT for All Tables.csv\", dtype=str)       # your DD03VT dump\n",
    "\n",
    "# 2) Normalize case (just in case)\n",
    "cdpos[\"FNAME\"]  = cdpos[\"FNAME\"].str.upper()\n",
    "dd03vt[\"FIELDNAME\"] = dd03vt[\"FIELDNAME\"].str.upper()\n",
    "dd03vt[\"TABNAME\"]   = dd03vt[\"TABNAME\"].str.upper()\n",
    "cdpos[\"TABNAME\"]    = cdpos[\"TABNAME\"].str.upper()\n",
    "\n",
    "# 3) Filter DD03VT to only the language & table‐class you want\n",
    "dd03vt_en = dd03vt[\n",
    "    (dd03vt[\"DDLANGUAGE\"] == \"EN\")\n",
    "    # you could also restrict to TABCLASS='TRANSP' if you like\n",
    "]\n",
    "\n",
    "# 4) Merge (left-join) CDPOS → DD03VT on both FNAME and TABNAME\n",
    "merged = cdpos.merge(\n",
    "    dd03vt_en[[\"FIELDNAME\", \"TABNAME\", \"DDTEXT\", \"SCRTEXT_M\"]],\n",
    "    left_on = [\"FNAME\", \"TABNAME\"],\n",
    "    right_on= [\"FIELDNAME\", \"TABNAME\"],\n",
    "    how     = \"left\",\n",
    ")\n",
    "\n",
    "# 5) Pick whichever text column you prefer as your “functional” label\n",
    "#    e.g. DDTEXT is the full description, SCRTEXT_M the medium-length.\n",
    "merged[\"LABEL\"] = merged[\"DDTEXT\"].fillna(merged[\"SCRTEXT_M\"])\n",
    "\n",
    "# 6) (Optional) drop the helper columns\n",
    "merged = merged.drop(columns=[\"FIELDNAME\",\"DDTEXT\",\"SCRTEXT_M\"])\n",
    "\n",
    "# 7) Inspect\n",
    "print( merged[[\"FNAME\",\"TABNAME\",\"LABEL\"]].drop_duplicates().head(10) )\n"
   ]
  },
  {
   "cell_type": "code",
   "execution_count": 5,
   "id": "89cdf41f-0cab-4bcb-9a2a-2a822372baef",
   "metadata": {},
   "outputs": [
    {
     "name": "stdout",
     "output_type": "stream",
     "text": [
      "Wrote cdpos_po_with_labels.csv — sample:\n",
      "          FNAME TABNAME        LABEL\n",
      "0           KEY    EKKO          NaN\n",
      "1           KEY    EKPA          NaN\n",
      "2         NETWR    EKKN    Net Value\n",
      "3         RETPC    EKKO  Retention %\n",
      "4         RETTP    EKKO    Retention\n",
      "5       ZZAGDEL    EKKO          NaN\n",
      "6      ZZCONTPO    EKKO          NaN\n",
      "7  ZZDLC_APPLIC    EKKO          NaN\n",
      "8       ZZPCAPP    EKKO          NaN\n",
      "9      ZZRET_PZ    EKKO          NaN\n",
      "\n",
      "Wrote cdpos_pr_with_labels.csv — sample:\n",
      "    FNAME TABNAME            LABEL\n",
      "0   B01 E    BANF              NaN\n",
      "4   PREIS    EBAN  Valuation Price\n",
      "5   NETWR    EBKN        Net Value\n",
      "10  FRGZU    EBAN   Release status\n",
      "11  RLWRT    EBAN   Tot. val. rel.\n",
      "14  BANPR    EBAN      Proc. state\n",
      "15  FRGKZ    EBAN     Release ind.\n",
      "36  BEDAT    EBAN          PO Date\n",
      "37  BSMNG    EBAN      PO Quantity\n",
      "38  EBELN    EBAN   Purchase Order\n"
     ]
    }
   ],
   "source": [
    "import pandas as pd\n",
    "\n",
    "def add_labels(cdpos_df: pd.DataFrame, dd03vt_en: pd.DataFrame) -> pd.DataFrame:\n",
    "    # Normalize join-keys\n",
    "    cdpos_df[\"FNAME\"]   = cdpos_df[\"FNAME\"].str.upper()\n",
    "    cdpos_df[\"TABNAME\"] = cdpos_df[\"TABNAME\"].str.upper()\n",
    "\n",
    "    # Merge on (FNAME, TABNAME) → (FIELDNAME, TABNAME)\n",
    "    merged = cdpos_df.merge(\n",
    "        dd03vt_en[[\"FIELDNAME\", \"TABNAME\", \"SCRTEXT_M\"]],\n",
    "        left_on  = [\"FNAME\", \"TABNAME\"],\n",
    "        right_on = [\"FIELDNAME\", \"TABNAME\"],\n",
    "        how       = \"left\",\n",
    "    )\n",
    "\n",
    "    # Use only the medium screen text as LABEL\n",
    "    merged[\"LABEL\"] = merged[\"SCRTEXT_M\"]\n",
    "\n",
    "    # Drop helper cols\n",
    "    return merged.drop(\n",
    "        columns=[\"FIELDNAME\", \"SCRTEXT_S\", \"SCRTEXT_M\", \"SCRTEXT_L\"],\n",
    "        errors=\"ignore\"\n",
    "    )\n",
    "\n",
    "# ─── 1) Load DD03VT ────────────────────────────────────────────────────────────\n",
    "dd03vt = pd.read_csv(\"DD03VT for All Tables.csv\", dtype=str)\n",
    "dd03vt[\"FIELDNAME\"] = dd03vt[\"FIELDNAME\"].str.upper()\n",
    "dd03vt[\"TABNAME\"]    = dd03vt[\"TABNAME\"].str.upper()\n",
    "\n",
    "# Keep only English entries (and transparent if desired)\n",
    "dd03vt_en = dd03vt[\n",
    "    (dd03vt[\"DDLANGUAGE\"] == \"EN\")\n",
    "    # & (dd03vt[\"TABCLASS\"] == \"TRANSP\")\n",
    "]\n",
    "\n",
    "# ─── 2) PO file ───────────────────────────────────────────────────────────────\n",
    "cdpos_po = pd.read_csv(\"CDPOS PO.csv\", dtype=str)\n",
    "labeled_po = add_labels(cdpos_po, dd03vt_en)\n",
    "# labeled_po.to_csv(\"cdpos_po_with_labels.csv\", index=False)\n",
    "print(\"Wrote cdpos_po_with_labels.csv — sample:\")\n",
    "print(labeled_po[[\"FNAME\",\"TABNAME\",\"LABEL\"]].drop_duplicates().head(10))\n",
    "\n",
    "# ─── 3) PR file ───────────────────────────────────────────────────────────────\n",
    "cdpos_pr = pd.read_csv(\"CDPOS PR.csv\", dtype=str)\n",
    "labeled_pr = add_labels(cdpos_pr, dd03vt_en)\n",
    "# labeled_pr.to_csv(\"cdpos_pr_with_labels.csv\", index=False)\n",
    "print(\"\\nWrote cdpos_pr_with_labels.csv — sample:\")\n",
    "print(labeled_pr[[\"FNAME\",\"TABNAME\",\"LABEL\"]].drop_duplicates().head(10))\n"
   ]
  },
  {
   "cell_type": "code",
   "execution_count": 7,
   "id": "69be9bfa-02d4-4663-8b27-ae84333911fa",
   "metadata": {},
   "outputs": [
    {
     "data": {
      "text/plain": [
       "array([nan, 'Net Value', 'Retention %', 'Retention', 'Gross value',\n",
       "       'Effective value', 'Non-deductible', 'Net Price',\n",
       "       'Down Payment Amt', 'Due Date for DP', 'Down Payment %',\n",
       "       'Down Payment', 'Release ind.', 'Rel. Strategy', 'Incoterms',\n",
       "       'Incomplete', 'Incompl. Cat.', 'Proc. state', 'Release status',\n",
       "       'Tot. val. rel.', 'Changed On', 'Payment in', 'Payt Terms',\n",
       "       'Validity Start', 'Validity End', 'Deletion Ind.', 'Statistical',\n",
       "       'Reason for Ord.', 'Tax code', 'Deliv. Compl.', 'RFQ', 'Item',\n",
       "       'Quantity', 'Distribution', 'Incoterms 2', 'Inco. Location1',\n",
       "       'Purch. Group', 'Delivery Date', 'Stat. Del. Date',\n",
       "       'Partial Invoice', 'Our Reference', 'Address', 'WBS Element',\n",
       "       'Short Text', 'Package number', 'Commitments', 'Commitment Item',\n",
       "       'Quotation Date', 'Address Number', 'Quotation', 'Your Reference',\n",
       "       'Order', 'Material Group', 'Currency', 'Exchange Rate',\n",
       "       'GR Message', 'Complete Deliv.', 'Requisitioner',\n",
       "       'Tracking Number', 'MRP Area', 'IUID-Relevant', 'Telephone',\n",
       "       'Salesperson', 'Exch.Rate Fixed', 'Collective No.', 'CO Area',\n",
       "       'Cost Center', 'Profit Center', 'Purchasing Org.', 'Procedure',\n",
       "       'Srv.-Based Inv. Ver.', 'Price Unit', 'Warranty', 'Info Record',\n",
       "       'InfoUpdate', 'Price Date', 'Agreement', 'Requisn Item',\n",
       "       'Material', 'Scheduled Qty', 'PO Quantity', 'Rem. Shelf Life',\n",
       "       'Stor. Location', 'Purchase Req.', 'Acct Assgt Cat.',\n",
       "       'Order Price Un.', 'Base Unit', 'Order Unit', 'GR-Based IV',\n",
       "       'Agreement Item', 'Document Date', 'Qty Conversion',\n",
       "       'Material Type', 'Denominator', 'Equal To', 'ML act.', 'Plant',\n",
       "       'Pl. Deliv. Time', 'GR Proc. Time', 'Inco. Location2',\n",
       "       'Item Category', 'Unlimited', 'G/L Account'], dtype=object)"
      ]
     },
     "execution_count": 7,
     "metadata": {},
     "output_type": "execute_result"
    }
   ],
   "source": [
    "labeled_po[\"LABEL\"].unique()"
   ]
  },
  {
   "cell_type": "code",
   "execution_count": 8,
   "id": "208555c8-1399-4ec8-af43-4de2afd44b17",
   "metadata": {},
   "outputs": [
    {
     "data": {
      "text/plain": [
       "array([nan, 'Valuation Price', 'Net Value', 'Release status',\n",
       "       'Tot. val. rel.', 'Proc. state', 'Release ind.', 'PO Date',\n",
       "       'PO Quantity', 'Purchase Order', 'Item', 'Quantity',\n",
       "       'Distribution', 'WBS Element', 'Closed', 'PO Qty on Hold',\n",
       "       'Rel. Strategy', 'Release Date', 'Delivery Date', 'Short Text',\n",
       "       'Deletion Ind.', 'Tracking Number', 'Requisitioner',\n",
       "       'Partial Invoice', 'Purch. Group', 'Commitment Item',\n",
       "       'Material Group', 'Pl. Deliv. Time', 'Order', 'not in use',\n",
       "       'Recipient', 'Block', 'Blocking Text', 'Profit Center',\n",
       "       'Stor. Location', 'Material', 'MRP Area', 'Plant', 'Fixed Ind.',\n",
       "       'Commitments', 'Unit of Measure', 'G/L Account', 'Address',\n",
       "       'Acct Assgt Cat.', 'Cost Center', 'GR Proc. Time', 'Currency',\n",
       "       'MRP Controller', 'Order Unit', 'Vendor Mat. No.',\n",
       "       'Package number', 'Item Category'], dtype=object)"
      ]
     },
     "execution_count": 8,
     "metadata": {},
     "output_type": "execute_result"
    }
   ],
   "source": [
    "labeled_pr[\"LABEL\"].unique()"
   ]
  },
  {
   "cell_type": "code",
   "execution_count": null,
   "id": "7a6bd778-0b52-4da2-9fe0-634fac9ee4bb",
   "metadata": {},
   "outputs": [],
   "source": []
  }
 ],
 "metadata": {
  "kernelspec": {
   "display_name": "Python 3 (ipykernel)",
   "language": "python",
   "name": "python3"
  },
  "language_info": {
   "codemirror_mode": {
    "name": "ipython",
    "version": 3
   },
   "file_extension": ".py",
   "mimetype": "text/x-python",
   "name": "python",
   "nbconvert_exporter": "python",
   "pygments_lexer": "ipython3",
   "version": "3.12.7"
  }
 },
 "nbformat": 4,
 "nbformat_minor": 5
}
